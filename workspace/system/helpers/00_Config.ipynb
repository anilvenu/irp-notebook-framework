{
 "cells": [
  {
   "cell_type": "markdown",
   "metadata": {},
   "source": [
    "# Configuration Helper\n",
    "This notebook sets up common configuration used by all other helpers.\n",
    "Run this with: `%run /workspace/system/helpers/00_Config.ipynb`"
   ]
  },
  {
   "cell_type": "code",
   "execution_count": null,
   "metadata": {},
   "outputs": [],
   "source": [
    "# Configuration Helper\n",
    "# Run this with: %run /workspace/system/helpers/00_Config.ipynb\n",
    "\n",
    "# Standard imports\n",
    "import os\n",
    "import sys\n",
    "import json\n",
    "import pandas as pd\n",
    "import psycopg2  # Changed from pyodbc\n",
    "from psycopg2.extras import RealDictCursor\n",
    "from datetime import datetime, timezone\n",
    "from pathlib import Path\n",
    "from typing import Dict, List, Optional, Any, Tuple\n",
    "from tabulate import tabulate\n",
    "\n",
    "# Set base paths\n",
    "BASE_PATH = Path('/workspace')\n",
    "SYSTEM_PATH = BASE_PATH / 'system'\n",
    "WORKFLOWS_PATH = BASE_PATH / 'workflows'\n",
    "HELPERS_PATH = SYSTEM_PATH / 'helpers'\n",
    "TEMPLATE_PATH = WORKFLOWS_PATH / '_Template'\n",
    "TOOLS_PATH = WORKFLOWS_PATH / '_Tools'\n",
    "ARCHIVE_PATH = WORKFLOWS_PATH / '_Archive'\n",
    "\n",
    "# Database configuration from environment\n",
    "DB_CONFIG = {\n",
    "    'server': os.getenv('DB_SERVER', 'postgres'),  \n",
    "    'database': os.getenv('DB_NAME', 'irp_db'),    \n",
    "    'username': os.getenv('DB_USER', 'irp_user'),  \n",
    "    'password': os.getenv('DB_PASSWORD', 'irp_pass'),\n",
    "    'port': os.getenv('DB_PORT', '5432')\n",
    "}\n",
    "\n",
    "# System configuration\n",
    "SYSTEM_USER = os.getenv('SYSTEM_USER', 'notebook_user')\n",
    "LOG_LEVEL = os.getenv('LOG_LEVEL', 'INFO')\n",
    "\n",
    "# Status constants\n",
    "CYCLE_STATUS = {'ACTIVE': 'active', 'ARCHIVED': 'archived', 'FAILED': 'failed'}\n",
    "STEP_STATUS = {'RUNNING': 'running', 'COMPLETED': 'completed', 'FAILED': 'failed', 'SKIPPED': 'skipped'}\n",
    "BATCH_STATUS = {'PENDING': 'pending', 'RUNNING': 'running', 'COMPLETED': 'completed', 'FAILED': 'failed', 'CANCELLED': 'cancelled'}\n",
    "JOB_STATUS = {'PENDING': 'pending', 'SUBMITTED': 'submitted', 'QUEUED': 'queued', 'RUNNING': 'running', \n",
    "              'COMPLETED': 'completed', 'FAILED': 'failed', 'CANCELLED': 'cancelled'}\n",
    "\n",
    "# Display settings\n",
    "pd.set_option('display.max_columns', None)\n",
    "pd.set_option('display.width', None)\n",
    "pd.set_option('display.max_colwidth', 50)\n",
    "\n",
    "print(f\"✅ Configuration loaded - Base path: {BASE_PATH}\")"
   ]
  }
 ],
 "metadata": {
  "kernelspec": {
   "display_name": "Python 3",
   "language": "python",
   "name": "python3"
  },
  "language_info": {
   "name": "python"
  }
 },
 "nbformat": 4,
 "nbformat_minor": 4
}
