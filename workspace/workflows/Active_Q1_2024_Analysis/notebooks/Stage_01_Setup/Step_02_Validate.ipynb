{
 "cells": [
  {
   "cell_type": "markdown",
   "metadata": {},
   "source": [
    "# Stage 1: Setup - Step 2: Validate Configuration\n",
    "\n",
    "This step validates that all required configurations and files are in place.\n",
    "\n",
    "**Purpose:**\n",
    "- Check for required configuration files\n",
    "- Validate file formats\n",
    "- Verify data integrity\n",
    "- Report any issues"
   ]
  },
  {
   "cell_type": "code",
   "execution_count": 1,
   "metadata": {},
   "outputs": [
    {
     "name": "stdout",
     "output_type": "stream",
     "text": [
      "✅ Configuration loaded - Base path: /workspace\n",
      "✅ Database connection successful\n",
      "✅ Step Tracker loaded\n",
      "✅ Display utilities loaded\n",
      "❌ Active cycle '{{CYCLE_NAME}}' not found\n",
      "Step cannot be executed. Check the message above.\n"
     ]
    }
   ],
   "source": [
    "# Step tracking initialization\n",
    "%run /workspace/system/helpers/03_StepTracker.ipynb\n",
    "%run /workspace/system/helpers/04_Display.ipynb\n",
    "\n",
    "# Initialize step tracker\n",
    "step = StepTracker(\n",
    "    cycle_name=\"{{CYCLE_NAME}}\",\n",
    "    stage_num=1,\n",
    "    step_num=2,\n",
    "    idempotent=False,  # This step should not be re-run once completed\n",
    "    auto_start=True\n",
    ")\n",
    "\n",
    "if not step.can_execute:\n",
    "    print(\"Step cannot be executed. Check the message above.\")"
   ]
  },
  {
   "cell_type": "markdown",
   "metadata": {},
   "source": [
    "## Validation Logic"
   ]
  },
  {
   "cell_type": "code",
   "execution_count": 2,
   "metadata": {},
   "outputs": [],
   "source": [
    "if step.can_execute:\n",
    "    try:\n",
    "        print_header(\"Configuration Validation\")\n",
    "        \n",
    "        from pathlib import Path\n",
    "        import json\n",
    "        \n",
    "        # Get cycle information\n",
    "        active = get_active_cycle()\n",
    "        cycle_dir = Path(f\"/workspace/workflows/Active_{active['cycle_name']}\")\n",
    "        files_dir = cycle_dir / \"files\"\n",
    "        \n",
    "        validation_results = {\n",
    "            'passed': [],\n",
    "            'failed': [],\n",
    "            'warnings': []\n",
    "        }\n",
    "        \n",
    "        # 1. Check for Excel configuration files\n",
    "        print(\"\\n1. Checking for Excel configuration files...\")\n",
    "        excel_dir = files_dir / \"excel_configuration\"\n",
    "        if excel_dir.exists():\n",
    "            excel_files = list(excel_dir.glob(\"*.xlsx\")) + list(excel_dir.glob(\"*.xls\"))\n",
    "            if excel_files:\n",
    "                print(f\"   ✅ Found {len(excel_files)} Excel file(s)\")\n",
    "                for f in excel_files:\n",
    "                    print(f\"      - {f.name}\")\n",
    "                validation_results['passed'].append(f\"Excel files: {len(excel_files)} found\")\n",
    "            else:\n",
    "                print(\"   ⚠️ No Excel files found\")\n",
    "                validation_results['warnings'].append(\"No Excel configuration files\")\n",
    "        else:\n",
    "            excel_dir.mkdir(parents=True, exist_ok=True)\n",
    "            print(f\"   ℹ️ Created directory: {excel_dir}\")\n",
    "            validation_results['warnings'].append(\"Excel directory created\")\n",
    "        \n",
    "        # 2. Check for extracted configurations\n",
    "        print(\"\\n2. Checking for extracted configurations...\")\n",
    "        extract_dir = files_dir / \"extracted_configurations\"\n",
    "        if extract_dir.exists():\n",
    "            json_files = list(extract_dir.glob(\"*.json\"))\n",
    "            if json_files:\n",
    "                print(f\"   ✅ Found {len(json_files)} JSON configuration(s)\")\n",
    "                validation_results['passed'].append(f\"JSON configs: {len(json_files)} found\")\n",
    "            else:\n",
    "                print(\"   ℹ️ No extracted configurations yet\")\n",
    "                validation_results['warnings'].append(\"No extracted configurations\")\n",
    "        else:\n",
    "            extract_dir.mkdir(parents=True, exist_ok=True)\n",
    "            print(f\"   ℹ️ Created directory: {extract_dir}\")\n",
    "            validation_results['warnings'].append(\"Extract directory created\")\n",
    "        \n",
    "        # 3. Check database tables\n",
    "        print(\"\\n3. Checking database tables...\")\n",
    "        required_tables = ['irp_cycle', 'irp_stage', 'irp_step', 'irp_batch', 'irp_job']\n",
    "        for table in required_tables:\n",
    "            try:\n",
    "                count = execute_scalar(f\"SELECT COUNT(*) FROM {table}\")\n",
    "                print(f\"   ✅ Table {table}: {count} rows\")\n",
    "                validation_results['passed'].append(f\"Table {table} exists\")\n",
    "            except Exception as e:\n",
    "                print(f\"   ❌ Table {table}: Not found\")\n",
    "                validation_results['failed'].append(f\"Table {table} missing\")\n",
    "        \n",
    "        # 4. Summary\n",
    "        print(\"\\n\" + \"=\" * 60)\n",
    "        print(\"Validation Summary:\")\n",
    "        print(f\"  ✅ Passed: {len(validation_results['passed'])}\")\n",
    "        print(f\"  ⚠️ Warnings: {len(validation_results['warnings'])}\")\n",
    "        print(f\"  ❌ Failed: {len(validation_results['failed'])}\")\n",
    "        \n",
    "        # Determine if validation passed\n",
    "        if validation_results['failed']:\n",
    "            raise Exception(f\"Validation failed with {len(validation_results['failed'])} errors\")\n",
    "        \n",
    "        # Mark step as completed\n",
    "        step.complete_run(validation_results)\n",
    "        \n",
    "        print(\"\\n✅ VALIDATION COMPLETE\")\n",
    "        if validation_results['warnings']:\n",
    "            print(\"\\nWarnings to address:\")\n",
    "            for warning in validation_results['warnings']:\n",
    "                print(f\"  ⚠️ {warning}\")\n",
    "        \n",
    "    except Exception as e:\n",
    "        step.fail_run(str(e))\n",
    "        print(f\"\\n❌ Validation failed: {e}\")\n",
    "        raise"
   ]
  },
  {
   "cell_type": "markdown",
   "metadata": {},
   "source": [
    "## Next Steps"
   ]
  },
  {
   "cell_type": "code",
   "execution_count": 3,
   "metadata": {},
   "outputs": [
    {
     "name": "stdout",
     "output_type": "stream",
     "text": [
      "============================================================\n",
      " Next Steps\n",
      "============================================================\n",
      "\n",
      "Based on the validation results:\n",
      "\n",
      "1. If Excel files are missing:\n",
      "   - Add configuration files to: files/excel_configuration/\n",
      "   \n",
      "2. If database tables are missing:\n",
      "   - Run Database_Admin.ipynb to initialize\n",
      "   \n",
      "3. Once all validations pass:\n",
      "   - Proceed to Stage 2 notebooks\n",
      "\n"
     ]
    }
   ],
   "source": [
    "print_header(\"Next Steps\")\n",
    "\n",
    "print(\"\"\"\n",
    "Based on the validation results:\n",
    "\n",
    "1. If Excel files are missing:\n",
    "   - Add configuration files to: files/excel_configuration/\n",
    "   \n",
    "2. If database tables are missing:\n",
    "   - Run Database_Admin.ipynb to initialize\n",
    "   \n",
    "3. Once all validations pass:\n",
    "   - Proceed to Stage 2 notebooks\n",
    "\"\"\")"
   ]
  },
  {
   "cell_type": "code",
   "execution_count": null,
   "metadata": {},
   "outputs": [],
   "source": []
  },
  {
   "cell_type": "code",
   "execution_count": null,
   "metadata": {},
   "outputs": [],
   "source": []
  },
  {
   "cell_type": "code",
   "execution_count": null,
   "metadata": {},
   "outputs": [],
   "source": []
  }
 ],
 "metadata": {
  "kernelspec": {
   "display_name": "Python 3 (ipykernel)",
   "language": "python",
   "name": "python3"
  },
  "language_info": {
   "codemirror_mode": {
    "name": "ipython",
    "version": 3
   },
   "file_extension": ".py",
   "mimetype": "text/x-python",
   "name": "python",
   "nbconvert_exporter": "python",
   "pygments_lexer": "ipython3",
   "version": "3.11.6"
  }
 },
 "nbformat": 4,
 "nbformat_minor": 4
}
