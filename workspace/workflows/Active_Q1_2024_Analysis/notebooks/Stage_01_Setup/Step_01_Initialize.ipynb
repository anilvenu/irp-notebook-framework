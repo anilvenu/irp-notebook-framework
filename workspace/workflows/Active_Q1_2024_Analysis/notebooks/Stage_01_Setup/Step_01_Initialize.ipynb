{
 "cells": [
  {
   "cell_type": "markdown",
   "metadata": {},
   "source": [
    "# Stage 1: Setup - Step 1: Initialize\n",
    "\n",
    "This step initializes the workflow and validates the environment.\n",
    "\n",
    "**Purpose:**\n",
    "- Verify database connectivity\n",
    "- Validate cycle configuration\n",
    "- Set up working directories\n",
    "- Initialize logging"
   ]
  },
  {
   "cell_type": "code",
   "execution_count": 2,
   "metadata": {},
   "outputs": [
    {
     "name": "stdout",
     "output_type": "stream",
     "text": [
      "✅ Configuration loaded - Base path: /workspace\n",
      "✅ Database connection successful\n",
      "✅ Step Tracker loaded\n",
      "✅ Display utilities loaded\n"
     ]
    }
   ],
   "source": [
    "# Step tracking initialization\n",
    "%run /workspace/system/helpers/03_StepTracker.ipynb\n",
    "%run /workspace/system/helpers/04_Display.ipynb"
   ]
  },
  {
   "cell_type": "code",
   "execution_count": 13,
   "metadata": {},
   "outputs": [
    {
     "name": "stdout",
     "output_type": "stream",
     "text": [
      "⚠️  Step is currently running\n",
      "Step cannot be executed. Check the message above.\n"
     ]
    }
   ],
   "source": [
    "from system.helpers.workflow_context import get_workflow_context\n",
    "context = get_workflow_context()\n",
    "step = StepTracker(cycle_name=context.cycle_name, stage_num=context.stage_num, step_num=context.step_num, idempotent=False, auto_start=True)\n",
    "if not step.can_execute:\n",
    "    print(\"Step cannot be executed. Check the message above.\")"
   ]
  },
  {
   "cell_type": "markdown",
   "metadata": {},
   "source": [
    "## Step Execution"
   ]
  },
  {
   "cell_type": "code",
   "execution_count": 10,
   "metadata": {},
   "outputs": [
    {
     "name": "stdout",
     "output_type": "stream",
     "text": [
      "============================================================\n",
      " Initializing Workflow\n",
      "============================================================\n",
      "\n",
      "1. Testing database connection...\n",
      "   ✅ Database connected\n",
      "\n",
      "2. Verifying active cycle...\n",
      "   ✅ Active cycle: Q1_2024_Analysis\n",
      "\n",
      "3. Setting up directories...\n",
      "   ✅ Files directory: /workspace/workflows/Active_Q1_2024_Analysis/files\n",
      "   ✅ Logs directory: /workspace/workflows/Active_Q1_2024_Analysis/logs\n",
      "\n",
      "4. Initializing logging...\n",
      "   ✅ Log file: /workspace/workflows/Active_Q1_2024_Analysis/logs/initialization_20251004_024857.log\n",
      "✅ Step 1.2 completed\n",
      "\n",
      "============================================================\n",
      "✅ INITIALIZATION COMPLETE\n",
      "============================================================\n"
     ]
    }
   ],
   "source": [
    "if step.can_execute:\n",
    "    try:\n",
    "        print_header(\"Initializing Workflow\")\n",
    "        \n",
    "        # 1. Test database connection\n",
    "        print(\"\\n1. Testing database connection...\")\n",
    "        if test_connection():\n",
    "            print(\"   ✅ Database connected\")\n",
    "        else:\n",
    "            raise Exception(\"Database connection failed\")\n",
    "        \n",
    "        # 2. Verify active cycle\n",
    "        print(\"\\n2. Verifying active cycle...\")\n",
    "        active = get_active_cycle()\n",
    "        if active:\n",
    "            print(f\"   ✅ Active cycle: {active['cycle_name']}\")\n",
    "        else:\n",
    "            raise Exception(\"No active cycle found\")\n",
    "        \n",
    "        # 3. Set up working directories\n",
    "        print(\"\\n3. Setting up directories...\")\n",
    "        from pathlib import Path\n",
    "        \n",
    "        cycle_dir = Path(f\"/workspace/workflows/Active_{active['cycle_name']}\")\n",
    "        files_dir = cycle_dir / \"files\"\n",
    "        logs_dir = cycle_dir / \"logs\"\n",
    "        \n",
    "        files_dir.mkdir(exist_ok=True)\n",
    "        logs_dir.mkdir(exist_ok=True)\n",
    "        print(f\"   ✅ Files directory: {files_dir}\")\n",
    "        print(f\"   ✅ Logs directory: {logs_dir}\")\n",
    "        \n",
    "        # 4. Initialize logging\n",
    "        print(\"\\n4. Initializing logging...\")\n",
    "        import logging\n",
    "        from datetime import datetime\n",
    "        \n",
    "        log_file = logs_dir / f\"initialization_{datetime.now().strftime('%Y%m%d_%H%M%S')}.log\"\n",
    "        logging.basicConfig(\n",
    "            filename=str(log_file),\n",
    "            level=logging.INFO,\n",
    "            format='%(asctime)s - %(levelname)s - %(message)s'\n",
    "        )\n",
    "        logging.info(\"Workflow initialized\")\n",
    "        print(f\"   ✅ Log file: {log_file}\")\n",
    "        \n",
    "        # Store output data\n",
    "        output = {\n",
    "            'cycle_name': active['cycle_name'],\n",
    "            'cycle_id': active['id'],\n",
    "            'files_dir': str(files_dir),\n",
    "            'logs_dir': str(logs_dir),\n",
    "            'log_file': str(log_file)\n",
    "        }\n",
    "        \n",
    "        # Mark step as completed\n",
    "        step.complete_run(output)\n",
    "        \n",
    "        print(\"\\n\" + \"=\" * 60)\n",
    "        print(\"✅ INITIALIZATION COMPLETE\")\n",
    "        print(\"=\" * 60)\n",
    "        \n",
    "    except Exception as e:\n",
    "        # Mark step as failed\n",
    "        step.fail_run(str(e))\n",
    "        print(f\"\\n❌ Step failed: {e}\")\n",
    "        raise"
   ]
  },
  {
   "cell_type": "markdown",
   "metadata": {},
   "source": [
    "## Verification"
   ]
  },
  {
   "cell_type": "code",
   "execution_count": 11,
   "metadata": {},
   "outputs": [
    {
     "name": "stdout",
     "output_type": "stream",
     "text": [
      "============================================================\n",
      " Step Status\n",
      "============================================================\n",
      "------------------------------------------------------------\n",
      " Step Run History\n",
      "------------------------------------------------------------\n",
      "+-------------+--------------+------------+-------------+--------------+-----------+---------------------+---------------------+---------------+--------------------+\n",
      "|   stage_num | stage_name   |   step_num | step_name   |   run_number | status    | started_ts          | completed_ts        | started_by    | duration_seconds   |\n",
      "+=============+==============+============+=============+==============+===========+=====================+=====================+===============+====================+\n",
      "|           1 | Setup        |          2 | Validate    |            1 | completed | 2025-10-04 02:48:47 | 2025-10-04 02:48:57 | notebook_user | 9s                 |\n",
      "+-------------+--------------+------------+-------------+--------------+-----------+---------------------+---------------------+---------------+--------------------+\n"
     ]
    }
   ],
   "source": [
    "# Verify step completion\n",
    "print_header(\"Step Status\")\n",
    "\n",
    "history = get_step_history(step.cycle_name, step.stage_num, step.step_num)\n",
    "if not history.empty:\n",
    "    display_dataframe(history.head(5), title=\"Step Run History\")\n",
    "else:\n",
    "    print(\"No run history available\")"
   ]
  }
 ],
 "metadata": {
  "kernelspec": {
   "display_name": "Python 3 (ipykernel)",
   "language": "python",
   "name": "python3"
  },
  "language_info": {
   "codemirror_mode": {
    "name": "ipython",
    "version": 3
   },
   "file_extension": ".py",
   "mimetype": "text/x-python",
   "name": "python",
   "nbconvert_exporter": "python",
   "pygments_lexer": "ipython3",
   "version": "3.11.6"
  }
 },
 "nbformat": 4,
 "nbformat_minor": 4
}
