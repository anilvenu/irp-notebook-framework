{
 "cells": [
  {
   "cell_type": "code",
   "execution_count": null,
   "id": "691889ef-22fa-45aa-a58f-0d91a8b208a0",
   "metadata": {},
   "outputs": [],
   "source": [
    "from workflows.POC.schedule_and_parameters.interactive import yes_no, text_input, dropdown\n",
    "from system import ux\n",
    "import sys\n",
    "import re"
   ]
  },
  {
   "cell_type": "code",
   "execution_count": 2,
   "id": "463713b6-f288-4691-bcb2-2d9f98fdd8ef",
   "metadata": {},
   "outputs": [
    {
     "name": "stdout",
     "output_type": "stream",
     "text": [
      "Starting notebook execution...\n"
     ]
    }
   ],
   "source": [
    "print(\"Starting notebook execution...\")"
   ]
  },
  {
   "cell_type": "code",
   "execution_count": null,
   "id": "57e58202-7fd6-462e-aaaa-b51e4a58aab7",
   "metadata": {},
   "outputs": [
    {
     "name": "stdout",
     "output_type": "stream",
     "text": [
      "This notebook may have been executed before. Do you wish to proceed anyways? (y/n):  y\n"
     ]
    },
    {
     "data": {
      "text/html": [
       "<span style='color:green; font-weight:bold;'>Continuing execution...</span>"
      ],
      "text/plain": [
       "<IPython.core.display.HTML object>"
      ]
     },
     "metadata": {},
     "output_type": "display_data"
    }
   ],
   "source": [
    "if yes_no(\"This notebook may have been executed before. Do you wish to proceed anyways?\"):\n",
    "    ux.success(\"Continuing execution...\")\n",
    "else:\n",
    "    ux.error(\"Execution stopped.\")\n",
    "    sys.exit()"
   ]
  },
  {
   "cell_type": "code",
   "execution_count": null,
   "id": "91c45565-c124-4e92-99f1-50a3b4b9e8a9",
   "metadata": {},
   "outputs": [
    {
     "name": "stdout",
     "output_type": "stream",
     "text": [
      "Enter cycle name to proceed (e.g., Analysis-2025-Q4) (enter 'cancel' to stop)\n"
     ]
    }
   ],
   "source": [
    "def validate_cycle_name(cycle_name):\n",
    "    pattern = r\"^Analysis-20\\d{2}-Q[1-4]$\"\n",
    "    if re.fullmatch(pattern, cycle_name) is None:\n",
    "        print(\"Cycle name invalid.\")\n",
    "        return False\n",
    "    else:\n",
    "        return True\n",
    "\n",
    "new_cycle_name = text_input(\"Enter cycle name to proceed\", placeholder = \"Analysis-2025-Q4\", validation=validate_cycle_name)\n",
    "if new_cycle_name is None:\n",
    "    ux.error(\"Text input was canceled, execution stopped.\")\n",
    "    sys.exit()\n",
    "ux.info(f\"Cycle name: {new_cycle_name}!\")"
   ]
  },
  {
   "cell_type": "code",
   "execution_count": null,
   "id": "7b539aa6-d1cd-467b-90a1-89176ba285ce",
   "metadata": {},
   "outputs": [
    {
     "name": "stdout",
     "output_type": "stream",
     "text": [
      "How would you like to proceed?\n",
      "Options:\n",
      "1. Initialize the database if not present\n",
      "2. Do not initialize the database.\n",
      "3. Initialize anyway. !!! WARNING - THIS WILL CLEAR ALL METADATA\n",
      "Enter 1-3 or 'cancel' to stop\n"
     ]
    },
    {
     "name": "stdout",
     "output_type": "stream",
     "text": [
      ">  2\n"
     ]
    },
    {
     "data": {
      "text/html": [
       "<span style='color:#b58900; font-weight:bold;'>Do not initialize the database.</span>"
      ],
      "text/plain": [
       "<IPython.core.display.HTML object>"
      ]
     },
     "metadata": {},
     "output_type": "display_data"
    }
   ],
   "source": [
    "\n",
    "_selection = dropdown([\"Initialize the database if not present\",\n",
    "                       \"Do not initialize the database.\", \n",
    "                       \"Initialize anyway. !!! WARNING - THIS WILL CLEAR ALL METADATA\"\n",
    "                      ], \n",
    "                      \"How would you like to proceed?\")\n",
    "if _selection is None:\n",
    "    print(\"You have canceled the operation.\")\n",
    "    sys.exit()\n",
    "ux.warning(f\"{_selection}\")"
   ]
  },
  {
   "cell_type": "code",
   "execution_count": 6,
   "id": "89a57585-664b-49ff-bcda-fdb3fba8dc24",
   "metadata": {},
   "outputs": [
    {
     "name": "stdout",
     "output_type": "stream",
     "text": [
      "Notebook execution completed successfully!\n"
     ]
    }
   ],
   "source": [
    "print(\"Notebook execution completed successfully!\")"
   ]
  }
 ],
 "metadata": {
  "kernelspec": {
   "display_name": "Python 3 (ipykernel)",
   "language": "python",
   "name": "python3"
  },
  "language_info": {
   "codemirror_mode": {
    "name": "ipython",
    "version": 3
   },
   "file_extension": ".py",
   "mimetype": "text/x-python",
   "name": "python",
   "nbconvert_exporter": "python",
   "pygments_lexer": "ipython3",
   "version": "3.11.6"
  }
 },
 "nbformat": 4,
 "nbformat_minor": 5
}
