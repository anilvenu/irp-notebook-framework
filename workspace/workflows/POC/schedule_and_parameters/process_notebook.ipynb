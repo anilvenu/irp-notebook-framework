{
 "cells": [
  {
   "cell_type": "code",
   "execution_count": 1,
   "id": "00a6d051",
   "metadata": {},
   "outputs": [
    {
     "name": "stdout",
     "output_type": "stream",
     "text": [
      "Running process_notebook with parameter_1 = None and parameter_2 = None\n"
     ]
    }
   ],
   "source": [
    "a = globals().get(\"parameter_1\", None)\n",
    "b = globals().get(\"parameter_2\", None)\n",
    "\n",
    "print(f\"Running process_notebook with parameter_1 = {a} and parameter_2 = {b}\")"
   ]
  },
  {
   "cell_type": "code",
   "execution_count": null,
   "id": "a35caf3e-7ab9-4c79-acfc-f7ca1acd3365",
   "metadata": {},
   "outputs": [],
   "source": []
  }
 ],
 "metadata": {
  "kernelspec": {
   "display_name": "Python 3 (ipykernel)",
   "language": "python",
   "name": "python3"
  },
  "language_info": {
   "codemirror_mode": {
    "name": "ipython",
    "version": 3
   },
   "file_extension": ".py",
   "mimetype": "text/x-python",
   "name": "python",
   "nbconvert_exporter": "python",
   "pygments_lexer": "ipython3",
   "version": "3.11.6"
  }
 },
 "nbformat": 4,
 "nbformat_minor": 5
}
