{
 "cells": [
  {
   "cell_type": "markdown",
   "metadata": {},
   "source": [
    "# Stage 1: Setup - Step 1: Initialize\n",
    "\n",
    "This step initializes the workflow and validates the environment.\n",
    "\n",
    "**Purpose:**\n",
    "- Verify database connectivity\n",
    "- Validate cycle configuration\n",
    "- Set up working directories\n",
    "- Initialize logging"
   ]
  },
  {
   "cell_type": "code",
   "execution_count": null,
   "metadata": {},
   "outputs": [],
   "source": [
    "# Step tracking initialization\n",
    "%run /home/jovyan/work/system/helpers/03_StepTracker.ipynb\n",
    "%run /home/jovyan/work/system/helpers/04_Display.ipynb\n",
    "\n",
    "# Initialize step tracker\n",
    "# This will automatically check if the step can run and start tracking\n",
    "step = StepTracker(\n",
    "    cycle_name=\"{{CYCLE_NAME}}\",  # This will be replaced when cycle is created\n",
    "    stage_num=1,\n",
    "    step_num=1,\n",
    "    idempotent=True,  # This step can be run multiple times\n",
    "    auto_start=True\n",
    ")\n",
    "\n",
    "if not step.can_execute:\n",
    "    print(\"Step cannot be executed. Check the message above.\")\n",
    "    # You can still view previous results here if needed"
   ]
  },
  {
   "cell_type": "markdown",
   "metadata": {},
   "source": [
    "## Step Execution"
   ]
  },
  {
   "cell_type": "code",
   "execution_count": null,
   "metadata": {},
   "outputs": [],
   "source": [
    "if step.can_execute:\n",
    "    try:\n",
    "        print_header(\"Initializing Workflow\")\n",
    "        \n",
    "        # 1. Test database connection\n",
    "        print(\"\\n1. Testing database connection...\")\n",
    "        if test_connection():\n",
    "            print(\"   ✅ Database connected\")\n",
    "        else:\n",
    "            raise Exception(\"Database connection failed\")\n",
    "        \n",
    "        # 2. Verify active cycle\n",
    "        print(\"\\n2. Verifying active cycle...\")\n",
    "        active = get_active_cycle()\n",
    "        if active:\n",
    "            print(f\"   ✅ Active cycle: {active['cycle_name']}\")\n",
    "        else:\n",
    "            raise Exception(\"No active cycle found\")\n",
    "        \n",
    "        # 3. Set up working directories\n",
    "        print(\"\\n3. Setting up directories...\")\n",
    "        from pathlib import Path\n",
    "        \n",
    "        cycle_dir = Path(f\"/home/jovyan/work/workflows/Active_{active['cycle_name']}\")\n",
    "        files_dir = cycle_dir / \"files\"\n",
    "        logs_dir = cycle_dir / \"logs\"\n",
    "        \n",
    "        files_dir.mkdir(exist_ok=True)\n",
    "        logs_dir.mkdir(exist_ok=True)\n",
    "        print(f\"   ✅ Files directory: {files_dir}\")\n",
    "        print(f\"   ✅ Logs directory: {logs_dir}\")\n",
    "        \n",
    "        # 4. Initialize logging\n",
    "        print(\"\\n4. Initializing logging...\")\n",
    "        import logging\n",
    "        from datetime import datetime\n",
    "        \n",
    "        log_file = logs_dir / f\"initialization_{datetime.now().strftime('%Y%m%d_%H%M%S')}.log\"\n",
    "        logging.basicConfig(\n",
    "            filename=str(log_file),\n",
    "            level=logging.INFO,\n",
    "            format='%(asctime)s - %(levelname)s - %(message)s'\n",
    "        )\n",
    "        logging.info(\"Workflow initialized\")\n",
    "        print(f\"   ✅ Log file: {log_file}\")\n",
    "        \n",
    "        # Store output data\n",
    "        output = {\n",
    "            'cycle_name': active['cycle_name'],\n",
    "            'cycle_id': active['id'],\n",
    "            'files_dir': str(files_dir),\n",
    "            'logs_dir': str(logs_dir),\n",
    "            'log_file': str(log_file)\n",
    "        }\n",
    "        \n",
    "        # Mark step as completed\n",
    "        step.complete_run(output)\n",
    "        \n",
    "        print(\"\\n\" + \"=\" * 60)\n",
    "        print(\"✅ INITIALIZATION COMPLETE\")\n",
    "        print(\"=\" * 60)\n",
    "        \n",
    "    except Exception as e:\n",
    "        # Mark step as failed\n",
    "        step.fail_run(str(e))\n",
    "        print(f\"\\n❌ Step failed: {e}\")\n",
    "        raise"
   ]
  },
  {
   "cell_type": "markdown",
   "metadata": {},
   "source": [
    "## Verification"
   ]
  },
  {
   "cell_type": "code",
   "execution_count": null,
   "metadata": {},
   "outputs": [],
   "source": [
    "# Verify step completion\n",
    "print_header(\"Step Status\")\n",
    "\n",
    "history = get_step_history(step.cycle_name, step.stage_num, step.step_num)\n",
    "if not history.empty:\n",
    "    display_dataframe(history.head(5), title=\"Step Run History\")\n",
    "else:\n",
    "    print(\"No run history available\")"
   ]
  }
 ],
 "metadata": {
  "kernelspec": {
   "display_name": "Python 3",
   "language": "python",
   "name": "python3"
  }
 },
 "nbformat": 4,
 "nbformat_minor": 4
}