{
 "cells": [
  {
   "cell_type": "markdown",
   "id": "4a0cc382",
   "metadata": {},
   "source": [
    "## 1) Upgrade EDM Data Version"
   ]
  },
  {
   "cell_type": "code",
   "execution_count": null,
   "id": "3bb94f6a",
   "metadata": {},
   "outputs": [],
   "source": []
  },
  {
   "cell_type": "markdown",
   "id": "4bf6d894",
   "metadata": {},
   "source": [
    "## 2) GeoHaz Portfolios"
   ]
  },
  {
   "cell_type": "code",
   "execution_count": null,
   "id": "33539903",
   "metadata": {},
   "outputs": [],
   "source": []
  },
  {
   "cell_type": "markdown",
   "id": "b0bfd48d",
   "metadata": {},
   "source": [
    "## 3) Run Control Totals Scripts"
   ]
  },
  {
   "cell_type": "code",
   "execution_count": null,
   "id": "dfdd6f48",
   "metadata": {},
   "outputs": [],
   "source": []
  }
 ],
 "metadata": {},
 "nbformat": 4,
 "nbformat_minor": 5
}
