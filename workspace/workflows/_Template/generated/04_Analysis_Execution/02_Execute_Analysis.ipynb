{
 "cells": [
  {
   "cell_type": "markdown",
   "id": "3ad515d3",
   "metadata": {},
   "source": [
    "## 1) Execute Portfolio Analysis"
   ]
  },
  {
   "cell_type": "code",
   "execution_count": null,
   "id": "c73f39d2",
   "metadata": {},
   "outputs": [],
   "source": []
  },
  {
   "cell_type": "markdown",
   "id": "eab1789c",
   "metadata": {},
   "source": [
    "## 2) Review Analysis Summary Report"
   ]
  },
  {
   "cell_type": "code",
   "execution_count": null,
   "id": "ae43dd5d",
   "metadata": {},
   "outputs": [],
   "source": []
  }
 ],
 "metadata": {},
 "nbformat": 4,
 "nbformat_minor": 5
}
