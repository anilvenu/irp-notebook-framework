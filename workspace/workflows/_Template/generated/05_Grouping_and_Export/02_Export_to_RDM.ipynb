{
 "cells": [
  {
   "cell_type": "markdown",
   "id": "13240f65",
   "metadata": {},
   "source": [
    "## 1) Execute RDM Export"
   ]
  },
  {
   "cell_type": "code",
   "execution_count": null,
   "id": "10cab079",
   "metadata": {},
   "outputs": [],
   "source": []
  },
  {
   "cell_type": "markdown",
   "id": "a02953fa",
   "metadata": {},
   "source": [
    "## 2) Review Export Summary Report"
   ]
  },
  {
   "cell_type": "code",
   "execution_count": null,
   "id": "e7e09b92",
   "metadata": {},
   "outputs": [],
   "source": []
  }
 ],
 "metadata": {},
 "nbformat": 4,
 "nbformat_minor": 5
}
