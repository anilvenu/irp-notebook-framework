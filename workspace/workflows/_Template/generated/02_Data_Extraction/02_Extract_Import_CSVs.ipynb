{
 "cells": [
  {
   "cell_type": "markdown",
   "id": "88353648",
   "metadata": {},
   "source": [
    "## 1) Export Data to CSV"
   ]
  },
  {
   "cell_type": "code",
   "execution_count": null,
   "id": "382b00da",
   "metadata": {},
   "outputs": [],
   "source": []
  },
  {
   "cell_type": "markdown",
   "id": "9d4f04f2",
   "metadata": {},
   "source": [
    "## 2) Run Control Totals Scripts"
   ]
  },
  {
   "cell_type": "code",
   "execution_count": null,
   "id": "08e6dfc0",
   "metadata": {},
   "outputs": [],
   "source": []
  }
 ],
 "metadata": {},
 "nbformat": 4,
 "nbformat_minor": 5
}
