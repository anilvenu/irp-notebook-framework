{
 "cells": [
  {
   "cell_type": "markdown",
   "id": "d2e7873d",
   "metadata": {},
   "source": [
    "## 1) Validate SQL Scripts"
   ]
  },
  {
   "cell_type": "code",
   "execution_count": null,
   "id": "70b82484",
   "metadata": {},
   "outputs": [],
   "source": []
  },
  {
   "cell_type": "markdown",
   "id": "8ec298e2",
   "metadata": {},
   "source": [
    "## 2) Apply Parameters on SQL Scripts"
   ]
  },
  {
   "cell_type": "code",
   "execution_count": null,
   "id": "dfd24c2a",
   "metadata": {},
   "outputs": [],
   "source": []
  },
  {
   "cell_type": "markdown",
   "id": "48168461",
   "metadata": {},
   "source": [
    "## 3) Execute Data Extraction"
   ]
  },
  {
   "cell_type": "code",
   "execution_count": null,
   "id": "bb77e769",
   "metadata": {},
   "outputs": [],
   "source": []
  }
 ],
 "metadata": {},
 "nbformat": 4,
 "nbformat_minor": 5
}
