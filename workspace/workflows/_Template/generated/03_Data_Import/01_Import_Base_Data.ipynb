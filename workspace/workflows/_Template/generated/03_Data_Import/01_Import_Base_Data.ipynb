{
 "cells": [
  {
   "cell_type": "markdown",
   "id": "fb9cea39",
   "metadata": {},
   "source": [
    "## 1) Create EDMs"
   ]
  },
  {
   "cell_type": "code",
   "execution_count": null,
   "id": "7a4e0675",
   "metadata": {},
   "outputs": [],
   "source": []
  },
  {
   "cell_type": "markdown",
   "id": "acef44c9",
   "metadata": {},
   "source": [
    "## 2) Create Base Portfolios"
   ]
  },
  {
   "cell_type": "code",
   "execution_count": null,
   "id": "1916828e",
   "metadata": {},
   "outputs": [],
   "source": []
  },
  {
   "cell_type": "markdown",
   "id": "9516bcb5",
   "metadata": {},
   "source": [
    "## 3) Populate Base Portfolios via MRI Import"
   ]
  },
  {
   "cell_type": "code",
   "execution_count": null,
   "id": "a04a7bb0",
   "metadata": {},
   "outputs": [],
   "source": []
  },
  {
   "cell_type": "markdown",
   "id": "9555230d",
   "metadata": {},
   "source": [
    "## 4) Create Reinsurance Treaties"
   ]
  },
  {
   "cell_type": "code",
   "execution_count": null,
   "id": "3bc97034",
   "metadata": {},
   "outputs": [],
   "source": []
  }
 ],
 "metadata": {},
 "nbformat": 4,
 "nbformat_minor": 5
}
