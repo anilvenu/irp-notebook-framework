{
 "cells": [
  {
   "cell_type": "markdown",
   "id": "ad34879f",
   "metadata": {},
   "source": [
    "## 1) Validate File Format"
   ]
  },
  {
   "cell_type": "code",
   "execution_count": null,
   "id": "75deaf01",
   "metadata": {},
   "outputs": [],
   "source": []
  },
  {
   "cell_type": "markdown",
   "id": "c0b3fec0",
   "metadata": {},
   "source": [
    "## 2) Validate Required Data Present"
   ]
  },
  {
   "cell_type": "code",
   "execution_count": null,
   "id": "39a4724f",
   "metadata": {},
   "outputs": [],
   "source": []
  },
  {
   "cell_type": "markdown",
   "id": "47d6b30e",
   "metadata": {},
   "source": [
    "## 3) Validate Versions (EDM, Model Profile, GeoHaz)"
   ]
  },
  {
   "cell_type": "code",
   "execution_count": null,
   "id": "9cdf9780",
   "metadata": {},
   "outputs": [],
   "source": []
  },
  {
   "cell_type": "markdown",
   "id": "dfcd0372",
   "metadata": {},
   "source": [
    "## 4) Validate Existence of Reference Data"
   ]
  },
  {
   "cell_type": "code",
   "execution_count": null,
   "id": "050eabda",
   "metadata": {},
   "outputs": [],
   "source": []
  }
 ],
 "metadata": {},
 "nbformat": 4,
 "nbformat_minor": 5
}
