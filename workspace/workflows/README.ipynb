{
 "cells": [
  {
   "cell_type": "markdown",
   "id": "4ef153c5",
   "metadata": {
    "vscode": {
     "languageId": "plaintext"
    }
   },
   "source": [
    "# "
   ]
  },
  {
   "cell_type": "markdown",
   "id": "309787ef",
   "metadata": {
    "vscode": {
     "languageId": "plaintext"
    }
   },
   "source": [
    "# WELCOME TO THE RISK ANALYSIS WORKFLOW"
   ]
  },
  {
   "cell_type": "code",
   "execution_count": null,
   "id": "0465c7d9",
   "metadata": {
    "vscode": {
     "languageId": "plaintext"
    }
   },
   "outputs": [],
   "source": []
  },
  {
   "cell_type": "markdown",
   "id": "6dd647bc",
   "metadata": {},
   "source": [
    "## If this is the first time you are running the workflow...\n",
    "\n",
    "The workflow uses a database to track the stages and steps involved. We need to initialize this database before the first run. [Run the Database Administration Tool and Initialize the Database](./_Tools/Database%20Management/Database%20Administration.ipynb)."
   ]
  },
  {
   "cell_type": "markdown",
   "id": "ffd28666",
   "metadata": {},
   "source": [
    "## To start a new analysis cycle... \n",
    "\n",
    "**[Create a New Cycle](./_Tools/Analyst%20Workflow%20Management/New%20Cycle.ipynb)**\n",
    "\n",
    "The tool will prompt you to enter a name for the cycle\n",
    "\n",
    "```Analysis-2025-Q4```\n",
    "```Analysis-2025-Q4-v1```\n",
    "```Analysis-2025-Q4-November```\n",
    "\n",
    "\n",
    "This will do these 3 things:\n",
    "1. A new sub-directory will be created under this ```workflows``` directory with a copy of all the content from the ```_Templates``` directory. This directory will be named ```Active_<cyclename>``` using the cycle name you provided. [Here's more on ```_Templates```](#template-structure)\n",
    "2. A new cycle will be registered   \n",
    "3. Any ```Active_*``` sub-directory previously present will be moved under the ```_Archive``` sub-directory and any cycle registered in an ```ACTIVE``` status on the database will be marked as ```ARCHIVED```.  \n",
    "4. "
   ]
  },
  {
   "cell_type": "markdown",
   "id": "a6d0d27a",
   "metadata": {},
   "source": []
  },
  {
   "cell_type": "markdown",
   "id": "ece6aed4",
   "metadata": {},
   "source": [
    "# Workflow Concepts\n",
    "\n",
    "### Cycles\n",
    "A **cycle** represents a complete workflow execution (e.g., \"Q1_2024_Analysis\"). Only one cycle can be active at a time.\n",
    "\n",
    "### Stages\n",
    "Each cycle contains multiple **stages** (e.g., Setup, Extract, Process, Submit, Monitor)\n",
    "\n",
    "### Steps\n",
    "Each stage contains numbered **steps** implemented as Jupyter notebooks\n",
    "\n",
    "### Execution Flow\n",
    "1. Create a new cycle from template\n",
    "2. Execute steps sequentially within each stage\n",
    "3. Track progress automatically\n",
    "4. Archive cycle when complete\n",
    "\n",
    "## Key Components\n",
    "\n",
    "### Tool Notebooks\n",
    "Located in `workflows/_Tools/`:\n",
    "\n",
    "### Template Structure\n",
    "The `_Template` directory contains the master template copied to each new cycle:\n",
    "\n",
    "```\n",
    "_Template                               # Templates for a new cycle\n",
    " ├── config                             # Configuration files\n",
    " ├── temp                               # Temporary files *\n",
    " └── notebooks\t\t\t\n",
    "     └── Stage_01_<stagename>           # Each stage will have a directory \n",
    "         ├── Step_01_<stepname>.ipynb   # Each step will have a notebook\n",
    "         └── Step_02_<stepname>.ipynb\t        \n",
    "```"
   ]
  }
 ],
 "metadata": {
  "language_info": {
   "name": "python"
  }
 },
 "nbformat": 4,
 "nbformat_minor": 5
}
