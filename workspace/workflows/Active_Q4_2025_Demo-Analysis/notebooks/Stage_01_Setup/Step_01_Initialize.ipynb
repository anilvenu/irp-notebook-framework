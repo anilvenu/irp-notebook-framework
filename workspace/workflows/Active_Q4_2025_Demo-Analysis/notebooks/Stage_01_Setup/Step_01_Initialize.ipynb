{
 "cells": [
  {
   "cell_type": "markdown",
   "metadata": {},
   "source": [
    "# Stage 01: Setup \n",
    "## Step 01: Initialize\n",
    "\n",
    "This step initializes the workflow and validates the environment.\n",
    "\n",
    "**Purpose:**\n",
    "- Verify database connectivity\n",
    "- Validate cycle configuration\n",
    "- Set up working directories\n",
    "- Initialize logging"
   ]
  },
  {
   "cell_type": "code",
   "execution_count": null,
   "metadata": {},
   "outputs": [
    {
     "name": "stdout",
     "output_type": "stream",
     "text": [
      "Context detected: Q4_2025_Demo-Analysis → Stage 1 → Step 1\n",
      "Database entries ready (step_id=1)\n",
      "Q4_2025_Demo-Analysis → Stage 1: Setup → Step 1: Initialize\n"
     ]
    }
   ],
   "source": [
    "from system.context import WorkContext\n",
    "from system.step import Step\n",
    "from system import database, ux, config as cfg\n",
    "# Create work context - automatically detects cycle/stage/step from notebook path\n",
    "context = WorkContext()\n",
    "print(f\"{context}\")"
   ]
  },
  {
   "cell_type": "code",
   "execution_count": null,
   "metadata": {},
   "outputs": [
    {
     "data": {
      "text/html": [
       "<span style='color:#b58900; font-weight:bold;'>Step already run, in status: running</span>"
      ],
      "text/plain": [
       "<IPython.core.display.HTML object>"
      ]
     },
     "metadata": {},
     "output_type": "display_data"
    },
    {
     "ename": "Exception",
     "evalue": "Step already run, in status: running",
     "output_type": "error",
     "traceback": [
      "\u001b[0;31m---------------------------------------------------------------------------\u001b[0m",
      "\u001b[0;31mException\u001b[0m                                 Traceback (most recent call last)",
      "Cell \u001b[0;32mIn[3], line 7\u001b[0m\n\u001b[1;32m      5\u001b[0m \u001b[38;5;28;01mif\u001b[39;00m step\u001b[38;5;241m.\u001b[39mexecuted:\n\u001b[1;32m      6\u001b[0m     display\u001b[38;5;241m.\u001b[39mprint_warning(step\u001b[38;5;241m.\u001b[39mstatus_message)\n\u001b[0;32m----> 7\u001b[0m     \u001b[38;5;28;01mraise\u001b[39;00m \u001b[38;5;167;01mException\u001b[39;00m(step\u001b[38;5;241m.\u001b[39mstatus_message)\n\u001b[1;32m      8\u001b[0m display\u001b[38;5;241m.\u001b[39mprint_success(\u001b[38;5;124m\"\u001b[39m\u001b[38;5;124mSafe to proceed\u001b[39m\u001b[38;5;124m\"\u001b[39m)\n",
      "\u001b[0;31mException\u001b[0m: Step already run, in status: running"
     ]
    }
   ],
   "source": [
    "# Create step tracker\n",
    "step = Step(context)\n",
    "\n",
    "# Check if already execute\n",
    "if step.executed:\n",
    "    ux.warning(step.status_message)\n",
    "    raise Exception(step.status_message)\n",
    "ux.success(\"Safe to proceed\")"
   ]
  },
  {
   "cell_type": "code",
   "execution_count": 4,
   "metadata": {},
   "outputs": [
    {
     "name": "stdout",
     "output_type": "stream",
     "text": [
      "Warning: Forcing re-execution of already executed step\n",
      "Starting Step Run #2\n",
      "Q4_2025_Demo-Analysis → Stage 1: Setup → Step 1: Initialize\n",
      "Run ID: 2\n",
      "(i) Step execution started\n"
     ]
    }
   ],
   "source": [
    "step.start(force=True)"
   ]
  },
  {
   "cell_type": "code",
   "execution_count": null,
   "metadata": {},
   "outputs": [
    {
     "name": "stdout",
     "output_type": "stream",
     "text": [
      "\n",
      "1. Testing database connection...\n"
     ]
    },
    {
     "data": {
      "text/html": [
       "<span style='color:green; font-weight:bold;'>Database connected</span>"
      ],
      "text/plain": [
       "<IPython.core.display.HTML object>"
      ]
     },
     "metadata": {},
     "output_type": "display_data"
    },
    {
     "name": "stdout",
     "output_type": "stream",
     "text": [
      "(i) Database connection verified\n",
      "\n",
      "2. Verifying active cycle...\n"
     ]
    },
    {
     "data": {
      "text/html": [
       "<span style='color:green; font-weight:bold;'>Active cycle: Q4_2025_Demo-Analysis</span>"
      ],
      "text/plain": [
       "<IPython.core.display.HTML object>"
      ]
     },
     "metadata": {},
     "output_type": "display_data"
    },
    {
     "name": "stdout",
     "output_type": "stream",
     "text": [
      "(i) Active cycle verified: Q4_2025_Demo-Analysis\n",
      "\n",
      "3. Setting up /files directory...\n"
     ]
    },
    {
     "data": {
      "text/html": [
       "<span style='color:green; font-weight:bold;'>Files directory: /home/jovyan/workspace/workflows/Active_Q4_2025_Demo-Analysis/files</span>"
      ],
      "text/plain": [
       "<IPython.core.display.HTML object>"
      ]
     },
     "metadata": {},
     "output_type": "display_data"
    },
    {
     "data": {
      "text/html": [
       "<span style='color:green; font-weight:bold;'>Logs directory: /home/jovyan/workspace/workflows/Active_Q4_2025_Demo-Analysis/files</span>"
      ],
      "text/plain": [
       "<IPython.core.display.HTML object>"
      ]
     },
     "metadata": {},
     "output_type": "display_data"
    },
    {
     "name": "stdout",
     "output_type": "stream",
     "text": [
      "(i) Directory created\n",
      "(i) Checkpoint saved: ['cycle_dir', 'files_dir', 'logs_dir']\n"
     ]
    },
    {
     "data": {
      "text/html": [
       "<span style='color:green; font-weight:bold;'>Log file: /home/jovyan/workspace/workflows/Active_Q4_2025_Demo-Analysis/files/initialization_20251010_174613.log</span>"
      ],
      "text/plain": [
       "<IPython.core.display.HTML object>"
      ]
     },
     "metadata": {},
     "output_type": "display_data"
    },
    {
     "name": "stdout",
     "output_type": "stream",
     "text": [
      "(i) Logging initialized: /home/jovyan/workspace/workflows/Active_Q4_2025_Demo-Analysis/files/initialization_20251010_174613.log\n",
      "\n",
      "============================================================\n",
      "STEP COMPLETED\n",
      "   Run #2 completed in 4.4 seconds\n",
      "============================================================\n"
     ]
    },
    {
     "data": {
      "text/html": [
       "<h3 style='font-weight:bold; font-size:1.1em; color:#111;'>INITIALIZATION COMPLETE</h3>"
      ],
      "text/plain": [
       "<IPython.core.display.HTML object>"
      ]
     },
     "metadata": {},
     "output_type": "display_data"
    }
   ],
   "source": [
    "print(\"\\n1. Testing database connection...\")\n",
    "if database.test_connection():\n",
    "    ux.success(\"Database connected\")\n",
    "    step.log(\"Database connection verified\")\n",
    "else:\n",
    "    raise Exception(\"Database connection failed\")\n",
    "\n",
    "# 2. Verify active cycle\n",
    "print(\"\\n2. Verifying active cycle...\")\n",
    "active = database.get_active_cycle()\n",
    "if active:\n",
    "    ux.success(f\"Active cycle: {active['cycle_name']}\")\n",
    "    step.log(f\"Active cycle verified: {active['cycle_name']}\")\n",
    "else:\n",
    "    raise Exception(\"No active cycle found\")\n",
    "\n",
    "# 3. Set up working directories\n",
    "print(\"\\n3. Setting up /files directory...\")\n",
    "from pathlib import Path\n",
    "\n",
    "cycle_dir = Path(f\"/home/jovyan/workspace/workflows/Active_{active['cycle_name']}\")\n",
    "files_dir = cycle_dir / \"files\"    \n",
    "logs_dir = cycle_dir / \"logs\"    \n",
    "files_dir = cycle_dir / \"files\"    \n",
    "logs_dir = cycle_dir / \"files\"    \n",
    "\n",
    "ux.success(f\"Files directory: {files_dir}\")\n",
    "ux.success(f\"Logs directory: {logs_dir}\")\n",
    "step.log(\"Directory created\")\n",
    "\n",
    "# Save checkpoint\n",
    "step.checkpoint({\n",
    "    'cycle_dir': str(cycle_dir),\n",
    "    'files_dir': str(files_dir),\n",
    "    'logs_dir': str(files_dir)\n",
    "})\n",
    "\n",
    "import logging\n",
    "from datetime import datetime\n",
    "\n",
    "log_file = logs_dir / f\"initialization_{datetime.now().strftime('%Y%m%d_%H%M%S')}.log\"\n",
    "logging.basicConfig(\n",
    "    filename=str(log_file),\n",
    "    level=logging.INFO,\n",
    "    format='%(asctime)s - %(levelname)s - %(message)s'\n",
    ")\n",
    "logging.info(\"Workflow initialized\")\n",
    "\n",
    "ux.success(f\"Log file: {log_file}\")\n",
    "step.log(f\"Logging initialized: {log_file}\")\n",
    "\n",
    "# Prepare output data\n",
    "output = {\n",
    "    'cycle_name': active['cycle_name'],\n",
    "    'cycle_id': active['id'],\n",
    "    'files_dir': str(files_dir),\n",
    "    'logs_dir': str(logs_dir),\n",
    "    'log_file': str(log_file),\n",
    "    'initialization_complete': True\n",
    "}\n",
    "\n",
    "# Mark step as completed\n",
    "step.complete(output)\n",
    "\n",
    "ux.header(\"INITIALIZATION COMPLETE\")"
   ]
  },
  {
   "cell_type": "code",
   "execution_count": null,
   "metadata": {},
   "outputs": [
    {
     "data": {
      "text/html": [
       "<h3 style='font-weight:bold; font-size:1.1em; color:#111;'>Step Status</h3>"
      ],
      "text/plain": [
       "<IPython.core.display.HTML object>"
      ]
     },
     "metadata": {},
     "output_type": "display_data"
    },
    {
     "data": {
      "text/html": [
       "<h4 style='font-weight:bold; font-size:1.0em; color:#333;'>Step Run History</h4>"
      ],
      "text/plain": [
       "<IPython.core.display.HTML object>"
      ]
     },
     "metadata": {},
     "output_type": "display_data"
    },
    {
     "data": {
      "text/html": [
       "<table border=\"1\" class=\"dataframe\">\n",
       "  <thead>\n",
       "    <tr style=\"text-align: right;\">\n",
       "      <th>run_number</th>\n",
       "      <th>status</th>\n",
       "      <th>started_ts</th>\n",
       "      <th>completed_ts</th>\n",
       "      <th>duration</th>\n",
       "    </tr>\n",
       "  </thead>\n",
       "  <tbody>\n",
       "    <tr>\n",
       "      <td>2</td>\n",
       "      <td>completed</td>\n",
       "      <td>2025-10-10 17:46:09.218716+00:00</td>\n",
       "      <td>2025-10-10 17:46:13.581283+00:00</td>\n",
       "      <td>4.4s</td>\n",
       "    </tr>\n",
       "    <tr>\n",
       "      <td>1</td>\n",
       "      <td>running</td>\n",
       "      <td>2025-10-10 17:45:36.772930+00:00</td>\n",
       "      <td>NaT</td>\n",
       "      <td>nanh</td>\n",
       "    </tr>\n",
       "  </tbody>\n",
       "</table>"
      ],
      "text/plain": [
       "<IPython.core.display.HTML object>"
      ]
     },
     "metadata": {},
     "output_type": "display_data"
    },
    {
     "data": {
      "text/html": [
       "<h4 style='font-weight:bold; font-size:1.0em; color:#333;'>Last Output</h4>"
      ],
      "text/plain": [
       "<IPython.core.display.HTML object>"
      ]
     },
     "metadata": {},
     "output_type": "display_data"
    },
    {
     "data": {
      "text/html": [
       "<pre>{\n",
       "  \"_meta\": {\n",
       "    \"logs\": [\n",
       "      {\n",
       "        \"level\": \"INFO\",\n",
       "        \"message\": \"Step execution started\",\n",
       "        \"timestamp\": \"2025-10-10 17:46:09\"\n",
       "      },\n",
       "      {\n",
       "        \"level\": \"INFO\",\n",
       "        \"message\": \"Database connection verified\",\n",
       "        \"timestamp\": \"2025-10-10 17:46:13\"\n",
       "      },\n",
       "      {\n",
       "        \"level\": \"INFO\",\n",
       "        \"message\": \"Active cycle verified: Q4_2025_Demo-Analysis\",\n",
       "        \"timestamp\": \"2025-10-10 17:46:13\"\n",
       "      },\n",
       "      {\n",
       "        \"level\": \"INFO\",\n",
       "        \"message\": \"Directory created\",\n",
       "        \"timestamp\": \"2025-10-10 17:46:13\"\n",
       "      },\n",
       "      {\n",
       "        \"level\": \"INFO\",\n",
       "        \"message\": \"Checkpoint saved: ['cycle_dir', 'files_dir', 'logs_dir']\",\n",
       "        \"timestamp\": \"2025-10-10 17:46:13\"\n",
       "      },\n",
       "      {\n",
       "        \"level\": \"INFO\",\n",
       "        \"message\": \"Logging initialized: /home/jovyan/workspace/workflows/Active_Q4_2025_Demo-Analysis/files/initialization_20251010_174613.log\",\n",
       "        \"timestamp\": \"2025-10-10 17:46:13\"\n",
       "      }\n",
       "    ],\n",
       "    \"end_time\": \"2025-10-10T17:46:13.556359\",\n",
       "    \"run_number\": 2,\n",
       "    \"start_time\": \"2025-10-10T17:46:09.225522\"\n",
       "  },\n",
       "  \"cycle_id\": 1,\n",
       "  \"log_file\": \"/home/jovyan/workspace/workflows/Active_Q4_2025_Demo-Analysis/files/initialization_20251010_174613.log\",\n",
       "  \"logs_dir\": \"/home/jovyan/workspace/workflows/Active_Q4_2025_Demo-Analysis/files\",\n",
       "  \"files_dir\": \"/home/jovyan/workspace/workflows/Active_Q4_2025_Demo-Analysis/files\",\n",
       "  \"cycle_name\": \"Q4_2025_Demo-Analysis\",\n",
       "  \"initialization_complete\": true\n",
       "}</pre>"
      ],
      "text/plain": [
       "<IPython.core.display.HTML object>"
      ]
     },
     "metadata": {},
     "output_type": "display_data"
    }
   ],
   "source": [
    "ux._header(\"Step Status\")\n",
    "\n",
    "# Get step history\n",
    "from system import cycle\n",
    "\n",
    "history = cycle.get_step_history(\n",
    "    context.cycle_name,\n",
    "    context.stage_num,\n",
    "    context.step_num\n",
    ")\n",
    "\n",
    "if not history.empty:\n",
    "    # Format duration\n",
    "    history['duration'] = history['duration_seconds'].apply(ux.format_duration)\n",
    "    \n",
    "    # Display recent runs\n",
    "    display_df = history[[\n",
    "        'run_number', 'status', 'started_ts', 'completed_ts', 'duration'\n",
    "    ]].head(5)\n",
    "    \n",
    "    ux.dataframe(display_df, title=\"Step Run History\")\n",
    "else:\n",
    "    ux.info(\"No run history available\")\n",
    "\n",
    "# Show last output\n",
    "last_output = step.get_last_output()\n",
    "if last_output:\n",
    "    ux.subheader(\"Last Output\")\n",
    "    ux.display_json(last_output, indent=2)"
   ]
  }
 ],
 "metadata": {
  "kernelspec": {
   "display_name": "Python 3 (ipykernel)",
   "language": "python",
   "name": "python3"
  },
  "language_info": {
   "codemirror_mode": {
    "name": "ipython",
    "version": 3
   },
   "file_extension": ".py",
   "mimetype": "text/x-python",
   "name": "python",
   "nbconvert_exporter": "python",
   "pygments_lexer": "ipython3",
   "version": "3.11.6"
  }
 },
 "nbformat": 4,
 "nbformat_minor": 4
}
