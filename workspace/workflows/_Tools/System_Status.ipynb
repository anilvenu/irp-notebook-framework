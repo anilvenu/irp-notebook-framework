{
 "cells": [
  {
   "cell_type": "markdown",
   "metadata": {},
   "source": [
    "# System Status\n",
    "\n",
    "View the current status of:\n",
    "- Active cycle\n",
    "- Step progress\n",
    "- Recent activity\n",
    "- System health"
   ]
  },
  {
   "cell_type": "code",
   "execution_count": 1,
   "metadata": {
    "vscode": {
     "languageId": "plaintext"
    }
   },
   "outputs": [
    {
     "data": {
      "text/html": [
       "<h3 style='font-weight:bold; font-size:1.1em; color:#111;'>System Status</h3>"
      ],
      "text/plain": [
       "<IPython.core.display.HTML object>"
      ]
     },
     "metadata": {},
     "output_type": "display_data"
    }
   ],
   "source": [
    "from system import cycle_manager, database as db, display\n",
    "from pathlib import Path\n",
    "\n",
    "display.print_header(\"System Status\")"
   ]
  },
  {
   "cell_type": "code",
   "execution_count": 2,
   "metadata": {
    "vscode": {
     "languageId": "plaintext"
    }
   },
   "outputs": [
    {
     "data": {
      "text/html": [
       "<h4 style='font-weight:bold; font-size:1.0em; color:#333;'>Active Cycle</h4>"
      ],
      "text/plain": [
       "<IPython.core.display.HTML object>"
      ]
     },
     "metadata": {},
     "output_type": "display_data"
    },
    {
     "data": {
      "text/html": [
       "<span style='color:#b58900; font-weight:bold;'>No active cycle</span>"
      ],
      "text/plain": [
       "<IPython.core.display.HTML object>"
      ]
     },
     "metadata": {},
     "output_type": "display_data"
    },
    {
     "name": "stdout",
     "output_type": "stream",
     "text": [
      "\n",
      "Run 'Create New Cycle.ipynb' to create a new cycle\n"
     ]
    }
   ],
   "source": [
    "display.print_subheader(\"Active Cycle\")\n",
    "\n",
    "active_cycle = db.get_active_cycle()\n",
    "\n",
    "if active_cycle:\n",
    "    display.display_cycle_summary(active_cycle)\n",
    "    \n",
    "    # Get progress stats\n",
    "    cycle_name = active_cycle['cycle_name']\n",
    "    \n",
    "    # Count completed steps\n",
    "    query = \"\"\"\n",
    "        SELECT COUNT(DISTINCT st.id) as completed_steps\n",
    "        FROM irp_step st\n",
    "        INNER JOIN irp_stage sg ON st.stage_id = sg.id\n",
    "        INNER JOIN irp_cycle c ON sg.cycle_id = c.id\n",
    "        WHERE c.cycle_name = %s\n",
    "        AND EXISTS (\n",
    "            SELECT 1 FROM irp_step_run sr \n",
    "            WHERE sr.step_id = st.id AND sr.status = 'completed'\n",
    "        )\n",
    "    \"\"\"\n",
    "    completed = db.execute_scalar(query, (cycle_name,))\n",
    "    \n",
    "    # Total steps\n",
    "    query = \"\"\"\n",
    "        SELECT COUNT(*) FROM irp_step st\n",
    "        INNER JOIN irp_stage sg ON st.stage_id = sg.id\n",
    "        INNER JOIN irp_cycle c ON sg.cycle_id = c.id\n",
    "        WHERE c.cycle_name = %s\n",
    "    \"\"\"\n",
    "    total = db.execute_scalar(query, (cycle_name,))\n",
    "    \n",
    "    display.print_subheader(\"Progress Overview\")\n",
    "    display.display_progress_bar(completed or 0, total or 0, title=\"Overall Completion\")\n",
    "    \n",
    "else:\n",
    "    display.print_warning(\"No active cycle\")\n",
    "    print(\"\\nRun 'Create New Cycle.ipynb' to create a new cycle\")"
   ]
  },
  {
   "cell_type": "code",
   "execution_count": 3,
   "metadata": {
    "vscode": {
     "languageId": "plaintext"
    }
   },
   "outputs": [],
   "source": [
    "if active_cycle:\n",
    "    display.print_header(f\"Step Progress: {active_cycle['cycle_name']}\")\n",
    "    \n",
    "    progress_df = cycle_manager.get_cycle_progress(active_cycle['cycle_name'])\n",
    "    \n",
    "    if not progress_df.empty:\n",
    "        display.display_step_progress(progress_df)\n",
    "        \n",
    "        # Summary statistics\n",
    "        display.print_subheader(\"Summary\")\n",
    "        \n",
    "        status_counts = progress_df['last_status'].value_counts(dropna=False)\n",
    "        \n",
    "        total_steps = len(progress_df)\n",
    "        completed = status_counts.get('completed', 0)\n",
    "        running = status_counts.get('running', 0)\n",
    "        failed = status_counts.get('failed', 0)\n",
    "        skipped = status_counts.get('skipped', 0)\n",
    "        not_started = len(progress_df[progress_df['last_status'].isna()])\n",
    "        \n",
    "        summary_data = [\n",
    "            ['Total Steps', total_steps],\n",
    "            [' Completed', completed],\n",
    "            [' Running', running],\n",
    "            [' Failed', failed],\n",
    "            [' Skipped', skipped],\n",
    "            [' Not Started', not_started]\n",
    "        ]\n",
    "        \n",
    "        display.display_table(summary_data, headers=['Status', 'Count'])\n",
    "    else:\n",
    "        display.print_warning(\"No steps registered for this cycle\")"
   ]
  },
  {
   "cell_type": "code",
   "execution_count": 4,
   "metadata": {
    "vscode": {
     "languageId": "plaintext"
    }
   },
   "outputs": [],
   "source": [
    "if active_cycle:\n",
    "    display.print_header(\"Recent Activity\")\n",
    "    \n",
    "    history_df = cycle_manager.get_step_history(active_cycle['cycle_name'])\n",
    "    \n",
    "    if not history_df.empty:\n",
    "        # Format duration column\n",
    "        history_df['duration'] = history_df['duration_seconds'].apply(display.format_duration)\n",
    "        \n",
    "        # Select columns to display\n",
    "        display_df = history_df[[\n",
    "            'stage_name', 'step_name', 'run_number', 'status', \n",
    "            'started_ts', 'duration'\n",
    "        ]].head(10)\n",
    "        \n",
    "        display.display_dataframe(display_df, title=\"Last 10 Step Runs\")\n",
    "    else:\n",
    "        display.print_info(\"No step runs yet\")"
   ]
  },
  {
   "cell_type": "code",
   "execution_count": 5,
   "metadata": {
    "vscode": {
     "languageId": "plaintext"
    }
   },
   "outputs": [],
   "source": [
    "if active_cycle:\n",
    "    display.print_header(\"Active Cycle Directory\")\n",
    "    \n",
    "    active_dir = Path(f\"/workspace/workflows/Active_{active_cycle['cycle_name']}\")\n",
    "    \n",
    "    if active_dir.exists():\n",
    "        print(f\"/ {active_dir}\\n\")\n",
    "        \n",
    "        # Show directory tree\n",
    "        for item in sorted(active_dir.iterdir()):\n",
    "            if item.is_dir():\n",
    "                print(f\"  / {item.name}/\")\n",
    "                \n",
    "                # Show subdirectories for notebooks\n",
    "                if item.name == 'notebooks':\n",
    "                    for stage_dir in sorted(item.iterdir()):\n",
    "                        if stage_dir.is_dir() and not stage_dir.name.startswith('.'):\n",
    "                            print(f\"      / {stage_dir.name}/\")\n",
    "                            \n",
    "                            # Show step notebooks\n",
    "                            for step_file in sorted(stage_dir.iterdir()):\n",
    "                                if step_file.suffix == '.ipynb' and not step_file.name.startswith('.'):\n",
    "                                    print(f\"          - {step_file.name}\")\n",
    "            \n",
    "            elif item.suffix in ['.md', '.txt'] and not item.name.startswith('.'):\n",
    "                print(f\"  - {item.name}\")\n",
    "    else:\n",
    "        display.print_error(f\"Directory not found: {active_dir}\")"
   ]
  },
  {
   "cell_type": "code",
   "execution_count": 8,
   "metadata": {
    "vscode": {
     "languageId": "plaintext"
    }
   },
   "outputs": [
    {
     "data": {
      "text/html": [
       "<h3 style='font-weight:bold; font-size:1.1em; color:#111;'>System Health</h3>"
      ],
      "text/plain": [
       "<IPython.core.display.HTML object>"
      ]
     },
     "metadata": {},
     "output_type": "display_data"
    },
    {
     "data": {
      "text/html": [
       "<table border=\"1\" class=\"dataframe\">\n",
       "  <thead>\n",
       "    <tr style=\"text-align: right;\">\n",
       "      <th>Component</th>\n",
       "      <th>Status</th>\n",
       "    </tr>\n",
       "  </thead>\n",
       "  <tbody>\n",
       "    <tr>\n",
       "      <td>Database</td>\n",
       "      <td>Connected</td>\n",
       "    </tr>\n",
       "    <tr>\n",
       "      <td>Template</td>\n",
       "      <td>Found</td>\n",
       "    </tr>\n",
       "    <tr>\n",
       "      <td>Active Cycle</td>\n",
       "      <td>None</td>\n",
       "    </tr>\n",
       "    <tr>\n",
       "      <td>System Lock</td>\n",
       "      <td>Initialized</td>\n",
       "    </tr>\n",
       "  </tbody>\n",
       "</table>"
      ],
      "text/plain": [
       "<IPython.core.display.HTML object>"
      ]
     },
     "metadata": {},
     "output_type": "display_data"
    },
    {
     "name": "stdout",
     "output_type": "stream",
     "text": [
      "\n",
      "Quick Actions:\n",
      "  • Create new cycle: Run 'workflow/_Tools/Create New Cycle.ipynb'\n",
      "  • Initialize database: Run 'workflow/_Tools/Database Admin.ipynb'\n",
      "  • View step details: Navigate to workflows/Active_<cycle-name> directory\n"
     ]
    }
   ],
   "source": [
    "display.print_header(\"System Health\")\n",
    "\n",
    "health_checks = []\n",
    "\n",
    "# Database connection\n",
    "if db.test_connection():\n",
    "    health_checks.append(['Database', ' Connected'])\n",
    "else:\n",
    "    health_checks.append(['Database', ' Not Connected'])\n",
    "\n",
    "# Template directory\n",
    "template_path = Path('/workspace/workflows/_Template')\n",
    "if template_path.exists():\n",
    "    health_checks.append(['Template', ' Found'])\n",
    "else:\n",
    "    health_checks.append(['Template', '  Missing'])\n",
    "\n",
    "# Active cycle\n",
    "if active_cycle:\n",
    "    health_checks.append(['Active Cycle', f\" {active_cycle['cycle_name']}\"])\n",
    "else:\n",
    "    health_checks.append(['Active Cycle', '  None'])\n",
    "\n",
    "# System lock\n",
    "lock_query = \"SELECT * FROM irp_system_lock WHERE id = 1\"\n",
    "lock = db.execute_query(lock_query)\n",
    "if not lock.empty:\n",
    "    health_checks.append(['System Lock', ' Initialized'])\n",
    "else:\n",
    "    health_checks.append(['System Lock', ' Not Initialized'])\n",
    "\n",
    "display.display_table(health_checks, headers=['Component', 'Status'])\n",
    "\n",
    "print(\"\\nQuick Actions:\")\n",
    "print(\"  • Create new cycle: Run 'workflow/_Tools/Create New Cycle.ipynb'\")\n",
    "print(\"  • Initialize database: Run 'workflow/_Tools/Database Admin.ipynb'\")\n",
    "print(\"  • View step details: Navigate to workflows/Active_<cycle-name> directory\")"
   ]
  },
  {
   "cell_type": "markdown",
   "metadata": {},
   "source": [
    "---"
   ]
  }
 ],
 "metadata": {
  "kernelspec": {
   "display_name": "Python 3 (ipykernel)",
   "language": "python",
   "name": "python3"
  },
  "language_info": {
   "codemirror_mode": {
    "name": "ipython",
    "version": 3
   },
   "file_extension": ".py",
   "mimetype": "text/x-python",
   "name": "python",
   "nbconvert_exporter": "python",
   "pygments_lexer": "ipython3",
   "version": "3.11.6"
  }
 },
 "nbformat": 4,
 "nbformat_minor": 4
}
