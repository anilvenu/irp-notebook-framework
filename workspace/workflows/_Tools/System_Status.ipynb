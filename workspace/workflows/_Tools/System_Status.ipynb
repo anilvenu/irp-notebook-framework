{
 "cells": [
  {
   "cell_type": "markdown",
   "metadata": {},
   "source": [
    "# System Status\n",
    "\n",
    "View the current status of:\n",
    "- Active cycle\n",
    "- Step progress\n",
    "- Recent activity\n",
    "- System health"
   ]
  },
  {
   "cell_type": "code",
   "execution_count": 1,
   "metadata": {},
   "outputs": [
    {
     "name": "stdout",
     "output_type": "stream",
     "text": [
      "✅ Configuration loaded - Base path: /workspace\n",
      "✅ Database connection successful\n",
      "✅ Step Tracker loaded\n",
      "✅ Display utilities loaded\n"
     ]
    }
   ],
   "source": [
    "# Load helpers\n",
    "%run /workspace/system/helpers/03_StepTracker.ipynb\n",
    "%run /workspace/system/helpers/04_Display.ipynb"
   ]
  },
  {
   "cell_type": "markdown",
   "metadata": {},
   "source": [
    "## Active Cycle Status"
   ]
  },
  {
   "cell_type": "code",
   "execution_count": 2,
   "metadata": {},
   "outputs": [
    {
     "name": "stdout",
     "output_type": "stream",
     "text": [
      "============================================================\n",
      " Active Cycle Status\n",
      "============================================================\n",
      "============================================================\n",
      " Cycle: Q1_2024_Analysis\n",
      "============================================================\n",
      "+------------+---------------------+\n",
      "| Property   | Value               |\n",
      "+============+=====================+\n",
      "| Status     | active              |\n",
      "+------------+---------------------+\n",
      "| Created    | 2025-10-04 01:44:47 |\n",
      "+------------+---------------------+\n",
      "| Created By | notebook_user       |\n",
      "+------------+---------------------+\n",
      "| Stages     | 0                   |\n",
      "+------------+---------------------+\n",
      "| Steps      | 0                   |\n",
      "+------------+---------------------+\n",
      "\n",
      "📊 Progress Overview:\n",
      "Overall Completion:\n",
      "[░░░░░░░░░░░░░░░░░░░░░░░░░░░░░░░░░░░░░░░░] 0.0% (0/2)\n"
     ]
    }
   ],
   "source": [
    "print_header(\"Active Cycle Status\")\n",
    "\n",
    "active_cycle = get_active_cycle()\n",
    "if active_cycle:\n",
    "    display_cycle_summary(active_cycle)\n",
    "    \n",
    "    # Get additional stats\n",
    "    cycle_name = active_cycle['cycle_name']\n",
    "    \n",
    "    # Count completed steps\n",
    "    query = \"\"\"\n",
    "    SELECT COUNT(DISTINCT st.id) as completed_steps\n",
    "    FROM irp_step st\n",
    "    INNER JOIN irp_stage sg ON st.stage_id = sg.id\n",
    "    INNER JOIN irp_cycle c ON sg.cycle_id = c.id\n",
    "    WHERE c.cycle_name = %s\n",
    "    AND EXISTS (\n",
    "        SELECT 1 FROM irp_step_run sr \n",
    "        WHERE sr.step_id = st.id AND sr.status = 'completed'\n",
    "    )\n",
    "    \"\"\"\n",
    "    completed = execute_scalar(query, (cycle_name,))\n",
    "    \n",
    "    # Total steps\n",
    "    query = \"\"\"\n",
    "    SELECT COUNT(*) FROM irp_step st\n",
    "    INNER JOIN irp_stage sg ON st.stage_id = sg.id\n",
    "    INNER JOIN irp_cycle c ON sg.cycle_id = c.id\n",
    "    WHERE c.cycle_name = %s\n",
    "    \"\"\"\n",
    "    total = execute_scalar(query, (cycle_name,))\n",
    "    \n",
    "    print(f\"\\n📊 Progress Overview:\")\n",
    "    display_progress_bar(completed or 0, total or 0, title=\"Overall Completion\")\n",
    "    \n",
    "else:\n",
    "    print(\"⚠️  No active cycle\")\n",
    "    print(\"\\nRun 'Create_New_Cycle.ipynb' to create a new cycle\")"
   ]
  },
  {
   "cell_type": "markdown",
   "metadata": {},
   "source": [
    "## Step Progress Details"
   ]
  },
  {
   "cell_type": "code",
   "execution_count": 3,
   "metadata": {},
   "outputs": [
    {
     "name": "stdout",
     "output_type": "stream",
     "text": [
      "============================================================\n",
      " Step Progress: Q1_2024_Analysis\n",
      "============================================================\n",
      "\n",
      "📁 Stage 1: Setup\n",
      "  --------------------------------------------------\n",
      "  🔒 Step 1: Initialize\n",
      "      Status: ⭕ Not Started\n",
      "  🔒 Step 2: Validate\n",
      "      Status: ⭕ Not Started\n",
      "\n",
      "============================================================\n",
      "Summary:\n",
      "+----------------+---------+\n",
      "| Status         |   Count |\n",
      "+================+=========+\n",
      "| Total Steps    |       2 |\n",
      "+----------------+---------+\n",
      "| ✅ Completed   |       0 |\n",
      "+----------------+---------+\n",
      "| ⏳ Running     |       0 |\n",
      "+----------------+---------+\n",
      "| ❌ Failed      |       0 |\n",
      "+----------------+---------+\n",
      "| ⏭️ Skipped      |       0 |\n",
      "+----------------+---------+\n",
      "| ⭕ Not Started |       2 |\n",
      "+----------------+---------+\n"
     ]
    }
   ],
   "source": [
    "if active_cycle:\n",
    "    print_header(f\"Step Progress: {active_cycle['cycle_name']}\")\n",
    "    \n",
    "    progress_df = get_current_progress(active_cycle['cycle_name'])\n",
    "    if not progress_df.empty:\n",
    "        display_step_progress(progress_df)\n",
    "        \n",
    "        # Summary statistics\n",
    "        print(\"\\n\" + \"=\" * 60)\n",
    "        print(\"Summary:\")\n",
    "        status_counts = progress_df['last_status'].value_counts(dropna=False)\n",
    "        \n",
    "        total_steps = len(progress_df)\n",
    "        completed = status_counts.get('completed', 0)\n",
    "        running = status_counts.get('running', 0)\n",
    "        failed = status_counts.get('failed', 0)\n",
    "        skipped = status_counts.get('skipped', 0)\n",
    "        not_started = status_counts.get(None, 0) + status_counts.get(pd.NA, 0)\n",
    "        \n",
    "        summary_data = [\n",
    "            ['Total Steps', total_steps],\n",
    "            ['✅ Completed', completed],\n",
    "            ['⏳ Running', running],\n",
    "            ['❌ Failed', failed],\n",
    "            ['⏭️ Skipped', skipped],\n",
    "            ['⭕ Not Started', not_started]\n",
    "        ]\n",
    "        \n",
    "        display_status_table(summary_data, headers=['Status', 'Count'])\n",
    "    else:\n",
    "        print(\"No steps registered for this cycle\")"
   ]
  },
  {
   "cell_type": "markdown",
   "metadata": {},
   "source": [
    "## Recent Activity"
   ]
  },
  {
   "cell_type": "code",
   "execution_count": 4,
   "metadata": {},
   "outputs": [
    {
     "name": "stdout",
     "output_type": "stream",
     "text": [
      "============================================================\n",
      " Recent Activity\n",
      "============================================================\n",
      "No step runs yet\n"
     ]
    }
   ],
   "source": [
    "if active_cycle:\n",
    "    print_header(\"Recent Activity\")\n",
    "    \n",
    "    history_df = get_step_history(active_cycle['cycle_name'])\n",
    "    \n",
    "    if not history_df.empty:\n",
    "        # Show last 10 runs\n",
    "        display_df = history_df[['stage_name', 'step_name', 'run_number', 'status', \n",
    "                                'started_ts', 'duration_seconds']].head(10)\n",
    "        display_dataframe(display_df, title=\"Last 10 Step Runs\")\n",
    "    else:\n",
    "        print(\"No step runs yet\")"
   ]
  },
  {
   "cell_type": "markdown",
   "metadata": {},
   "source": [
    "## Directory Structure"
   ]
  },
  {
   "cell_type": "code",
   "execution_count": 5,
   "metadata": {},
   "outputs": [
    {
     "name": "stdout",
     "output_type": "stream",
     "text": [
      "============================================================\n",
      " Active Cycle Directory\n",
      "============================================================\n",
      "📁 /workspace/workflows/Active_Q1_2024_Analysis\n",
      "  📄 README.md\n",
      "  📁 files/\n",
      "  📁 logs/\n",
      "  📁 notebooks/\n",
      "    📁 Stage_01_Setup/\n",
      "      📁 .ipynb_checkpoints/\n",
      "      📄 README.md\n",
      "      📓 Step_01_Initialize.ipynb\n",
      "      📓 Step_02_Validate.ipynb\n"
     ]
    }
   ],
   "source": [
    "if active_cycle:\n",
    "    print_header(\"Active Cycle Directory\")\n",
    "    \n",
    "    active_dir = WORKFLOWS_PATH / f\"Active_{active_cycle['cycle_name']}\"\n",
    "    \n",
    "    if active_dir.exists():\n",
    "        print(f\"📁 {active_dir}\")\n",
    "        \n",
    "        def show_tree(path, prefix=\"  \", max_depth=3, current_depth=0):\n",
    "            if current_depth >= max_depth:\n",
    "                return\n",
    "            \n",
    "            items = sorted(path.iterdir())\n",
    "            for item in items:\n",
    "                if item.is_dir():\n",
    "                    print(f\"{prefix}📁 {item.name}/\")\n",
    "                    show_tree(item, prefix + \"  \", max_depth, current_depth + 1)\n",
    "                elif item.suffix == '.ipynb':\n",
    "                    print(f\"{prefix}📓 {item.name}\")\n",
    "                elif item.name not in ['.gitkeep', '.DS_Store']:\n",
    "                    print(f\"{prefix}📄 {item.name}\")\n",
    "        \n",
    "        show_tree(active_dir)\n",
    "    else:\n",
    "        print(f\"❌ Directory not found: {active_dir}\")"
   ]
  },
  {
   "cell_type": "markdown",
   "metadata": {},
   "source": [
    "## System Health Check"
   ]
  },
  {
   "cell_type": "code",
   "execution_count": 7,
   "metadata": {},
   "outputs": [
    {
     "name": "stdout",
     "output_type": "stream",
     "text": [
      "============================================================\n",
      " System Health\n",
      "============================================================\n",
      "+--------------+---------------------+\n",
      "| Component    | Status              |\n",
      "+==============+=====================+\n",
      "| Database     | ✅ Connected        |\n",
      "+--------------+---------------------+\n",
      "| Template     | ✅ Found            |\n",
      "+--------------+---------------------+\n",
      "| Active Cycle | ✅ Q1_2024_Analysis |\n",
      "+--------------+---------------------+\n",
      "| System Lock  | ✅ Initialized      |\n",
      "+--------------+---------------------+\n",
      "\n",
      "💡 Quick Actions:\n",
      "  • Create new cycle: Run 'Create_New_Cycle.ipynb'\n",
      "  • Initialize database: Run 'Database_Admin.ipynb'\n",
      "  • View step details: Check notebooks in Active_* directory\n"
     ]
    }
   ],
   "source": [
    "print_header(\"System Health\")\n",
    "\n",
    "health_checks = []\n",
    "\n",
    "# Database connection\n",
    "try:\n",
    "    if test_connection():\n",
    "        health_checks.append(['Database', '✅ Connected'])\n",
    "    else:\n",
    "        health_checks.append(['Database', '❌ Not Connected'])\n",
    "except:\n",
    "    health_checks.append(['Database', '❌ Error'])\n",
    "\n",
    "# Template directory\n",
    "if TEMPLATE_PATH.exists():\n",
    "    health_checks.append(['Template', '✅ Found'])\n",
    "else:\n",
    "    health_checks.append(['Template', '⚠️ Missing'])\n",
    "\n",
    "# Active cycle\n",
    "if active_cycle:\n",
    "    health_checks.append(['Active Cycle', f\"✅ {active_cycle['cycle_name']}\"])\n",
    "else:\n",
    "    health_checks.append(['Active Cycle', '⚠️ None'])\n",
    "\n",
    "# System lock\n",
    "lock = execute_query(\"SELECT * FROM irp_system_lock WHERE id = 1\")\n",
    "if not lock.empty:\n",
    "    health_checks.append(['System Lock', '✅ Initialized'])\n",
    "else:\n",
    "    health_checks.append(['System Lock', '❌ Not Initialized'])\n",
    "\n",
    "display_status_table(health_checks, headers=['Component', 'Status'])\n",
    "\n",
    "print(\"\\n💡 Quick Actions:\")\n",
    "print(\"  • Create new cycle: Run 'Create_New_Cycle.ipynb'\")\n",
    "print(\"  • Initialize database: Run 'Database_Admin.ipynb'\")\n",
    "print(\"  • View step details: Check notebooks in Active_* directory\")"
   ]
  },
  {
   "cell_type": "markdown",
   "metadata": {},
   "source": [
    "---"
   ]
  }
 ],
 "metadata": {
  "kernelspec": {
   "display_name": "Python 3 (ipykernel)",
   "language": "python",
   "name": "python3"
  },
  "language_info": {
   "codemirror_mode": {
    "name": "ipython",
    "version": 3
   },
   "file_extension": ".py",
   "mimetype": "text/x-python",
   "name": "python",
   "nbconvert_exporter": "python",
   "pygments_lexer": "ipython3",
   "version": "3.11.6"
  }
 },
 "nbformat": 4,
 "nbformat_minor": 4
}
