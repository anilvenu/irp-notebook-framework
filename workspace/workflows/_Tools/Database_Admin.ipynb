{
 "cells": [
  {
   "cell_type": "markdown",
   "metadata": {},
   "source": [
    "# Database Administration\n",
    "\n",
    "This notebook provides database management utilities:\n",
    "- Initialize database\n",
    "- Test connection\n",
    "- View database statistics\n",
    "- Cleanup utilities"
   ]
  },
  {
   "cell_type": "code",
   "execution_count": null,
   "metadata": {},
   "outputs": [],
   "source": [
    "# Load helpers\n",
    "%run /home/jovyan/work/system/helpers/01_Database.ipynb\n",
    "%run /home/jovyan/work/system/helpers/04_Display.ipynb"
   ]
  },
  {
   "cell_type": "markdown",
   "metadata": {},
   "source": [
    "## Test Database Connection"
   ]
  },
  {
   "cell_type": "code",
   "execution_count": null,
   "metadata": {},
   "outputs": [],
   "source": [
    "print_header(\"Database Connection Test\")\n",
    "\n",
    "if test_connection():\n",
    "    print(\"✅ Database connection successful\")\n",
    "    \n",
    "    # Show connection details\n",
    "    data = [\n",
    "        ['Server', DB_CONFIG['server']],\n",
    "        ['Database', DB_CONFIG['database']],\n",
    "        ['Port', DB_CONFIG['port']],\n",
    "        ['User', DB_CONFIG['username']]\n",
    "    ]\n",
    "    display_status_table(data, headers=['Property', 'Value'])\n",
    "    \n",
    "    # Get database version\n",
    "    version = execute_scalar(\"SELECT @@VERSION\")\n",
    "    print(f\"\\nSQL Server Version:\")\n",
    "    print(version[:100] + \"...\")\n",
    "else:\n",
    "    print(\"❌ Database connection failed\")\n",
    "    print(\"\\nTroubleshooting:\")\n",
    "    print(\"1. Check if SQL Server container is running: docker ps\")\n",
    "    print(\"2. Verify environment variables in .env file\")\n",
    "    print(\"3. Try initializing the database (next cell)\")"
   ]
  },
  {
   "cell_type": "markdown",
   "metadata": {},
   "source": [
    "## Initialize Database\n",
    "\n",
    "**Warning:** This will recreate all tables!"
   ]
  },
  {
   "cell_type": "code",
   "execution_count": null,
   "metadata": {},
   "outputs": [],
   "source": [
    "# Uncomment the next line to initialize/reset the database\n",
    "# init_database()"
   ]
  },
  {
   "cell_type": "markdown",
   "metadata": {},
   "source": [
    "## Database Statistics"
   ]
  },
  {
   "cell_type": "code",
   "execution_count": null,
   "metadata": {},
   "outputs": [],
   "source": [
    "print_header(\"Database Statistics\")\n",
    "\n",
    "# Table row counts\n",
    "tables = ['irp_cycle', 'irp_stage', 'irp_step', 'irp_step_run', 'irp_batch', 'irp_job']\n",
    "stats = []\n",
    "\n",
    "for table in tables:\n",
    "    try:\n",
    "        count = execute_scalar(f\"SELECT COUNT(*) FROM {table}\")\n",
    "        stats.append([table, count])\n",
    "    except:\n",
    "        stats.append([table, 'N/A'])\n",
    "\n",
    "display_status_table(stats, headers=['Table', 'Row Count'])\n",
    "\n",
    "# Active cycle info\n",
    "active = get_active_cycle()\n",
    "if active:\n",
    "    print(f\"\\n✅ Active Cycle: {active['cycle_name']}\")\n",
    "else:\n",
    "    print(\"\\n⚠️  No active cycle\")"
   ]
  },
  {
   "cell_type": "markdown",
   "metadata": {},
   "source": [
    "## View Recent Activity"
   ]
  },
  {
   "cell_type": "code",
   "execution_count": null,
   "metadata": {},
   "outputs": [],
   "source": [
    "print_header(\"Recent Step Runs\")\n",
    "\n",
    "query = \"\"\"\n",
    "SELECT TOP 10\n",
    "    c.cycle_name,\n",
    "    CONCAT(sg.stage_num, '.', st.step_num) as step,\n",
    "    st.step_name,\n",
    "    sr.status,\n",
    "    sr.started_ts,\n",
    "    sr.completed_ts\n",
    "FROM irp_step_run sr\n",
    "INNER JOIN irp_step st ON sr.step_id = st.id\n",
    "INNER JOIN irp_stage sg ON st.stage_id = sg.id\n",
    "INNER JOIN irp_cycle c ON sg.cycle_id = c.id\n",
    "ORDER BY sr.started_ts DESC\n",
    "\"\"\"\n",
    "\n",
    "df = execute_query(query)\n",
    "if not df.empty:\n",
    "    display_dataframe(df, max_rows=10)\n",
    "else:\n",
    "    print(\"No step runs found\")"
   ]
  },
  {
   "cell_type": "markdown",
   "metadata": {},
   "source": [
    "## Cleanup Utilities"
   ]
  },
  {
   "cell_type": "code",
   "execution_count": null,
   "metadata": {},
   "outputs": [],
   "source": [
    "# Clear failed step runs (uncomment to execute)\n",
    "# rows = execute_command(\"DELETE FROM irp_step_run WHERE status = 'failed'\")\n",
    "# print(f\"Deleted {rows} failed step runs\")\n",
    "\n",
    "# Clear all step runs but keep steps (uncomment to execute)\n",
    "# rows = execute_command(\"DELETE FROM irp_step_run\")\n",
    "# print(f\"Deleted {rows} step runs\")\n",
    "\n",
    "# Remove archived cycles older than 30 days (uncomment to execute)\n",
    "# query = \"\"\"DELETE FROM irp_cycle \n",
    "#           WHERE status = 'archived' \n",
    "#           AND archived_ts < DATEADD(day, -30, GETUTCDATE())\"\"\"\n",
    "# rows = execute_command(query)\n",
    "# print(f\"Deleted {rows} old archived cycles\")"
   ]
  }
 ],
 "metadata": {
  "kernelspec": {
   "display_name": "Python 3",
   "language": "python",
   "name": "python3"
  }
 },
 "nbformat": 4,
 "nbformat_minor": 4
}
