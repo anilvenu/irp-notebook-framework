{
 "cells": [
  {
   "cell_type": "markdown",
   "metadata": {},
   "source": [
    "# Database Administration\n",
    "\n",
    "This notebook provides database management utilities:\n",
    "- Initialize database\n",
    "- Test connection\n",
    "- View database statistics\n",
    "- Cleanup utilities"
   ]
  },
  {
   "cell_type": "code",
   "execution_count": 1,
   "metadata": {},
   "outputs": [
    {
     "name": "stdout",
     "output_type": "stream",
     "text": [
      "✅ Configuration loaded - Base path: /workspace\n",
      "✅ Database connection successful\n",
      "✅ Display utilities loaded\n"
     ]
    }
   ],
   "source": [
    "# Load helpers\n",
    "%run /workspace/system/helpers/01_Database.ipynb\n",
    "%run /workspace/system/helpers/04_Display.ipynb"
   ]
  },
  {
   "cell_type": "markdown",
   "metadata": {},
   "source": [
    "## Test Database Connection"
   ]
  },
  {
   "cell_type": "code",
   "execution_count": 3,
   "metadata": {},
   "outputs": [
    {
     "name": "stdout",
     "output_type": "stream",
     "text": [
      "============================================================\n",
      " Database Connection Test\n",
      "============================================================\n",
      "✅ Database connection successful\n",
      "+------------+----------+\n",
      "| Property   | Value    |\n",
      "+============+==========+\n",
      "| Server     | postgres |\n",
      "+------------+----------+\n",
      "| Database   | irp_db   |\n",
      "+------------+----------+\n",
      "| Port       | 5432     |\n",
      "+------------+----------+\n",
      "| User       | irp_user |\n",
      "+------------+----------+\n",
      "\n",
      "SQL Server Version:\n",
      "PostgreSQL 15.14 on x86_64-pc-linux-musl, compiled by gcc (Alpine 14.2.0) 14.2.0, 64-bit...\n"
     ]
    }
   ],
   "source": [
    "print_header(\"Database Connection Test\")\n",
    "\n",
    "if test_connection():\n",
    "    print(\"✅ Database connection successful\")\n",
    "    \n",
    "    # Show connection details\n",
    "    data = [\n",
    "        ['Server', DB_CONFIG['server']],\n",
    "        ['Database', DB_CONFIG['database']],\n",
    "        ['Port', DB_CONFIG['port']],\n",
    "        ['User', DB_CONFIG['username']]\n",
    "    ]\n",
    "    display_status_table(data, headers=['Property', 'Value'])\n",
    "    \n",
    "    # Get database version\n",
    "    version = execute_scalar(\"SELECT version()\")\n",
    "    print(f\"\\nSQL Server Version:\")\n",
    "    print(version[:100] + \"...\")\n",
    "else:\n",
    "    print(\"❌ Database connection failed\")\n",
    "    print(\"\\nTroubleshooting:\")\n",
    "    print(\"1. Check if SQL Server container is running: docker ps\")\n",
    "    print(\"2. Verify environment variables in .env file\")\n",
    "    print(\"3. Try initializing the database (next cell)\")"
   ]
  },
  {
   "cell_type": "markdown",
   "metadata": {},
   "source": [
    "## Initialize Database\n",
    "\n",
    "**Warning:** This will recreate all tables!"
   ]
  },
  {
   "cell_type": "code",
   "execution_count": 4,
   "metadata": {},
   "outputs": [
    {
     "name": "stdout",
     "output_type": "stream",
     "text": [
      "✅ Database initialized successfully\n"
     ]
    },
    {
     "data": {
      "text/plain": [
       "True"
      ]
     },
     "execution_count": 4,
     "metadata": {},
     "output_type": "execute_result"
    }
   ],
   "source": [
    "# Uncomment the next line to initialize/reset the database\n",
    "# init_database()"
   ]
  },
  {
   "cell_type": "markdown",
   "metadata": {},
   "source": [
    "## Database Statistics"
   ]
  },
  {
   "cell_type": "code",
   "execution_count": 5,
   "metadata": {},
   "outputs": [
    {
     "name": "stdout",
     "output_type": "stream",
     "text": [
      "============================================================\n",
      " Database Statistics\n",
      "============================================================\n",
      "+--------------+-------------+\n",
      "| Table        |   Row Count |\n",
      "+==============+=============+\n",
      "| irp_cycle    |           0 |\n",
      "+--------------+-------------+\n",
      "| irp_stage    |           0 |\n",
      "+--------------+-------------+\n",
      "| irp_step     |           0 |\n",
      "+--------------+-------------+\n",
      "| irp_step_run |           0 |\n",
      "+--------------+-------------+\n",
      "| irp_batch    |           0 |\n",
      "+--------------+-------------+\n",
      "| irp_job      |           0 |\n",
      "+--------------+-------------+\n",
      "\n",
      "⚠️  No active cycle\n"
     ]
    }
   ],
   "source": [
    "print_header(\"Database Statistics\")\n",
    "\n",
    "# Table row counts\n",
    "tables = ['irp_cycle', 'irp_stage', 'irp_step', 'irp_step_run', 'irp_batch', 'irp_job']\n",
    "stats = []\n",
    "\n",
    "for table in tables:\n",
    "    try:\n",
    "        count = execute_scalar(f\"SELECT COUNT(*) FROM {table}\")\n",
    "        stats.append([table, count])\n",
    "    except:\n",
    "        stats.append([table, 'N/A'])\n",
    "\n",
    "display_status_table(stats, headers=['Table', 'Row Count'])\n",
    "\n",
    "# Active cycle info\n",
    "active = get_active_cycle()\n",
    "if active:\n",
    "    print(f\"\\n✅ Active Cycle: {active['cycle_name']}\")\n",
    "else:\n",
    "    print(\"\\n⚠️  No active cycle\")"
   ]
  },
  {
   "cell_type": "markdown",
   "metadata": {},
   "source": [
    "## View Recent Activity"
   ]
  },
  {
   "cell_type": "code",
   "execution_count": 6,
   "metadata": {},
   "outputs": [
    {
     "name": "stdout",
     "output_type": "stream",
     "text": [
      "============================================================\n",
      " Recent Step Runs\n",
      "============================================================\n",
      "No step runs found\n"
     ]
    }
   ],
   "source": [
    "print_header(\"Recent Step Runs\")\n",
    "\n",
    "query = \"\"\"\n",
    "SELECT\n",
    "    c.cycle_name,\n",
    "    CONCAT(sg.stage_num, '.', st.step_num) as step,\n",
    "    st.step_name,\n",
    "    sr.status,\n",
    "    sr.started_ts,\n",
    "    sr.completed_ts\n",
    "FROM irp_step_run sr\n",
    "INNER JOIN irp_step st ON sr.step_id = st.id\n",
    "INNER JOIN irp_stage sg ON st.stage_id = sg.id\n",
    "INNER JOIN irp_cycle c ON sg.cycle_id = c.id\n",
    "ORDER BY sr.started_ts DESC\n",
    "LIMIT 10\n",
    "\"\"\"\n",
    "\n",
    "df = execute_query(query)\n",
    "if not df.empty:\n",
    "    display_dataframe(df, max_rows=10)\n",
    "else:\n",
    "    print(\"No step runs found\")"
   ]
  },
  {
   "cell_type": "markdown",
   "metadata": {},
   "source": [
    "## Cleanup Utilities"
   ]
  },
  {
   "cell_type": "code",
   "execution_count": null,
   "metadata": {},
   "outputs": [],
   "source": [
    "# Clear failed step runs (uncomment to execute)\n",
    "# rows = execute_command(\"DELETE FROM irp_step_run WHERE status = 'failed'\")\n",
    "# print(f\"Deleted {rows} failed step runs\")\n",
    "\n",
    "# Clear all step runs but keep steps (uncomment to execute)\n",
    "# rows = execute_command(\"DELETE FROM irp_step_run\")\n",
    "# print(f\"Deleted {rows} step runs\")\n",
    "\n",
    "# Remove archived cycles older than 30 days (uncomment to execute)\n",
    "# query = \"\"\"DELETE FROM irp_cycle \n",
    "#           WHERE status = 'archived' \n",
    "#           AND archived_ts < NOW() - INTERVAL '30 days'\"\"\"\n",
    "# \"\"\"\n",
    "# rows = execute_command(query)\n",
    "# print(f\"Deleted {rows} old archived cycles\")"
   ]
  }
 ],
 "metadata": {
  "kernelspec": {
   "display_name": "Python 3 (ipykernel)",
   "language": "python",
   "name": "python3"
  },
  "language_info": {
   "codemirror_mode": {
    "name": "ipython",
    "version": 3
   },
   "file_extension": ".py",
   "mimetype": "text/x-python",
   "name": "python",
   "nbconvert_exporter": "python",
   "pygments_lexer": "ipython3",
   "version": "3.11.6"
  }
 },
 "nbformat": 4,
 "nbformat_minor": 4
}
