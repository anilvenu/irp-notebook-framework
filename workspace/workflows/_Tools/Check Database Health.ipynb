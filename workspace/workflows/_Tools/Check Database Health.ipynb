{
 "cells": [
  {
   "cell_type": "markdown",
   "metadata": {},
   "source": [
    "# Database Health Check\n",
    "\n",
    "This notebook provides database management utilities:\n",
    "- Test connection\n",
    "- View database table row-counts"
   ]
  },
  {
   "cell_type": "code",
   "execution_count": 2,
   "metadata": {},
   "outputs": [],
   "source": [
    "import sys\n",
    "from system import database, ux"
   ]
  },
  {
   "cell_type": "markdown",
   "metadata": {},
   "source": [
    "## Database Connection Test"
   ]
  },
  {
   "cell_type": "code",
   "execution_count": 4,
   "metadata": {
    "scrolled": true
   },
   "outputs": [
    {
     "data": {
      "text/html": [
       "<span style='color:green; font-weight:bold;'>Database connection successful</span>"
      ],
      "text/plain": [
       "<IPython.core.display.HTML object>"
      ]
     },
     "metadata": {},
     "output_type": "display_data"
    },
    {
     "data": {
      "text/html": [
       "<table border=\"1\" class=\"dataframe\">\n",
       "  <thead>\n",
       "    <tr style=\"text-align: right;\">\n",
       "      <th>Property</th>\n",
       "      <th>Value</th>\n",
       "    </tr>\n",
       "  </thead>\n",
       "  <tbody>\n",
       "    <tr>\n",
       "      <td>Server</td>\n",
       "      <td>postgres</td>\n",
       "    </tr>\n",
       "    <tr>\n",
       "      <td>Database</td>\n",
       "      <td>irp_db</td>\n",
       "    </tr>\n",
       "    <tr>\n",
       "      <td>Port</td>\n",
       "      <td>5432</td>\n",
       "    </tr>\n",
       "    <tr>\n",
       "      <td>User</td>\n",
       "      <td>irp_user</td>\n",
       "    </tr>\n",
       "  </tbody>\n",
       "</table>"
      ],
      "text/plain": [
       "<IPython.core.display.HTML object>"
      ]
     },
     "metadata": {},
     "output_type": "display_data"
    },
    {
     "name": "stdout",
     "output_type": "stream",
     "text": [
      "\n",
      "PostgreSQL Version:\n",
      "PostgreSQL 15.14 on x86_64-pc-linux-musl, compiled by gcc (Alpine 14.2.0) 14.2.0, 64-bit...\n"
     ]
    }
   ],
   "source": [
    "if database.test_connection():\n",
    "    ux.success(\"Database connection successful\")\n",
    "    \n",
    "    # Show connection details\n",
    "    from system.config import DB_CONFIG\n",
    "    \n",
    "    data = [\n",
    "        ['Server', DB_CONFIG['host']],\n",
    "        ['Database', DB_CONFIG['database']],\n",
    "        ['Port', DB_CONFIG['port']],\n",
    "        ['User', DB_CONFIG['user']]\n",
    "    ]\n",
    "    ux.table(data, headers=['Property', 'Value'])\n",
    "    \n",
    "    # Get database version\n",
    "    version = database.execute_scalar(\"SELECT version()\")\n",
    "    print(f\"\\nPostgreSQL Version:\")\n",
    "    print(version[:100] + \"...\")\n",
    "    \n",
    "else:\n",
    "    ux.error(\"Database connection failed\")\n",
    "    print(\"\\nTroubleshooting:\")\n",
    "    print(\"1. Check if PostgreSQL container is running: docker ps\")\n",
    "    print(\"2. Verify environment variables in .env file\")\n",
    "    print(\"3. Try initializing the database (next cell)\")"
   ]
  },
  {
   "cell_type": "markdown",
   "metadata": {},
   "source": [
    "## Table Summary"
   ]
  },
  {
   "cell_type": "code",
   "execution_count": 12,
   "metadata": {},
   "outputs": [
    {
     "data": {
      "text/html": [
       "<h3 style='font-weight:bold; font-size:1.1em; color:#111;'>Analyst Workflow Tables</h3>"
      ],
      "text/plain": [
       "<IPython.core.display.HTML object>"
      ]
     },
     "metadata": {},
     "output_type": "display_data"
    },
    {
     "data": {
      "text/html": [
       "<table border=\"1\" class=\"dataframe\">\n",
       "  <thead>\n",
       "    <tr style=\"text-align: right;\">\n",
       "      <th>Table</th>\n",
       "      <th>Row Count</th>\n",
       "    </tr>\n",
       "  </thead>\n",
       "  <tbody>\n",
       "    <tr>\n",
       "      <td>irp_cycle</td>\n",
       "      <td>1</td>\n",
       "    </tr>\n",
       "    <tr>\n",
       "      <td>irp_stage</td>\n",
       "      <td>1</td>\n",
       "    </tr>\n",
       "    <tr>\n",
       "      <td>irp_step</td>\n",
       "      <td>2</td>\n",
       "    </tr>\n",
       "    <tr>\n",
       "      <td>irp_step_run</td>\n",
       "      <td>2</td>\n",
       "    </tr>\n",
       "    <tr>\n",
       "      <td>irp_batch</td>\n",
       "      <td>0</td>\n",
       "    </tr>\n",
       "    <tr>\n",
       "      <td>irp_job</td>\n",
       "      <td>0</td>\n",
       "    </tr>\n",
       "  </tbody>\n",
       "</table>"
      ],
      "text/plain": [
       "<IPython.core.display.HTML object>"
      ]
     },
     "metadata": {},
     "output_type": "display_data"
    },
    {
     "data": {
      "text/html": [
       "<h4 style='font-weight:bold; font-size:1.0em; color:#333;'>Active Cycle</h4>"
      ],
      "text/plain": [
       "<IPython.core.display.HTML object>"
      ]
     },
     "metadata": {},
     "output_type": "display_data"
    },
    {
     "data": {
      "text/html": [
       "<span style='color:green; font-weight:bold;'>\n",
       "Q4_2025_Demo-Analysis</span>"
      ],
      "text/plain": [
       "<IPython.core.display.HTML object>"
      ]
     },
     "metadata": {},
     "output_type": "display_data"
    }
   ],
   "source": [
    "ux.header(\"Analyst Workflow Tables\")\n",
    "# Table row counts\n",
    "tables = ['irp_cycle', 'irp_stage', 'irp_step', 'irp_step_run', 'irp_batch', 'irp_job']\n",
    "stats = []\n",
    "for table in tables:\n",
    "    count = database.execute_scalar(f\"SELECT COUNT(*) FROM {table}\")\n",
    "    stats.append([table, count])        \n",
    "ux.table(stats, headers=['Table', 'Row Count'])\n",
    "# Print the active cycle information\n",
    "ux.subheader(\"Active Cycle\")\n",
    "active = database.get_active_cycle()\n",
    "if active:\n",
    "    ux.success(f\"\\n{active['cycle_name']}\")\n",
    "else:\n",
    "    ux.warning(\"None\")"
   ]
  },
  {
   "cell_type": "markdown",
   "metadata": {},
   "source": [
    "---"
   ]
  }
 ],
 "metadata": {
  "kernelspec": {
   "display_name": "Python 3 (ipykernel)",
   "language": "python",
   "name": "python3"
  },
  "language_info": {
   "codemirror_mode": {
    "name": "ipython",
    "version": 3
   },
   "file_extension": ".py",
   "mimetype": "text/x-python",
   "name": "python",
   "nbconvert_exporter": "python",
   "pygments_lexer": "ipython3",
   "version": "3.11.6"
  }
 },
 "nbformat": 4,
 "nbformat_minor": 4
}
