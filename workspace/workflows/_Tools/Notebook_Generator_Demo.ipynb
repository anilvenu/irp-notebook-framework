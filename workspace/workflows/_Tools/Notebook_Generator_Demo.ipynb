{
 "cells": [
  {
   "cell_type": "markdown",
   "metadata": {},
   "source": [
    "# Notebook Generator Demo\n",
    "\n",
    "This notebook demonstrates how to use the `notebook_generator` module to dynamically create Jupyter notebooks from CSV or Excel files.\n",
    "\n",
    "## Overview\n",
    "\n",
    "The notebook generator reads a CSV or Excel file with the following structure:\n",
    "- **Stage**: Folder name\n",
    "- **Step**: Notebook name (without .ipynb extension)\n",
    "- **Activities**: Markdown header content\n",
    "\n",
    "It then creates:\n",
    "1. A folder for each unique Stage\n",
    "2. A notebook for each unique Step within its Stage folder\n",
    "3. For each Activity: a markdown cell (with activity as header) followed by an empty code cell\n",
    "\n",
    "## Key Features\n",
    "\n",
    "- **Automatic file type detection**: Based on file extension (.csv, .xlsx, .xls, .xlsm)\n",
    "- **Excel sheet support**: Specify sheet name or use first sheet by default\n",
    "- **Overwrite control**: Choose whether to overwrite existing notebooks\n",
    "- **Clear function**: Safely clear generated folders with built-in safety checks\n",
    "- **Statistics tracking**: Get detailed info on what was created or deleted\n",
    "- **Preview mode**: Check structure before generating files\n",
    "\n",
    "## Dependencies\n",
    "\n",
    "- **nbformat**: Required (for creating notebooks)\n",
    "- **pandas**: Required for Excel files only (install with: `pip install pandas openpyxl`)"
   ]
  },
  {
   "cell_type": "markdown",
   "metadata": {},
   "source": [
    "## Setup"
   ]
  },
  {
   "cell_type": "code",
   "execution_count": 7,
   "metadata": {},
   "outputs": [
    {
     "name": "stdout",
     "output_type": "stream",
     "text": [
      "The autoreload extension is already loaded. To reload it, use:\n",
      "  %reload_ext autoreload\n"
     ]
    }
   ],
   "source": [
    "%load_ext autoreload\n",
    "%autoreload 2\n",
    "import sys\n",
    "import os\n",
    "from pathlib import Path\n",
    "sys.path.append('../../')\n",
    "\n",
    "from helpers.notebook_generator import (\n",
    "    generate_notebooks_from_file,\n",
    "    generate_notebooks_from_csv,  # Backward compatibility\n",
    "    preview_structure,\n",
    "    clear_generated_folder\n",
    ")"
   ]
  },
  {
   "cell_type": "markdown",
   "metadata": {},
   "source": [
    "## Example 1: CSV Files\n",
    "\n",
    "### Preview Structure\n",
    "\n",
    "Before generating notebooks, let's preview what will be created from a CSV file:"
   ]
  },
  {
   "cell_type": "code",
   "execution_count": 8,
   "metadata": {},
   "outputs": [
    {
     "name": "stdout",
     "output_type": "stream",
     "text": [
      "Folder Structure Preview:\n",
      "============================================================\n",
      "Source: CSV file\n",
      "============================================================\n",
      "01_Setup/\n",
      "  - 01_Initialize_Environment.ipynb (4 activities)\n",
      "  - 02_Validate_Config_File.ipynb (4 activities)\n",
      "02_Data_Extraction/\n",
      "  - 01_Validate_And_Update_SQL_Scripts.ipynb (3 activities)\n",
      "  - 02_Extract_Import_CSVs.ipynb (2 activities)\n",
      "03_Data_Import/\n",
      "  - 01_Import_Base_Data.ipynb (4 activities)\n",
      "  - 02_Portfolio_Mapping.ipynb (4 activities)\n",
      "04_Analysis_Execution/\n",
      "  - 01_GeoHaz_Portfolios.ipynb (3 activities)\n",
      "  - 02_Execute_Analysis.ipynb (2 activities)\n",
      "05_Grouping_and_Export/\n",
      "  - 01_Group_Analysis_Results.ipynb (2 activities)\n",
      "  - 02_Export_to_RDM.ipynb (2 activities)\n",
      "============================================================\n"
     ]
    }
   ],
   "source": [
    "csv_filename = \"stages_and_steps.csv\"\n",
    "csv_file = os.path.join(Path(os.getcwd()) / \"workspace\" / \"workflows\" / \"_Tools\" / \"files\", csv_filename)\n",
    "\n",
    "# Preview the folder structure\n",
    "print(preview_structure(csv_file))"
   ]
  },
  {
   "cell_type": "markdown",
   "metadata": {},
   "source": [
    "### Generate Notebooks from CSV\n",
    "\n",
    "Now let's generate the actual notebooks and folder structure from the CSV file:"
   ]
  },
  {
   "cell_type": "code",
   "execution_count": 9,
   "metadata": {},
   "outputs": [
    {
     "name": "stdout",
     "output_type": "stream",
     "text": [
      "Parsing CSV file: /home/jovyan/workspace/workflows/_Tools/files/stages_and_steps.csv\n",
      "Output directory: /home/jovyan/workspace/workflows/_Template/generated\n",
      "Found 5 stages\n",
      "\n",
      "Stage: 01_Setup\n",
      "  - 01_Initialize_Environment.ipynb (4 activities)\n",
      "  - 02_Validate_Config_File.ipynb (4 activities)\n",
      "\n",
      "Stage: 02_Data_Extraction\n",
      "  - 01_Validate_And_Update_SQL_Scripts.ipynb (3 activities)\n",
      "  - 02_Extract_Import_CSVs.ipynb (2 activities)\n",
      "\n",
      "Stage: 03_Data_Import\n",
      "  - 01_Import_Base_Data.ipynb (4 activities)\n",
      "  - 02_Portfolio_Mapping.ipynb (4 activities)\n",
      "\n",
      "Stage: 04_Analysis_Execution\n",
      "  - 01_GeoHaz_Portfolios.ipynb (3 activities)\n",
      "  - 02_Execute_Analysis.ipynb (2 activities)\n",
      "\n",
      "Stage: 05_Grouping_and_Export\n",
      "  - 01_Group_Analysis_Results.ipynb (2 activities)\n",
      "  - 02_Export_to_RDM.ipynb (2 activities)\n",
      "\n",
      "============================================================\n",
      "GENERATION COMPLETE\n",
      "============================================================\n",
      "Stages created: 5\n",
      "Notebooks created: 10\n",
      "Notebooks skipped: 0\n",
      "Total activities: 30\n",
      "============================================================\n",
      "\n",
      "Generation statistics:\n",
      "{'stages_created': 5, 'notebooks_created': 10, 'notebooks_skipped': 0, 'total_activities': 30}\n"
     ]
    }
   ],
   "source": [
    "# Construct output directory path\n",
    "output_dir = os.path.join(Path(os.getcwd()) / \"workspace\" / \"workflows\", \"_Template\", \"generated\")\n",
    "\n",
    "# Generate notebooks from CSV\n",
    "stats = generate_notebooks_from_file(\n",
    "    file_path=csv_file,\n",
    "    output_dir=output_dir,\n",
    "    overwrite=True,  # Set to True to overwrite existing notebooks\n",
    "    verbose=True\n",
    ")\n",
    "\n",
    "print(\"\\nGeneration statistics:\")\n",
    "print(stats)"
   ]
  },
  {
   "cell_type": "markdown",
   "metadata": {},
   "source": [
    "## Example 2: Excel Files\n",
    "\n",
    "### Preview Excel Structure\n",
    "\n",
    "You can also work with Excel files. The module will automatically detect the file type:"
   ]
  },
  {
   "cell_type": "code",
   "execution_count": 10,
   "metadata": {},
   "outputs": [
    {
     "name": "stdout",
     "output_type": "stream",
     "text": [
      "Folder Structure Preview:\n",
      "============================================================\n",
      "Source: Excel file (first sheet)\n",
      "============================================================\n",
      "01_Setup/\n",
      "  - 01_Initialize_Environment.ipynb (4 activities)\n",
      "  - 02_Validate_Config_File.ipynb (4 activities)\n",
      "02_Data_Extraction/\n",
      "  - 01_Validate_And_Update_SQL_Scripts.ipynb (3 activities)\n",
      "  - 02_Extract_Import_CSVs.ipynb (2 activities)\n",
      "03_Data_Import/\n",
      "  - 01_Import_Base_Data.ipynb (4 activities)\n",
      "  - 02_Portfolio_Mapping.ipynb (4 activities)\n",
      "04_Analysis_Execution/\n",
      "  - 01_GeoHaz_Portfolios.ipynb (3 activities)\n",
      "  - 02_Execute_Analysis.ipynb (2 activities)\n",
      "05_Grouping_and_Export/\n",
      "  - 01_Group_Analysis_Results.ipynb (2 activities)\n",
      "  - 02_Export_to_RDM.ipynb (2 activities)\n",
      "============================================================\n",
      "Folder Structure Preview:\n",
      "============================================================\n",
      "Source: Excel file (sheet: Sheet1)\n",
      "============================================================\n",
      "01_Setup/\n",
      "  - 01_Initialize_Environment.ipynb (4 activities)\n",
      "  - 02_Validate_Config_File.ipynb (4 activities)\n",
      "02_Data_Extraction/\n",
      "  - 01_Validate_And_Update_SQL_Scripts.ipynb (3 activities)\n",
      "  - 02_Extract_Import_CSVs.ipynb (2 activities)\n",
      "03_Data_Import/\n",
      "  - 01_Import_Base_Data.ipynb (4 activities)\n",
      "  - 02_Portfolio_Mapping.ipynb (4 activities)\n",
      "04_Analysis_Execution/\n",
      "  - 01_GeoHaz_Portfolios.ipynb (3 activities)\n",
      "  - 02_Execute_Analysis.ipynb (2 activities)\n",
      "05_Grouping_and_Export/\n",
      "  - 01_Group_Analysis_Results.ipynb (2 activities)\n",
      "  - 02_Export_to_RDM.ipynb (2 activities)\n",
      "============================================================\n"
     ]
    }
   ],
   "source": [
    "# Example with Excel file\n",
    "excel_filename = \"stages_and_steps.xlsx\"\n",
    "excel_file = os.path.join(Path(os.getcwd()) / \"workspace\" / \"workflows\" / \"_Tools\" / \"files\", excel_filename)\n",
    "print(preview_structure(excel_file))\n",
    "\n",
    "# Or specify a specific sheet\n",
    "print(preview_structure(excel_file, sheet_name=\"Sheet1\"))"
   ]
  },
  {
   "cell_type": "markdown",
   "metadata": {},
   "source": [
    "### Generate Notebooks from Excel\n",
    "\n",
    "Generate notebooks from Excel file (automatically detects file type):"
   ]
  },
  {
   "cell_type": "code",
   "execution_count": 11,
   "metadata": {},
   "outputs": [
    {
     "name": "stdout",
     "output_type": "stream",
     "text": [
      "Parsing Excel file: /home/jovyan/workspace/workflows/_Tools/files/stages_and_steps.xlsx (sheet: Sheet1)\n",
      "Output directory: /home/jovyan/workspace/workflows/_Template/generated\n",
      "Found 5 stages\n",
      "\n",
      "Stage: 01_Setup\n",
      "  - 01_Initialize_Environment.ipynb (4 activities)\n",
      "  - 02_Validate_Config_File.ipynb (4 activities)\n",
      "\n",
      "Stage: 02_Data_Extraction\n",
      "  - 01_Validate_And_Update_SQL_Scripts.ipynb (3 activities)\n",
      "  - 02_Extract_Import_CSVs.ipynb (2 activities)\n",
      "\n",
      "Stage: 03_Data_Import\n",
      "  - 01_Import_Base_Data.ipynb (4 activities)\n",
      "  - 02_Portfolio_Mapping.ipynb (4 activities)\n",
      "\n",
      "Stage: 04_Analysis_Execution\n",
      "  - 01_GeoHaz_Portfolios.ipynb (3 activities)\n",
      "  - 02_Execute_Analysis.ipynb (2 activities)\n",
      "\n",
      "Stage: 05_Grouping_and_Export\n",
      "  - 01_Group_Analysis_Results.ipynb (2 activities)\n",
      "  - 02_Export_to_RDM.ipynb (2 activities)\n",
      "\n",
      "============================================================\n",
      "GENERATION COMPLETE\n",
      "============================================================\n",
      "Stages created: 0\n",
      "Notebooks created: 10\n",
      "Notebooks skipped: 0\n",
      "Total activities: 30\n",
      "============================================================\n",
      "\n",
      "Generation statistics:\n",
      "{'stages_created': 0, 'notebooks_created': 10, 'notebooks_skipped': 0, 'total_activities': 30}\n"
     ]
    }
   ],
   "source": [
    "output_dir = os.path.join(Path(os.getcwd()) / \"workspace\" / \"workflows\", \"_Template\", \"generated\")\n",
    "\n",
    "stats = generate_notebooks_from_file(\n",
    "    file_path=excel_file,\n",
    "    output_dir=output_dir,\n",
    "    sheet_name=\"Sheet1\",  # Optional: specify sheet name (default: first sheet)\n",
    "    overwrite=True,\n",
    "    verbose=True\n",
    ")\n",
    "\n",
    "print(\"\\nGeneration statistics:\")\n",
    "print(stats)"
   ]
  },
  {
   "cell_type": "markdown",
   "metadata": {},
   "source": [
    "## Key Features\n",
    "\n",
    "- **Automatic file type detection**: Based on file extension (.csv, .xlsx, .xls, .xlsm)\n",
    "- **Excel sheet support**: Specify sheet name or use first sheet by default\n",
    "- **Overwrite control**: Choose whether to overwrite existing notebooks\n",
    "- **Clear function**: Safely clear generated folders with built-in safety checks\n",
    "- **Statistics tracking**: Get detailed info on what was created or deleted\n",
    "- **Preview mode**: Check structure before generating files\n",
    "\n",
    "## Dependencies\n",
    "\n",
    "- **nbformat**: Required (for creating notebooks)\n",
    "- **pandas**: Required for Excel files only (install with: `pip install pandas openpyxl`)"
   ]
  },
  {
   "cell_type": "markdown",
   "metadata": {},
   "source": [
    "## Clearing the Generated Folder\n",
    "\n",
    "Before regenerating notebooks, you may want to clear out the existing generated folder. The module provides a safe way to do this with built-in safety checks:"
   ]
  },
  {
   "cell_type": "markdown",
   "metadata": {},
   "source": [
    "### Safety Features\n",
    "\n",
    "The `clear_generated_folder` function includes important safety features:\n",
    "\n",
    "1. **Path Validation**: By default, the path must contain 'generated' to prevent accidental deletion of important folders\n",
    "2. **Statistics**: Returns detailed info about what was deleted\n",
    "3. **Confirmation**: The `confirm=True` parameter enforces the safety check\n",
    "\n",
    "**WARNING**: Only use `confirm=False` if you're absolutely certain about the path!"
   ]
  },
  {
   "cell_type": "code",
   "execution_count": 12,
   "metadata": {},
   "outputs": [
    {
     "name": "stdout",
     "output_type": "stream",
     "text": [
      "Clearing directory: /home/jovyan/workspace/workflows/_Template/generated\n",
      "Found 10 files and 5 folders\n",
      "============================================================\n",
      "CLEAR COMPLETE\n",
      "============================================================\n",
      "Removed 10 files and 5 folders\n",
      "============================================================\n",
      "\n",
      "Clear statistics:\n",
      "{'deleted': True, 'folders_removed': 5, 'files_removed': 10, 'path': '/home/jovyan/workspace/workflows/_Template/generated'}\n"
     ]
    }
   ],
   "source": [
    "# Clear the generated folder\n",
    "# NOTE: This has a built-in safety check - the path must contain 'generated'\n",
    "output_dir = os.path.join(Path(os.getcwd()) / \"workspace\" / \"workflows\", \"_Template\", \"generated\")\n",
    "\n",
    "clear_stats = clear_generated_folder(\n",
    "    output_dir=output_dir,\n",
    "    confirm=True,  # Safety check: path must contain 'generated'\n",
    "    verbose=True\n",
    ")\n",
    "\n",
    "print(\"\\nClear statistics:\")\n",
    "print(clear_stats)"
   ]
  }
 ],
 "metadata": {
  "kernelspec": {
   "display_name": "Python 3 (ipykernel)",
   "language": "python",
   "name": "python3"
  },
  "language_info": {
   "codemirror_mode": {
    "name": "ipython",
    "version": 3
   },
   "file_extension": ".py",
   "mimetype": "text/x-python",
   "name": "python",
   "nbconvert_exporter": "python",
   "pygments_lexer": "ipython3",
   "version": "3.11.6"
  }
 },
 "nbformat": 4,
 "nbformat_minor": 4
}
