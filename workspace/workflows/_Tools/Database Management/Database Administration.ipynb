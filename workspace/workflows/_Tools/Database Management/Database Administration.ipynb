{
 "cells": [
  {
   "cell_type": "markdown",
   "metadata": {},
   "source": [
    "# Database Administration\n",
    "\n",
    "This notebook provides database management utilities:\n",
    "- Initialize database\n",
    "- Test connection\n",
    "- View database statistics\n",
    "- Cleanup utilities"
   ]
  },
  {
   "cell_type": "code",
   "execution_count": 1,
   "metadata": {},
   "outputs": [],
   "source": [
    "import sys\n",
    "from helpers import database, ux"
   ]
  },
  {
   "cell_type": "markdown",
   "metadata": {},
   "source": [
    "## Database Connectivity Check"
   ]
  },
  {
   "cell_type": "code",
   "execution_count": 2,
   "metadata": {
    "scrolled": true
   },
   "outputs": [
    {
     "data": {
      "text/html": [
       "<span style='color:green; font-weight:bold;'>Database connection successful</span>"
      ],
      "text/plain": [
       "<IPython.core.display.HTML object>"
      ]
     },
     "metadata": {},
     "output_type": "display_data"
    },
    {
     "data": {
      "text/html": [
       "<table border=\"1\" class=\"dataframe\">\n",
       "  <thead>\n",
       "    <tr style=\"text-align: right;\">\n",
       "      <th>Property</th>\n",
       "      <th>Value</th>\n",
       "    </tr>\n",
       "  </thead>\n",
       "  <tbody>\n",
       "    <tr>\n",
       "      <td>Server</td>\n",
       "      <td>postgres</td>\n",
       "    </tr>\n",
       "    <tr>\n",
       "      <td>Database</td>\n",
       "      <td>irp_db</td>\n",
       "    </tr>\n",
       "    <tr>\n",
       "      <td>Port</td>\n",
       "      <td>5432</td>\n",
       "    </tr>\n",
       "    <tr>\n",
       "      <td>User</td>\n",
       "      <td>irp_user</td>\n",
       "    </tr>\n",
       "  </tbody>\n",
       "</table>"
      ],
      "text/plain": [
       "<IPython.core.display.HTML object>"
      ]
     },
     "metadata": {},
     "output_type": "display_data"
    },
    {
     "name": "stdout",
     "output_type": "stream",
     "text": [
      "\n",
      "PostgreSQL Version:\n",
      "PostgreSQL 15.14 on x86_64-pc-linux-musl, compiled by gcc (Alpine 14.2.0) 14.2.0, 64-bit...\n"
     ]
    }
   ],
   "source": [
    "%run \"./Database Connectivity Check.ipynb\""
   ]
  },
  {
   "cell_type": "markdown",
   "metadata": {},
   "source": [
    "## User Input | Initialize Database Now?"
   ]
  },
  {
   "cell_type": "code",
   "execution_count": 3,
   "metadata": {},
   "outputs": [
    {
     "name": "stdout",
     "output_type": "stream",
     "text": [
      "How would you like to proceed?\n",
      "Options:\n",
      "1. Do not initialize the database.\n",
      "2. Initialize.  !!! WARNING - THIS WILL CLEAR ALL METADATA\n",
      "Enter 1-2 or 'cancel' to stop\n"
     ]
    },
    {
     "name": "stdin",
     "output_type": "stream",
     "text": [
      ">  2\n"
     ]
    },
    {
     "data": {
      "text/html": [
       "<span style='color:#b58900; font-weight:bold;'>Initialize.  !!! WARNING - THIS WILL CLEAR ALL METADATA</span>"
      ],
      "text/plain": [
       "<IPython.core.display.HTML object>"
      ]
     },
     "metadata": {},
     "output_type": "display_data"
    }
   ],
   "source": [
    "initialize_db = ux.dropdown([\"Do not initialize the database.\", \n",
    "                       \"Initialize.  !!! WARNING - THIS WILL CLEAR ALL METADATA\"\n",
    "                      ], \n",
    "                      \"How would you like to proceed?\")\n",
    "if initialize_db is None:\n",
    "    print(\"You have canceled the operation.\")\n",
    "    sys.exit()\n",
    "ux.warning(f\"{initialize_db}\")"
   ]
  },
  {
   "cell_type": "code",
   "execution_count": 4,
   "metadata": {},
   "outputs": [
    {
     "data": {
      "text/html": [
       "<h4 style='font-weight:bold; font-size:1.0em; color:#333;'>Initializing Database</h4>"
      ],
      "text/plain": [
       "<IPython.core.display.HTML object>"
      ]
     },
     "metadata": {},
     "output_type": "display_data"
    },
    {
     "name": "stdout",
     "output_type": "stream",
     "text": [
      "Database initialized successfully (schema: public)\n"
     ]
    },
    {
     "data": {
      "text/html": [
       "<span style='color:green; font-weight:bold;'>Initialization completed</span>"
      ],
      "text/plain": [
       "<IPython.core.display.HTML object>"
      ]
     },
     "metadata": {},
     "output_type": "display_data"
    }
   ],
   "source": [
    "if initialize_db:\n",
    "    ux.subheader(\"Initializing Database\")\n",
    "    success = database.init_database()\n",
    "    ux.success(\"Initialization completed\")\n",
    "else:\n",
    "    ux.info(\"Initialization skipped\")"
   ]
  },
  {
   "cell_type": "markdown",
   "metadata": {},
   "source": [
    "## Table Summary"
   ]
  },
  {
   "cell_type": "code",
   "execution_count": 5,
   "metadata": {},
   "outputs": [
    {
     "data": {
      "text/html": [
       "<h3 style='font-weight:bold; font-size:1.1em; color:#111;'>Database Statistics</h3>"
      ],
      "text/plain": [
       "<IPython.core.display.HTML object>"
      ]
     },
     "metadata": {},
     "output_type": "display_data"
    },
    {
     "data": {
      "text/html": [
       "<table border=\"1\" class=\"dataframe\">\n",
       "  <thead>\n",
       "    <tr style=\"text-align: right;\">\n",
       "      <th>Table</th>\n",
       "      <th>Row Count</th>\n",
       "    </tr>\n",
       "  </thead>\n",
       "  <tbody>\n",
       "    <tr>\n",
       "      <td>irp_cycle</td>\n",
       "      <td>0</td>\n",
       "    </tr>\n",
       "    <tr>\n",
       "      <td>irp_stage</td>\n",
       "      <td>0</td>\n",
       "    </tr>\n",
       "    <tr>\n",
       "      <td>irp_step</td>\n",
       "      <td>0</td>\n",
       "    </tr>\n",
       "    <tr>\n",
       "      <td>irp_step_run</td>\n",
       "      <td>0</td>\n",
       "    </tr>\n",
       "    <tr>\n",
       "      <td>irp_batch</td>\n",
       "      <td>0</td>\n",
       "    </tr>\n",
       "    <tr>\n",
       "      <td>irp_job</td>\n",
       "      <td>0</td>\n",
       "    </tr>\n",
       "  </tbody>\n",
       "</table>"
      ],
      "text/plain": [
       "<IPython.core.display.HTML object>"
      ]
     },
     "metadata": {},
     "output_type": "display_data"
    }
   ],
   "source": [
    "ux.header(\"Database Statistics\")\n",
    "\n",
    "# Table row counts\n",
    "tables = ['irp_cycle', 'irp_stage', 'irp_step', 'irp_step_run', 'irp_batch', 'irp_job']\n",
    "stats = []\n",
    "has_error = False\n",
    "for table in tables:\n",
    "    count = database.execute_scalar(f\"SELECT COUNT(*) FROM {table}\")\n",
    "    stats.append([table, count])\n",
    "        \n",
    "ux.table(stats, headers=['Table', 'Row Count'])"
   ]
  },
  {
   "cell_type": "code",
   "execution_count": 6,
   "metadata": {},
   "outputs": [
    {
     "data": {
      "text/html": [
       "<h3 style='font-weight:bold; font-size:1.1em; color:#111;'>Database Statistics</h3>"
      ],
      "text/plain": [
       "<IPython.core.display.HTML object>"
      ]
     },
     "metadata": {},
     "output_type": "display_data"
    },
    {
     "data": {
      "text/html": [
       "<span style='color:#b58900; font-weight:bold;'>No active cycle</span>"
      ],
      "text/plain": [
       "<IPython.core.display.HTML object>"
      ]
     },
     "metadata": {},
     "output_type": "display_data"
    }
   ],
   "source": [
    "ux.header(\"Database Statistics\")\n",
    "\n",
    "# Active cycle info\n",
    "active = database.get_active_cycle()\n",
    "if active:\n",
    "    print(f\"\\nActive Cycle: {active['cycle_name']}\")\n",
    "else:\n",
    "    ux.warning(\"No active cycle\")"
   ]
  },
  {
   "cell_type": "code",
   "execution_count": 7,
   "metadata": {},
   "outputs": [
    {
     "data": {
      "text/html": [
       "<h3 style='font-weight:bold; font-size:1.1em; color:#111;'>Recent Step Runs</h3>"
      ],
      "text/plain": [
       "<IPython.core.display.HTML object>"
      ]
     },
     "metadata": {},
     "output_type": "display_data"
    },
    {
     "data": {
      "text/html": [
       "<span style='color:#005f9e;'>No step runs found</span>"
      ],
      "text/plain": [
       "<IPython.core.display.HTML object>"
      ]
     },
     "metadata": {},
     "output_type": "display_data"
    },
    {
     "data": {
      "text/html": [
       "<h4 style='font-weight:bold; font-size:1.0em; color:#333;'>Cleanup Utilities</h4>"
      ],
      "text/plain": [
       "<IPython.core.display.HTML object>"
      ]
     },
     "metadata": {},
     "output_type": "display_data"
    },
    {
     "name": "stdout",
     "output_type": "stream",
     "text": [
      "Uncomment the operations you want to perform:\n",
      "\n",
      "# Clear failed step runs\n",
      "# rows = db.execute_command(\"DELETE FROM irp_step_run WHERE status = 'FAILED'\")\n",
      "# print(f'Deleted {rows} failed step runs')\n",
      "\n",
      "# Clear all step runs but keep steps\n",
      "# rows = db.execute_command(\"DELETE FROM irp_step_run\")\n",
      "# print(f'Deleted {rows} step runs')\n",
      "\n",
      "# Remove archived cycles older than 30 days\n",
      "# query = \"\"\"DELETE FROM irp_cycle \n",
      "#           WHERE status = 'archived' \n",
      "#           AND archived_ts < NOW() - INTERVAL '30 days'\"\"\"\n",
      "# rows = db.execute_command(query)\n",
      "# print(f'Deleted {rows} old archived cycles')\n"
     ]
    },
    {
     "data": {
      "text/html": [
       "<h4 style='font-weight:bold; font-size:1.0em; color:#333;'>Custom Query</h4>"
      ],
      "text/plain": [
       "<IPython.core.display.HTML object>"
      ]
     },
     "metadata": {},
     "output_type": "display_data"
    },
    {
     "name": "stdout",
     "output_type": "stream",
     "text": [
      "Run custom SQL queries:\n",
      "\n",
      "Query: SELECT * FROM irp_cycle LIMIT 5\n",
      "\n"
     ]
    },
    {
     "data": {
      "text/html": [
       "<span style='color:#005f9e;'>Query returned no results</span>"
      ],
      "text/plain": [
       "<IPython.core.display.HTML object>"
      ]
     },
     "metadata": {},
     "output_type": "display_data"
    }
   ],
   "source": [
    "ux.header(\"Recent Step Runs\")\n",
    "\n",
    "query = \"\"\"\n",
    "SELECT\n",
    "    c.cycle_name,\n",
    "    CONCAT(sg.stage_num, '.', st.step_num) as step,\n",
    "    st.step_name,\n",
    "    sr.status,\n",
    "    sr.started_ts,\n",
    "    sr.completed_ts,\n",
    "    EXTRACT(EPOCH FROM (sr.completed_ts - sr.started_ts)) as duration_seconds\n",
    "FROM irp_step_run sr\n",
    "INNER JOIN irp_step st ON sr.step_id = st.id\n",
    "INNER JOIN irp_stage sg ON st.stage_id = sg.id\n",
    "INNER JOIN irp_cycle c ON sg.cycle_id = c.id\n",
    "ORDER BY sr.started_ts DESC\n",
    "LIMIT 10\n",
    "\"\"\"\n",
    "\n",
    "df = database.execute_query(query)\n",
    "if not df.empty:\n",
    "    # Format duration\n",
    "    df['duration'] = df['duration_seconds'].apply(ux.format_duration)\n",
    "    df = df.drop('duration_seconds', axis=1)\n",
    "    \n",
    "    ux.dataframe(df, max_rows=10)\n",
    "else:\n",
    "    ux.info(\"No step runs found\")\n",
    "\n",
    "# Cell 6: Cleanup Utilities\n",
    "\n",
    "ux.subheader(\"Cleanup Utilities\")\n",
    "print(\"Uncomment the operations you want to perform:\\n\")\n",
    "\n",
    "print(\"# Clear failed step runs\")\n",
    "print(\"# rows = db.execute_command(\\\"DELETE FROM irp_step_run WHERE status = 'FAILED'\\\")\")\n",
    "print(\"# print(f'Deleted {rows} failed step runs')\")\n",
    "print()\n",
    "\n",
    "print(\"# Clear all step runs but keep steps\")\n",
    "print(\"# rows = db.execute_command(\\\"DELETE FROM irp_step_run\\\")\")\n",
    "print(\"# print(f'Deleted {rows} step runs')\")\n",
    "print()\n",
    "\n",
    "print(\"# Remove archived cycles older than 30 days\")\n",
    "print(\"# query = \\\"\\\"\\\"DELETE FROM irp_cycle \")\n",
    "print(\"#           WHERE status = 'archived' \")\n",
    "print(\"#           AND archived_ts < NOW() - INTERVAL '30 days'\\\"\\\"\\\"\")\n",
    "print(\"# rows = db.execute_command(query)\")\n",
    "print(\"# print(f'Deleted {rows} old archived cycles')\")\n",
    "\n",
    "# Cell 7: Query Builder\n",
    "\n",
    "ux.subheader(\"Custom Query\")\n",
    "print(\"Run custom SQL queries:\\n\")\n",
    "\n",
    "query = \"SELECT * FROM irp_cycle LIMIT 5\"\n",
    "print(f\"Query: {query}\\n\")\n",
    "\n",
    "try:\n",
    "    df = database.execute_query(query)\n",
    "    if not df.empty:\n",
    "        ux.dataframe(df)\n",
    "    else:\n",
    "        ux.info(\"Query returned no results\")\n",
    "except Exception as e:\n",
    "    ux.error(f\"Query failed: {str(e)}\")"
   ]
  },
  {
   "cell_type": "markdown",
   "metadata": {},
   "source": [
    "---"
   ]
  }
 ],
 "metadata": {
  "kernelspec": {
   "display_name": "Python 3 (ipykernel)",
   "language": "python",
   "name": "python3"
  },
  "language_info": {
   "codemirror_mode": {
    "name": "ipython",
    "version": 3
   },
   "file_extension": ".py",
   "mimetype": "text/x-python",
   "name": "python",
   "nbconvert_exporter": "python",
   "pygments_lexer": "ipython3",
   "version": "3.11.6"
  }
 },
 "nbformat": 4,
 "nbformat_minor": 4
}
