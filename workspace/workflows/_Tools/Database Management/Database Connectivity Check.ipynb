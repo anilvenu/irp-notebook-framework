{
 "cells": [
  {
   "cell_type": "markdown",
   "metadata": {},
   "source": [
    "# Database Health Check\n",
    "\n",
    "This notebook provides database management utilities:\n",
    "- Test connection\n",
    "- View database table row-counts"
   ]
  },
  {
   "cell_type": "code",
   "execution_count": 1,
   "metadata": {},
   "outputs": [],
   "source": [
    "import sys\n",
    "from helpers import database, ux"
   ]
  },
  {
   "cell_type": "markdown",
   "metadata": {},
   "source": [
    "## Database Connection Test"
   ]
  },
  {
   "cell_type": "code",
   "execution_count": 2,
   "metadata": {
    "scrolled": true
   },
   "outputs": [
    {
     "data": {
      "text/html": [
       "<span style='color:green; font-weight:bold;'>Database connection successful</span>"
      ],
      "text/plain": [
       "<IPython.core.display.HTML object>"
      ]
     },
     "metadata": {},
     "output_type": "display_data"
    },
    {
     "data": {
      "text/html": [
       "<table border=\"1\" class=\"dataframe\">\n",
       "  <thead>\n",
       "    <tr style=\"text-align: right;\">\n",
       "      <th>Property</th>\n",
       "      <th>Value</th>\n",
       "    </tr>\n",
       "  </thead>\n",
       "  <tbody>\n",
       "    <tr>\n",
       "      <td>Server</td>\n",
       "      <td>postgres</td>\n",
       "    </tr>\n",
       "    <tr>\n",
       "      <td>Database</td>\n",
       "      <td>irp_db</td>\n",
       "    </tr>\n",
       "    <tr>\n",
       "      <td>Port</td>\n",
       "      <td>5432</td>\n",
       "    </tr>\n",
       "    <tr>\n",
       "      <td>User</td>\n",
       "      <td>irp_user</td>\n",
       "    </tr>\n",
       "  </tbody>\n",
       "</table>"
      ],
      "text/plain": [
       "<IPython.core.display.HTML object>"
      ]
     },
     "metadata": {},
     "output_type": "display_data"
    },
    {
     "name": "stdout",
     "output_type": "stream",
     "text": [
      "\n",
      "PostgreSQL Version:\n",
      "PostgreSQL 15.14 on x86_64-pc-linux-musl, compiled by gcc (Alpine 14.2.0) 14.2.0, 64-bit...\n"
     ]
    }
   ],
   "source": [
    "if database.test_connection():\n",
    "    ux.success(\"Database connection successful\")\n",
    "    \n",
    "    # Show connection details\n",
    "    from helpers.constants import DB_CONFIG\n",
    "    \n",
    "    data = [\n",
    "        ['Server', DB_CONFIG['host']],\n",
    "        ['Database', DB_CONFIG['database']],\n",
    "        ['Port', DB_CONFIG['port']],\n",
    "        ['User', DB_CONFIG['user']]\n",
    "    ]\n",
    "    ux.table(data, headers=['Property', 'Value'])\n",
    "    \n",
    "    # Get database version\n",
    "    version = database.execute_scalar(\"SELECT version()\")\n",
    "    print(f\"\\nPostgreSQL Version:\")\n",
    "    print(version[:100] + \"...\")\n",
    "    \n",
    "else:\n",
    "    ux.error(\"Database connection failed\")\n",
    "    print(\"\\nTroubleshooting:\")\n",
    "    print(\"1. Check if PostgreSQL container is running: docker ps\")\n",
    "    print(\"2. Verify environment variables in .env file\")\n",
    "    print(\"3. Try initializing the database (next cell)\")"
   ]
  },
  {
   "cell_type": "markdown",
   "metadata": {},
   "source": [
    "---"
   ]
  }
 ],
 "metadata": {
  "kernelspec": {
   "display_name": "Python 3 (ipykernel)",
   "language": "python",
   "name": "python3"
  },
  "language_info": {
   "codemirror_mode": {
    "name": "ipython",
    "version": 3
   },
   "file_extension": ".py",
   "mimetype": "text/x-python",
   "name": "python",
   "nbconvert_exporter": "python",
   "pygments_lexer": "ipython3",
   "version": "3.11.6"
  }
 },
 "nbformat": 4,
 "nbformat_minor": 4
}
