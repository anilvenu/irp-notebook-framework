{
 "cells": [
  {
   "cell_type": "markdown",
   "id": "3d613003",
   "metadata": {},
   "source": [
    "# IRP Integration Demo\n",
    "\n",
    "This notebook showcases usage of the `irp_integration` module. "
   ]
  },
  {
   "cell_type": "markdown",
   "id": "b63e3f56",
   "metadata": {},
   "source": [
    "### Imports & Setup"
   ]
  },
  {
   "cell_type": "code",
   "execution_count": 2,
   "id": "8c8b065f",
   "metadata": {},
   "outputs": [
    {
     "name": "stdout",
     "output_type": "stream",
     "text": [
      "The autoreload extension is already loaded. To reload it, use:\n",
      "  %reload_ext autoreload\n"
     ]
    }
   ],
   "source": [
    "%load_ext autoreload\n",
    "%autoreload 2\n",
    "from helpers.irp_integration import IRPClient\n",
    "import json, os\n",
    "from pathlib import Path\n",
    "\n",
    "irp_client = IRPClient()"
   ]
  },
  {
   "cell_type": "markdown",
   "id": "0ba0f092",
   "metadata": {},
   "source": [
    "### Configurations"
   ]
  },
  {
   "cell_type": "code",
   "execution_count": 3,
   "id": "3001e591",
   "metadata": {},
   "outputs": [],
   "source": [
    "edm_name = \"CBHU_Automated\" # ensure unique within IRP\n",
    "portfolio_name = \"CBHU_Automated\" # ensure unique within the edm\n",
    "accounts_file_name = \"Modeling_202503_Moodys_CBHU_Account.csv\"\n",
    "locations_file_name = \"Modeling_202503_Moodys_CBHU_Location.csv\"\n",
    "analysis_job_name = \"CBHU_Analysis\"\n",
    "analysis_profile_name = \"DLM CBHU v23\"\n",
    "output_profile_name = \"Patched Portfolio Level Only (EP, ELT, Stats)\"\n",
    "event_rate_scheme_name = \"RMS 2025 Stochastic Event Rates\""
   ]
  },
  {
   "cell_type": "markdown",
   "id": "a3393f5a",
   "metadata": {},
   "source": [
    "### Create EDM"
   ]
  },
  {
   "cell_type": "code",
   "execution_count": 6,
   "id": "1b83b49a",
   "metadata": {},
   "outputs": [
    {
     "name": "stdout",
     "output_type": "stream",
     "text": [
      "Submitting workflow request...\n",
      "Polling workflow url https://api-euw1.rms-ppe.com/riskmodeler/v1/workflows/23009514\n",
      "Workflow status: QUEUED; Percent complete: 0\n",
      "Polling workflow url https://api-euw1.rms-ppe.com/riskmodeler/v1/workflows/23009514\n",
      "Workflow status: RUNNING; Percent complete: 30\n",
      "Polling workflow url https://api-euw1.rms-ppe.com/riskmodeler/v1/workflows/23009514\n",
      "Workflow status: RUNNING; Percent complete: 30\n",
      "Polling workflow url https://api-euw1.rms-ppe.com/riskmodeler/v1/workflows/23009514\n",
      "Workflow status: RUNNING; Percent complete: 30\n",
      "Polling workflow url https://api-euw1.rms-ppe.com/riskmodeler/v1/workflows/23009514\n",
      "Workflow status: RUNNING; Percent complete: 30\n",
      "Polling workflow url https://api-euw1.rms-ppe.com/riskmodeler/v1/workflows/23009514\n",
      "Workflow status: RUNNING; Percent complete: 30\n",
      "Polling workflow url https://api-euw1.rms-ppe.com/riskmodeler/v1/workflows/23009514\n",
      "Workflow status: RUNNING; Percent complete: 30\n",
      "Polling workflow url https://api-euw1.rms-ppe.com/riskmodeler/v1/workflows/23009514\n",
      "Workflow status: RUNNING; Percent complete: 30\n",
      "Polling workflow url https://api-euw1.rms-ppe.com/riskmodeler/v1/workflows/23009514\n",
      "Workflow status: RUNNING; Percent complete: 30\n",
      "Polling workflow url https://api-euw1.rms-ppe.com/riskmodeler/v1/workflows/23009514\n",
      "Workflow status: RUNNING; Percent complete: 30\n",
      "Polling workflow url https://api-euw1.rms-ppe.com/riskmodeler/v1/workflows/23009514\n",
      "Workflow status: RUNNING; Percent complete: 30\n",
      "Polling workflow url https://api-euw1.rms-ppe.com/riskmodeler/v1/workflows/23009514\n",
      "Workflow status: RUNNING; Percent complete: 30\n",
      "Polling workflow url https://api-euw1.rms-ppe.com/riskmodeler/v1/workflows/23009514\n",
      "Workflow status: FINISHED; Percent complete: 100\n",
      "{\n",
      "  \"id\": 23009514,\n",
      "  \"userName\": \"Partner - PremiumIQ key\",\n",
      "  \"status\": \"FINISHED\",\n",
      "  \"submitTime\": \"2025-10-29T16:48:15.904Z\",\n",
      "  \"startTime\": \"2025-10-29T16:48:18Z\",\n",
      "  \"endTime\": \"2025-10-29T16:50:13Z\",\n",
      "  \"name\": \"CBHU_Automated\",\n",
      "  \"type\": \"CREATE_EDM\",\n",
      "  \"progress\": 100,\n",
      "  \"priority\": \"medium\",\n",
      "  \"entitlement\": \"RI-RISKMODELER\",\n",
      "  \"resourceGroupId\": \"ba672cd9-3384-4cb3-9882-bbeb5f8478c6\",\n",
      "  \"jobs\": [\n",
      "    {\n",
      "      \"id\": \"1b2481ea-2387-48b2-a469-5b3a9b6419d9\",\n",
      "      \"taskId\": 1,\n",
      "      \"workflowId\": 23009514,\n",
      "      \"status\": \"Succeeded\",\n",
      "      \"submitTime\": \"2025-10-29T16:48:17.393Z\",\n",
      "      \"createdAt\": \"2025-10-29T16:48:15.898Z\",\n",
      "      \"name\": \"CREATE_EDM\",\n",
      "      \"input\": {\n",
      "        \"name\": \"CREATE_EDM\"\n",
      "      },\n",
      "      \"output\": {\n",
      "        \"exposureSetId\": \"b557b00a-e840-4f4c-9af7-ded4da41ea90\",\n",
      "        \"databaseName\": \"CBHU_Automated\",\n",
      "        \"exposureId\": \"3181492\"\n",
      "      },\n",
      "      \"percentComplete\": 100,\n",
      "      \"continueOnFailure\": false\n",
      "    }\n",
      "  ],\n",
      "  \"summary\": {\n",
      "    \"databaseName\": \"CBHU_Automated\",\n",
      "    \"exposureSetId\": \"b557b00a-e840-4f4c-9af7-ded4da41ea90\"\n",
      "  },\n",
      "  \"output\": {},\n",
      "  \"messages\": []\n",
      "}\n"
     ]
    }
   ],
   "source": [
    "print(json.dumps(irp_client.edm.create_edm(edm_name=edm_name, server_name=\"databridge-1\"), indent=2))"
   ]
  },
  {
   "cell_type": "markdown",
   "id": "67af1e44",
   "metadata": {},
   "source": [
    "### Create Portfolio"
   ]
  },
  {
   "cell_type": "code",
   "execution_count": 5,
   "id": "146a4870",
   "metadata": {},
   "outputs": [
    {
     "name": "stdout",
     "output_type": "stream",
     "text": [
      "{\n",
      "  \"id\": 2\n",
      "}\n"
     ]
    }
   ],
   "source": [
    "portfolio_response = irp_client.portfolio.create_portfolio(edm_name=edm_name, portfolio_name=portfolio_name, portfolio_number=portfolio_name)\n",
    "portfolio_id = portfolio_response['id']\n",
    "print(json.dumps(portfolio_response, indent=2))"
   ]
  },
  {
   "cell_type": "markdown",
   "id": "ea6b313a",
   "metadata": {},
   "source": [
    "### MRI Import"
   ]
  },
  {
   "cell_type": "code",
   "execution_count": null,
   "id": "ec19dcc2",
   "metadata": {},
   "outputs": [
    {
     "name": "stdout",
     "output_type": "stream",
     "text": [
      "Submitting workflow request...\n",
      "Polling workflow url https://api-euw1.rms-ppe.com/riskmodeler/v1/workflows/23010579\n",
      "Workflow status: QUEUED; Percent complete: 0\n",
      "Polling workflow url https://api-euw1.rms-ppe.com/riskmodeler/v1/workflows/23010579\n",
      "Workflow status: RUNNING; Percent complete: 0\n",
      "Polling workflow url https://api-euw1.rms-ppe.com/riskmodeler/v1/workflows/23010579\n",
      "Workflow status: RUNNING; Percent complete: 0\n",
      "Polling workflow url https://api-euw1.rms-ppe.com/riskmodeler/v1/workflows/23010579\n",
      "Workflow status: RUNNING; Percent complete: 0\n",
      "Polling workflow url https://api-euw1.rms-ppe.com/riskmodeler/v1/workflows/23010579\n",
      "Workflow status: RUNNING; Percent complete: 0\n",
      "Polling workflow url https://api-euw1.rms-ppe.com/riskmodeler/v1/workflows/23010579\n",
      "Workflow status: RUNNING; Percent complete: 50\n",
      "Polling workflow url https://api-euw1.rms-ppe.com/riskmodeler/v1/workflows/23010579\n",
      "Workflow status: RUNNING; Percent complete: 50\n",
      "Polling workflow url https://api-euw1.rms-ppe.com/riskmodeler/v1/workflows/23010579\n",
      "Workflow status: RUNNING; Percent complete: 50\n",
      "Polling workflow url https://api-euw1.rms-ppe.com/riskmodeler/v1/workflows/23010579\n",
      "Workflow status: RUNNING; Percent complete: 50\n"
     ]
    }
   ],
   "source": [
    "# New simplified approach using import_from_files() convenience method\n",
    "notebook_dir = Path(os.getcwd())\n",
    "working_files_dir = notebook_dir / \"workspace\" / \"workflows\" / \"_Tools\" / \"files\" / \"working_files\"\n",
    "\n",
    "import_response = irp_client.mri_import.import_from_files(\n",
    "    edm_name=edm_name,\n",
    "    portfolio_id=portfolio_id,\n",
    "    accounts_file=accounts_file_name,\n",
    "    locations_file=locations_file_name,\n",
    "    mapping_file=\"mapping.json\",\n",
    "    working_dir=str(working_files_dir)\n",
    ")\n",
    "\n",
    "print(json.dumps(import_response, indent=2))"
   ]
  },
  {
   "cell_type": "markdown",
   "id": "9021e765",
   "metadata": {},
   "source": [
    "### Create Treaty"
   ]
  },
  {
   "cell_type": "code",
   "execution_count": null,
   "id": "2029046e",
   "metadata": {},
   "outputs": [],
   "source": [
    "# New simplified approach using create_treaty_from_names() convenience method\n",
    "treaty_name = \"CBHU_Treaty\"\n",
    "\n",
    "treaty_response = irp_client.treaty.create_treaty_from_names(\n",
    "    edm_name=edm_name,\n",
    "    treaty_name=treaty_name,\n",
    "    treaty_type_name=\"Working Excess\",\n",
    "    currency_name=\"US Dollar\",\n",
    "    attachment_basis_name=\"Losses Occurring\",\n",
    "    attachment_level_name=\"Location\",\n",
    "    risk_limit=3000000,\n",
    "    occur_limit=9000000,\n",
    "    attach_pt=2000000,\n",
    "    pcnt_covered=100,\n",
    "    pcnt_placed=95,\n",
    "    pcnt_ri_share=100,\n",
    "    pcnt_retent=100,\n",
    "    premium=0,\n",
    "    num_of_reinst=99,\n",
    "    reinst_charge=0,\n",
    "    aggregate_limit=0,\n",
    "    aggregate_deductible=0,\n",
    "    priority=1,\n",
    "    effect_date=\"2025-10-15T17:49:10.637Z\",\n",
    "    expire_date=\"2026-10-15T17:49:10.637Z\",\n",
    "    auto_assign_lobs=True\n",
    ")\n",
    "\n",
    "print(f\"Treaty created successfully!\")\n",
    "print(f\"Treaty ID: {treaty_response['id']}\")\n",
    "print(f\"LOBs assigned: {treaty_response.get('lobs_assigned', 'N/A')}\")"
   ]
  },
  {
   "cell_type": "markdown",
   "id": "8bb074fa",
   "metadata": {},
   "source": [
    "### Upgrade EDM Version"
   ]
  },
  {
   "cell_type": "code",
   "execution_count": null,
   "id": "9f1ad40b",
   "metadata": {},
   "outputs": [],
   "source": [
    "print(json.dumps(irp_client.edm.upgrade_edm_version(edm_name), indent=2))"
   ]
  },
  {
   "cell_type": "markdown",
   "id": "b1fd43be",
   "metadata": {},
   "source": [
    "### GeoHaz"
   ]
  },
  {
   "cell_type": "code",
   "execution_count": null,
   "id": "7f24a79f",
   "metadata": {},
   "outputs": [],
   "source": [
    "print(json.dumps(\n",
    "    irp_client.portfolio.geohaz_portfolio(edm_name, \n",
    "                                          portfolio_id, \n",
    "                                          geocode=True, \n",
    "                                          hazard_eq=True, \n",
    "                                          hazard_ws=True), \n",
    "    indent=2\n",
    "))"
   ]
  },
  {
   "cell_type": "markdown",
   "id": "b3b7556c",
   "metadata": {},
   "source": [
    "### Execute Single Analysis"
   ]
  },
  {
   "cell_type": "code",
   "execution_count": null,
   "id": "868ef084",
   "metadata": {},
   "outputs": [],
   "source": [
    "analysis_response = irp_client.analysis.execute_analysis(\n",
    "    analysis_job_name,\n",
    "    edm_name,\n",
    "    portfolio_id,\n",
    "    analysis_profile_name,\n",
    "    output_profile_name,\n",
    "    event_rate_scheme_name,\n",
    "    [treaty_response['id']]\n",
    ")\n",
    "print(json.dumps(analysis_response, indent=2))"
   ]
  },
  {
   "cell_type": "markdown",
   "id": "ab58aa51",
   "metadata": {},
   "source": [
    "### Execute Multiple Analyses"
   ]
  },
  {
   "cell_type": "code",
   "execution_count": null,
   "id": "7e72ce5f",
   "metadata": {},
   "outputs": [],
   "source": [
    "analysis_profile_name = \"DLM CBHU v23\"\n",
    "output_profile_name = \"Patched Portfolio Level Only (EP, ELT, Stats)\"\n",
    "tag = \"cbhu_analyses\"\n",
    "\n",
    "analysis_job_name1 = \"CBHU_Analysis 2023 Rates\"\n",
    "event_rate_scheme_name1 = \"RMS 2023 Stochastic Event Rates\"\n",
    "workflow_id1 = irp_client.analysis.submit_analysis_job(\n",
    "    analysis_job_name1,\n",
    "    edm_name,\n",
    "    portfolio_id,\n",
    "    analysis_profile_name,\n",
    "    output_profile_name,\n",
    "    event_rate_scheme_name1,\n",
    "    [treaty_response['id']],\n",
    "    [tag]\n",
    ")\n",
    "\n",
    "analysis_job_name2 = \"CBHU_Analysis 2025 Rates\"\n",
    "event_rate_scheme_name2 = \"RMS 2025 Stochastic Event Rates\"\n",
    "workflow_id2 = irp_client.analysis.submit_analysis_job(\n",
    "    analysis_job_name2,\n",
    "    edm_name,\n",
    "    portfolio_id,\n",
    "    analysis_profile_name,\n",
    "    output_profile_name,\n",
    "    event_rate_scheme_name2,\n",
    "    [treaty_response['id']],\n",
    "    [tag]\n",
    ")\n",
    "\n",
    "workflow_ids = [workflow_id1, workflow_id2]\n",
    "response = irp_client.analysis.poll_analysis_job_batch(workflow_ids)\n",
    "print(json.dumps(response, indent=2))\n",
    "analysis_ids = []\n",
    "for workflow in response['workflows']:\n",
    "    analysis_ids.append(workflow['output']['analysisId'])"
   ]
  },
  {
   "cell_type": "markdown",
   "id": "32ce2f02",
   "metadata": {},
   "source": [
    "### Group Analyses"
   ]
  },
  {
   "cell_type": "code",
   "execution_count": null,
   "id": "d357e35f-be46-45fe-a4ae-94338aa09db1",
   "metadata": {},
   "outputs": [],
   "source": [
    "group_name = \"CBHU Analysis Group\"\n",
    "print(json.dumps(irp_client.analysis.create_analysis_group(analysis_ids, group_name), indent=2))"
   ]
  },
  {
   "cell_type": "markdown",
   "id": "965b0fee",
   "metadata": {},
   "source": [
    "### Export Analyses to RDM"
   ]
  },
  {
   "cell_type": "code",
   "execution_count": null,
   "id": "473e3fe3",
   "metadata": {},
   "outputs": [],
   "source": [
    "rdm_name = \"CBHU_Automated_RDM\"\n",
    "export_response = irp_client.rdm.export_analyses_to_rdm(rdm_name, [33254, 33252, 33252])\n",
    "print(json.dumps(export_response, indent=2))"
   ]
  }
 ],
 "metadata": {
  "kernelspec": {
   "display_name": "Python 3 (ipykernel)",
   "language": "python",
   "name": "python3"
  },
  "language_info": {
   "codemirror_mode": {
    "name": "ipython",
    "version": 3
   },
   "file_extension": ".py",
   "mimetype": "text/x-python",
   "name": "python",
   "nbconvert_exporter": "python",
   "pygments_lexer": "ipython3",
   "version": "3.11.6"
  }
 },
 "nbformat": 4,
 "nbformat_minor": 5
}
