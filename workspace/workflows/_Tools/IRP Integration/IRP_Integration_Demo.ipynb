{
 "cells": [
  {
   "cell_type": "markdown",
   "id": "3d613003",
   "metadata": {},
   "source": [
    "# IRP Integration Demo\n",
    "\n",
    "This notebook showcases usage of the `irp_integration` module. "
   ]
  },
  {
   "cell_type": "markdown",
   "id": "b63e3f56",
   "metadata": {},
   "source": [
    "### Imports & Setup"
   ]
  },
  {
   "cell_type": "code",
   "execution_count": 8,
   "id": "8c8b065f",
   "metadata": {},
   "outputs": [
    {
     "name": "stdout",
     "output_type": "stream",
     "text": [
      "The autoreload extension is already loaded. To reload it, use:\n",
      "  %reload_ext autoreload\n"
     ]
    }
   ],
   "source": [
    "%load_ext autoreload\n",
    "%autoreload 2\n",
    "from helpers.irp_integration import IRPClient\n",
    "import json, secrets, string\n",
    "from helpers.irp_integration.utils import extract_analysis_id_from_workflow_response, get_workspace_root\n",
    "\n",
    "irp_client = IRPClient()"
   ]
  },
  {
   "cell_type": "markdown",
   "id": "0ba0f092",
   "metadata": {},
   "source": [
    "### Configurations"
   ]
  },
  {
   "cell_type": "code",
   "execution_count": 11,
   "id": "3001e591",
   "metadata": {},
   "outputs": [],
   "source": [
    "suffix = ''.join(secrets.choice(string.ascii_lowercase + string.digits) for _ in range(6))\n",
    "server_name = \"databridge-1\"\n",
    "edm_name = f\"CBHU_Automated_{suffix}\" # ensure unique within IRP\n",
    "edm_data_version = \"22\"\n",
    "portfolio_name = \"CBHU_Automated\" # ensure unique within the edm\n",
    "accounts_file_name = \"Modeling_202503_Moodys_CBHU_Account.csv\"\n",
    "locations_file_name = \"Modeling_202503_Moodys_CBHU_Location.csv\"\n",
    "analysis_job_name = \"CBHU Analysis\"\n",
    "analysis_profile_name = \"DLM CBHU v23\"\n",
    "output_profile_name = \"Patched Portfolio Level Only (EP, ELT, Stats)\"\n",
    "event_rate_scheme_name = \"RMS 2025 Stochastic Event Rates\""
   ]
  },
  {
   "cell_type": "markdown",
   "id": "a3393f5a",
   "metadata": {},
   "source": [
    "### Create EDM"
   ]
  },
  {
   "cell_type": "code",
   "execution_count": 12,
   "id": "7a497cb2",
   "metadata": {},
   "outputs": [
    {
     "name": "stdout",
     "output_type": "stream",
     "text": [
      "Polling risk data job ID 23039834\n",
      "Job status: QUEUED; Percent complete: 0\n",
      "Polling risk data job ID 23039834\n",
      "Job status: RUNNING; Percent complete: 10\n",
      "Polling risk data job ID 23039834\n",
      "Job status: RUNNING; Percent complete: 30\n",
      "Polling risk data job ID 23039834\n",
      "Job status: RUNNING; Percent complete: 30\n",
      "Polling risk data job ID 23039834\n",
      "Job status: RUNNING; Percent complete: 30\n",
      "Polling risk data job ID 23039834\n",
      "Job status: RUNNING; Percent complete: 30\n",
      "Polling risk data job ID 23039834\n",
      "Job status: RUNNING; Percent complete: 30\n",
      "Polling risk data job ID 23039834\n",
      "Job status: RUNNING; Percent complete: 30\n",
      "Polling risk data job ID 23039834\n",
      "Job status: RUNNING; Percent complete: 30\n",
      "Polling risk data job ID 23039834\n",
      "Job status: RUNNING; Percent complete: 30\n",
      "Polling risk data job ID 23039834\n",
      "Job status: FINISHED; Percent complete: 100\n",
      "{\n",
      "  \"jobId\": \"23039834\",\n",
      "  \"userName\": \"Partner - PremiumIQ key\",\n",
      "  \"status\": \"FINISHED\",\n",
      "  \"submittedAt\": \"2025-10-31T05:35:45.088Z\",\n",
      "  \"startedAt\": \"2025-10-31T05:35:49Z\",\n",
      "  \"endedAt\": \"2025-10-31T05:37:23Z\",\n",
      "  \"name\": \"CBHU_Automated_yufirg\",\n",
      "  \"type\": \"CREATE_EDM\",\n",
      "  \"progress\": 100,\n",
      "  \"priority\": \"medium\",\n",
      "  \"entitlement\": \"RI-RISKMODELER\",\n",
      "  \"resourceGroupId\": \"ba672cd9-3384-4cb3-9882-bbeb5f8478c6\",\n",
      "  \"details\": {\n",
      "    \"resources\": [],\n",
      "    \"summary\": \"CREATE_EDM is successful\"\n",
      "  },\n",
      "  \"warnings\": [],\n",
      "  \"tasks\": [\n",
      "    {\n",
      "      \"taskId\": \"1\",\n",
      "      \"guid\": \"258c5ca2-78c9-43c9-a2e5-97caf35c5106\",\n",
      "      \"jobId\": \"23039834\",\n",
      "      \"status\": \"Succeeded\",\n",
      "      \"submittedAt\": \"2025-10-31T05:35:48.401Z\",\n",
      "      \"createdAt\": \"2025-10-31T05:35:45.082Z\",\n",
      "      \"name\": \"CREATE_EDM\",\n",
      "      \"percentComplete\": 100,\n",
      "      \"output\": {\n",
      "        \"summary\": \"\",\n",
      "        \"errors\": [],\n",
      "        \"log\": {\n",
      "          \"databaseName\": \"CBHU_Automated_yufirg\",\n",
      "          \"exposureSetId\": \"3193398\",\n",
      "          \"exposureId\": \"3193400\"\n",
      "        }\n",
      "      }\n",
      "    }\n",
      "  ]\n",
      "}\n"
     ]
    }
   ],
   "source": [
    "database_servers = irp_client.edm.search_database_servers(filter=f\"serverName=\\\"{server_name}\\\"\")\n",
    "database_server_id = database_servers[0]['serverId']\n",
    "exposure_sets = irp_client.edm.search_exposure_sets(filter=f\"exposureSetName={edm_name}\")\n",
    "if (len(exposure_sets) > 1):\n",
    "    raise Exception(f\"{len(exposure_sets)} exposure sets found with name {edm_name}, please use a unique name\")\n",
    "exposure_set_id = irp_client.edm.create_exposure_set(name=edm_name)\n",
    "edms = irp_client.edm.search_edms(filter=f\"exposureName IN (\\\"{edm_name}\\\")\")\n",
    "if (len(edms) > 1):\n",
    "    raise Exception(f\"{len(edms)} EDMs found with name {edm_name}, please use a unique name\")\n",
    "create_edm_job_id = irp_client.edm.submit_create_edm_job(\n",
    "    exposure_set_id=exposure_set_id,\n",
    "    edm_name=edm_name,\n",
    "    server_id=database_server_id)\n",
    "job_response = irp_client.client.poll_risk_data_job_to_completion(create_edm_job_id)\n",
    "print(json.dumps(job_response, indent=2))"
   ]
  },
  {
   "cell_type": "code",
   "execution_count": null,
   "id": "1b83b49a",
   "metadata": {},
   "outputs": [],
   "source": [
    "# print(json.dumps(irp_client.edm.create_edm(edm_name=edm_name, server_name=\"databridge-1\"), indent=2))"
   ]
  },
  {
   "cell_type": "markdown",
   "id": "67af1e44",
   "metadata": {},
   "source": [
    "### Create Portfolio"
   ]
  },
  {
   "cell_type": "code",
   "execution_count": null,
   "id": "146a4870",
   "metadata": {},
   "outputs": [],
   "source": [
    "portfolio_response = irp_client.portfolio.create_portfolio(edm_name=edm_name, portfolio_name=portfolio_name, portfolio_number=portfolio_name)\n",
    "portfolio_id = portfolio_response['id']\n",
    "print(json.dumps(portfolio_response, indent=2))"
   ]
  },
  {
   "cell_type": "markdown",
   "id": "ea6b313a",
   "metadata": {},
   "source": [
    "### MRI Import"
   ]
  },
  {
   "cell_type": "code",
   "execution_count": null,
   "id": "ec19dcc2",
   "metadata": {},
   "outputs": [],
   "source": [
    "# Use get_workspace_root() to get correct path in both VS Code and JupyterLab\n",
    "workspace_root = get_workspace_root()\n",
    "working_files_dir = workspace_root / \"workflows\" / \"_Tools\" / \"files\" / \"working_files\"\n",
    "\n",
    "import_response = irp_client.mri_import.import_from_files(\n",
    "    edm_name=edm_name,\n",
    "    portfolio_id=portfolio_id,\n",
    "    accounts_file=accounts_file_name,\n",
    "    locations_file=locations_file_name,\n",
    "    mapping_file=\"mapping.json\",\n",
    "    working_dir=str(working_files_dir)\n",
    ")\n",
    "\n",
    "print(json.dumps(import_response, indent=2))"
   ]
  },
  {
   "cell_type": "markdown",
   "id": "9021e765",
   "metadata": {},
   "source": [
    "### Create Treaty"
   ]
  },
  {
   "cell_type": "code",
   "execution_count": null,
   "id": "2029046e",
   "metadata": {},
   "outputs": [],
   "source": [
    "# New simplified approach using create_treaty_from_names() convenience method\n",
    "treaty_name = \"CBHU_treaty\"\n",
    "\n",
    "treaty_response = irp_client.treaty.create_treaty_from_names(\n",
    "    edm_name=edm_name,\n",
    "    treaty_name=treaty_name,\n",
    "    treaty_type_name=\"Working Excess\",\n",
    "    currency_name=\"US Dollar\",\n",
    "    attachment_basis_name=\"Losses Occurring\",\n",
    "    attachment_level_name=\"Location\",\n",
    "    risk_limit=3000000,\n",
    "    occur_limit=9000000,\n",
    "    attach_pt=2000000,\n",
    "    pcnt_covered=100,\n",
    "    pcnt_placed=95,\n",
    "    pcnt_ri_share=100,\n",
    "    pcnt_retent=100,\n",
    "    premium=0,\n",
    "    num_of_reinst=99,\n",
    "    reinst_charge=0,\n",
    "    aggregate_limit=0,\n",
    "    aggregate_deductible=0,\n",
    "    priority=1,\n",
    "    effect_date=\"2025-10-15T17:49:10.637Z\",\n",
    "    expire_date=\"2026-10-15T17:49:10.637Z\",\n",
    "    auto_assign_lobs=True\n",
    ")\n",
    "treaty_id = treaty_response['id']\n",
    "\n",
    "print(f\"Treaty created successfully!\")\n",
    "print(f\"Treaty ID: {treaty_id}\")\n",
    "print(f\"LOBs assigned: {treaty_response.get('lobs_assigned', 'N/A')}\")"
   ]
  },
  {
   "cell_type": "markdown",
   "id": "8bb074fa",
   "metadata": {},
   "source": [
    "### Upgrade EDM Version"
   ]
  },
  {
   "cell_type": "code",
   "execution_count": null,
   "id": "af904210",
   "metadata": {},
   "outputs": [
    {
     "name": "stdout",
     "output_type": "stream",
     "text": [
      "Polling risk data job ID 23040394\n",
      "Workflow status: PENDING; Percent complete: 0\n",
      "Polling risk data job ID 23040394\n",
      "Workflow status: PENDING; Percent complete: 0\n",
      "Polling risk data job ID 23040394\n",
      "Workflow status: RUNNING; Percent complete: 0\n",
      "Polling risk data job ID 23040394\n",
      "Workflow status: RUNNING; Percent complete: 100\n",
      "Polling risk data job ID 23040394\n",
      "Workflow status: FINISHED; Percent complete: 100\n",
      "{\n",
      "  \"id\": 23040394,\n",
      "  \"userName\": \"Partner - PremiumIQ key\",\n",
      "  \"status\": \"FINISHED\",\n",
      "  \"submitTime\": \"2025-10-31T05:44:13.718Z\",\n",
      "  \"startTime\": \"2025-10-31T05:44:32Z\",\n",
      "  \"endTime\": \"2025-10-31T05:44:44Z\",\n",
      "  \"name\": \"CBHU_Automated_w4gjrf\",\n",
      "  \"type\": \"EDM_DATA_UPGRADE\",\n",
      "  \"progress\": 100,\n",
      "  \"priority\": \"medium\",\n",
      "  \"entitlement\": \"RI-RISKMODELER\",\n",
      "  \"resourceGroupId\": \"ba672cd9-3384-4cb3-9882-bbeb5f8478c6\",\n",
      "  \"jobs\": [\n",
      "    {\n",
      "      \"id\": \"a53fd77e-bab7-4ad9-8f37-5ba70b71f1ae\",\n",
      "      \"taskId\": 1,\n",
      "      \"workflowId\": 23040394,\n",
      "      \"status\": \"Succeeded\",\n",
      "      \"submitTime\": \"2025-10-31T05:44:14.408Z\",\n",
      "      \"createdAt\": \"2025-10-31T05:44:13.710Z\",\n",
      "      \"name\": \"EDM_DATA_UPGRADE\",\n",
      "      \"input\": {\n",
      "        \"name\": \"EDM_DATA_UPGRADE\"\n",
      "      },\n",
      "      \"output\": {\n",
      "        \"databaseName\": \"CBHU_Automated_w4gjrf\",\n",
      "        \"dataVersion\": \"22.0.0\"\n",
      "      },\n",
      "      \"percentComplete\": 100,\n",
      "      \"continueOnFailure\": false\n",
      "    }\n",
      "  ],\n",
      "  \"summary\": {},\n",
      "  \"output\": {},\n",
      "  \"messages\": []\n",
      "}\n"
     ]
    }
   ],
   "source": [
    "edms = irp_client.edm.search_edms(filter=f\"exposureName=\\\"{edm_name}\\\"\")\n",
    "if (len(edms) != 1):\n",
    "    raise Exception(f\"Expected 1 EDM with name {edm_name}, found {len(edms)}\")\n",
    "exposure_id = edms[0]['exposureId']\n",
    "upgrade_job_id = irp_client.edm.submit_upgrade_edm_data_version_job(exposure_id, edm_data_version)\n",
    "job_response = irp_client.client.poll_workflow_to_completion(upgrade_job_id)\n",
    "print(json.dumps(job_response, indent=2))"
   ]
  },
  {
   "cell_type": "code",
   "execution_count": null,
   "id": "9f1ad40b",
   "metadata": {},
   "outputs": [],
   "source": [
    "# print(json.dumps(irp_client.edm.upgrade_edm_version(edm_name), indent=2))"
   ]
  },
  {
   "cell_type": "markdown",
   "id": "b1fd43be",
   "metadata": {},
   "source": [
    "### GeoHaz"
   ]
  },
  {
   "cell_type": "code",
   "execution_count": null,
   "id": "7f24a79f",
   "metadata": {},
   "outputs": [],
   "source": [
    "print(json.dumps(\n",
    "    irp_client.portfolio.geohaz_portfolio(edm_name, \n",
    "                                          portfolio_id, \n",
    "                                          geocode=True, \n",
    "                                          hazard_eq=True, \n",
    "                                          hazard_ws=True), \n",
    "    indent=2\n",
    "))"
   ]
  },
  {
   "cell_type": "markdown",
   "id": "b3b7556c",
   "metadata": {},
   "source": [
    "### Execute Single Analysis"
   ]
  },
  {
   "cell_type": "code",
   "execution_count": null,
   "id": "868ef084",
   "metadata": {},
   "outputs": [],
   "source": [
    "analysis_response = irp_client.analysis.execute_analysis(\n",
    "    analysis_job_name,\n",
    "    edm_name,\n",
    "    portfolio_id,\n",
    "    analysis_profile_name,\n",
    "    output_profile_name,\n",
    "    event_rate_scheme_name,\n",
    "    [treaty_id]\n",
    ")\n",
    "print(json.dumps(analysis_response, indent=2))"
   ]
  },
  {
   "cell_type": "markdown",
   "id": "ab58aa51",
   "metadata": {},
   "source": [
    "### Execute Multiple Analyses"
   ]
  },
  {
   "cell_type": "code",
   "execution_count": null,
   "id": "7e72ce5f",
   "metadata": {},
   "outputs": [],
   "source": [
    "analysis_profile_name = \"DLM CBHU v23\"\n",
    "output_profile_name = \"Patched Portfolio Level Only (EP, ELT, Stats)\"\n",
    "tag = \"test_tag\"\n",
    "\n",
    "analysis_job_name1 = \"CBHU 2023 Rates\"\n",
    "event_rate_scheme_name1 = \"RMS 2023 Stochastic Event Rates\"\n",
    "workflow_id1 = irp_client.analysis.submit_analysis_job(\n",
    "    analysis_job_name,\n",
    "    edm_name,\n",
    "    portfolio_id,\n",
    "    analysis_profile_name,\n",
    "    output_profile_name,\n",
    "    event_rate_scheme_name1,\n",
    "    [treaty_id],\n",
    "    [tag]\n",
    ")\n",
    "\n",
    "analysis_job_name2 = \"CBHU 2025 Rates\"\n",
    "event_rate_scheme_name2 = \"RMS 2025 Stochastic Event Rates\"\n",
    "workflow_id2 = irp_client.analysis.submit_analysis_job(\n",
    "    analysis_job_name,\n",
    "    edm_name,\n",
    "    portfolio_id,\n",
    "    analysis_profile_name,\n",
    "    output_profile_name,\n",
    "    event_rate_scheme_name2,\n",
    "    [treaty_id],\n",
    "    [tag]\n",
    ")\n",
    "\n",
    "workflow_ids = [workflow_id1, workflow_id2]\n",
    "response = irp_client.analysis.poll_analysis_job_batch(workflow_ids)\n",
    "print(json.dumps(response, indent=2))\n",
    "analysis_ids = []\n",
    "for workflow in response['workflows']:\n",
    "    analysis_ids.append(extract_analysis_id_from_workflow_response(workflow))"
   ]
  },
  {
   "cell_type": "markdown",
   "id": "32ce2f02",
   "metadata": {},
   "source": [
    "### Group Analyses"
   ]
  },
  {
   "cell_type": "code",
   "execution_count": null,
   "id": "d357e35f-be46-45fe-a4ae-94338aa09db1",
   "metadata": {},
   "outputs": [],
   "source": [
    "group_name = \"CBHU Group\"\n",
    "print(json.dumps(irp_client.analysis.create_analysis_group(analysis_ids, group_name), indent=2))"
   ]
  },
  {
   "cell_type": "markdown",
   "id": "965b0fee",
   "metadata": {},
   "source": [
    "### Export Analyses to RDM"
   ]
  },
  {
   "cell_type": "code",
   "execution_count": null,
   "id": "473e3fe3",
   "metadata": {},
   "outputs": [],
   "source": [
    "rdm_name = \"CBHU RDM\"\n",
    "export_response = irp_client.rdm.export_analyses_to_rdm(rdm_name, analysis_ids)\n",
    "print(json.dumps(export_response, indent=2))"
   ]
  },
  {
   "cell_type": "markdown",
   "id": "3f1226f7-1b01-4c24-8193-2964fa51c70e",
   "metadata": {},
   "source": [
    "### Delete EDM"
   ]
  },
  {
   "cell_type": "code",
   "execution_count": null,
   "id": "ca6c05d1-2509-4391-98a3-f33d9e4a68db",
   "metadata": {},
   "outputs": [],
   "source": [
    "# delete_response = irp_client.edm.delete_edm(edm_name)\n",
    "# print(json.dumps(delete_response, indent=2))"
   ]
  }
 ],
 "metadata": {
  "kernelspec": {
   "display_name": "Python 3 (ipykernel)",
   "language": "python",
   "name": "python3"
  },
  "language_info": {
   "codemirror_mode": {
    "name": "ipython",
    "version": 3
   },
   "file_extension": ".py",
   "mimetype": "text/x-python",
   "name": "python",
   "nbconvert_exporter": "python",
   "pygments_lexer": "ipython3",
   "version": "3.11.6"
  }
 },
 "nbformat": 4,
 "nbformat_minor": 5
}
