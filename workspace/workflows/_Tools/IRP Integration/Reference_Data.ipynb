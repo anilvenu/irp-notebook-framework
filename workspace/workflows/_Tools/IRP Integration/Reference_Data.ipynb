{
 "cells": [
  {
   "cell_type": "markdown",
   "metadata": {},
   "source": [
    "# IRP Integration - Reference Data\n",
    "\n",
    "This notebook retrieves reference data from the IRP Integration API:\n",
    "- **Model Profiles**: Available model configurations for analysis\n",
    "- **Output Profiles**: Available output format configurations\n",
    "- **Event Rate Schemes**: Available event rate scheme configurations\n",
    "\n",
    "Each section displays a distinct list of items with no duplicates."
   ]
  },
  {
   "cell_type": "code",
   "execution_count": 1,
   "metadata": {},
   "outputs": [],
   "source": [
    "%load_ext autoreload\n",
    "%autoreload 2\n",
    "\n",
    "# Import required modules\n",
    "from helpers.irp_integration import IRPClient\n",
    "\n",
    "irp_client = IRPClient()"
   ]
  },
  {
   "cell_type": "markdown",
   "metadata": {},
   "source": [
    "## 1. Model Profiles\n",
    "\n",
    "Retrieve all available model profiles for analysis."
   ]
  },
  {
   "cell_type": "code",
   "execution_count": 5,
   "metadata": {},
   "outputs": [
    {
     "name": "stdout",
     "output_type": "stream",
     "text": [
      "CBHU RL22\n",
      "CBHU_NT\n",
      "Copy Of MICHAEL_MODEL_MISS_DLM\n",
      "DLM CBEQ\n",
      "DLM CBEQ v23\n",
      "DLM CBHU\n",
      "DLM CBHU v23\n",
      "DLM USEQ\n",
      "DLM USEQ v23\n",
      "DLM USFF\n",
      "DLM USFF v23\n",
      "DLM USFL (100% SS) v23\n",
      "DLM USFL (100% SS) v25\n",
      "DLM USFL (65% SS)\n",
      "DLM USFL (65% SS) v23\n",
      "DLM USFL (65% SS) v25\n",
      "DLM USFL (85% SS)\n",
      "DLM USFL (85% SS) v23\n",
      "DLM USFL (85% SS) v25\n",
      "DLM USHU_Full (85% SS)\n",
      "DLM USHU_Full (85% SS) v23\n",
      "DLM USHU_Full (85% SS) v25\n",
      "DLM USHU_Leak (9% SS)\n",
      "DLM USHU_Leak (9% SS) v23\n",
      "DLM USHU_Leak (9% SS) v25\n",
      "DLM USST High Frq\n",
      "DLM USST High Frq v23\n",
      "DLM USST High and Low Frq v23 Tornado\n",
      "DLM USST Low Frq\n",
      "DLM USST Low Frq v23\n",
      "Demo NA HU WF HD Model\n",
      "Flood_SS65\n",
      "HD USWF\n",
      "HD USWF xConflagration\n",
      "IAN_MODEL_MISS_DLM_100SS\n",
      "IAN_MODEL_MISS_DLM_100SS_v25\n",
      "MICHAEL_MODEL_MISS_DLM\n",
      "MICHAEL_MODEL_MISS_DLM_100SS\n",
      "MICHAEL_MODEL_MISS_DLM_100SS_Only\n",
      "MICHAEL_MODEL_MISS_DLM_Wind_Only\n",
      "Milton Ensemble CEP RL22 (Wind Only)\n",
      "RMS Default FCHLPM Certified Hurricane Losses 18.0\n",
      "RMS Default FCHLPM Certified Hurricane Losses 18.1 and 18.1.1\n",
      "RMS Default FCHLPM Certified Hurricane Losses 21\n",
      "RMS Default FCHLPM Certified Hurricane Losses 22\n",
      "RMS Default FCHLPM Certified Hurricane Losses 23\n",
      "RMS Default FCHLPM Certified Hurricane Losses 23 (Florida Only)\n",
      "RMS Default FCHLPM Certified Hurricane Losses 24 (Florida Only)\n",
      "RMS Default FCHLPM Certified Hurricane Losses 25 (Florida Only)\n",
      "USHU_Leak_CC_2\n",
      "USST High and Low Frq v23 Hail\n",
      "USST High and Low Frq v23 Wind\n"
     ]
    }
   ],
   "source": [
    "# Fetch model profiles\n",
    "response = irp_client.reference_data.get_model_profiles()\n",
    "\n",
    "# Extract distinct names\n",
    "model_profile_names = list(set([item['name'] for item in response['items']]))\n",
    "model_profile_names.sort()\n",
    "\n",
    "for name in model_profile_names:\n",
    "    print(f\"{name}\")"
   ]
  },
  {
   "cell_type": "markdown",
   "metadata": {},
   "source": [
    "## 2. Output Profiles\n",
    "\n",
    "Retrieve all available output profiles for analysis results."
   ]
  },
  {
   "cell_type": "code",
   "execution_count": 3,
   "metadata": {},
   "outputs": [
    {
     "name": "stdout",
     "output_type": "stream",
     "text": [
      "By_State_Modeling_Output_Profile\n",
      "CBHU_Test_OP\n",
      "CChia_Output_Profile\n",
      "Default\n",
      "HAZARD_Analysis \n",
      "HAZARD_Analysis_Sai\n",
      "HAZARD_Analysis_Sai_Policy\n",
      "JP_Test\n",
      "Modeling_Output_Profile\n",
      "Portfolio_Location\n",
      "Portfolio_State_Coverage_LocationAAL_GU_GR_RL\n",
      "RMS Admin1\n",
      "RMS Admin2\n",
      "RMS Advanced\n",
      "RMS Cedant\n",
      "RMS Contract\n",
      "RMS LOB\n",
      "RMS PostalCode\n",
      "RMS Risk AAL\n",
      "RMS Scenario\n"
     ]
    }
   ],
   "source": [
    "# Fetch output profiles\n",
    "response = irp_client.reference_data.get_output_profiles()\n",
    "\n",
    "# Extract distinct names\n",
    "output_profile_names = list(set([item['name'] for item in response]))\n",
    "output_profile_names.sort()\n",
    "\n",
    "for name in output_profile_names:\n",
    "    print(f\"{name}\")"
   ]
  },
  {
   "cell_type": "markdown",
   "metadata": {},
   "source": [
    "## 3. Event Rate Schemes\n",
    "\n",
    "Retrieve all available event rate schemes for analysis."
   ]
  },
  {
   "cell_type": "code",
   "execution_count": 4,
   "metadata": {},
   "outputs": [
    {
     "name": "stdout",
     "output_type": "stream",
     "text": [
      "2011 Historical Event Rates\n",
      "2013 Historical Event Rates\n",
      "2015 Historical Event Rates\n",
      "2017 MTR Alt - Active Baseline\n",
      "2017 MTR Alt - Forecast SST\n",
      "2017 MTR Alt - Inactive Phase\n",
      "2017 MTR Alt - Lower Bound\n",
      "2017 MTR Alt - Upper Bound\n",
      "2019 MTR Alt - Active Baseline\n",
      "2019 MTR Alt - Forecast SST\n",
      "2019 MTR Alt - Inactive Phase\n",
      "2019 MTR Alt - Lower Bound\n",
      "2019 MTR Alt - Upper Bound\n",
      "2021 MTR Alt - Active Baseline\n",
      "2021 MTR Alt - Forecast SST\n",
      "2021 MTR Alt - Inactive Phase\n",
      "2021 MTR Alt - Lower Bound\n",
      "2021 MTR Alt - Upper Bound\n",
      "2023 MTR Alt - Active Baseline\n",
      "2023 MTR Alt - Forecast SST\n",
      "2023 MTR Alt - Inactive Baseline\n",
      "2023 MTR Alt - Lower Bound\n",
      "2023 MTR Alt - Upper Bound\n",
      "2025 MTR Alt - Active Baseline\n",
      "2025 MTR Alt - Forecast SST\n",
      "2025 MTR Alt - Inactive Baseline\n",
      "2025 MTR Alt - Lower Bound\n",
      "2025 MTR Alt - Upper Bound\n",
      "HailCalc Stochastic Event Rates\n",
      "RMS 11.0 Stochastic Event Rates\n",
      "RMS 11.4 JP   Stochastic Event Rates\n",
      "RMS 11.4 JP  Long Term (Time-Independent) Rates\n",
      "RMS 17.0 AP Stochastic Event Rates\n",
      "RMS 17.0 NA   Stochastic Event Rates\n",
      "RMS 17.0 NA  Long Term (Time-Independent) Rates\n",
      "RMS 17.0 NA Atten Sensitivity for Higher than Avg Model (Time-Dependent Rates)\n",
      "RMS 17.0 NA Atten Sensitivity for Lower than Avg Model (Time-Dependent Rates)\n",
      "RMS 17.0 Stochastic Event Rates\n",
      "RMS 18.0 AU Stochastic Event Rates\n",
      "RMS 18.0 IN   Stochastic Event Rates\n",
      "RMS 18.0 KR Long Term (Time-Independent) Rates\n",
      "RMS 18.0 NA   Stochastic Event with Induced Seismicity (Time-Dependent Rates)\n",
      "RMS 18.1  Stochastic Event Rates\n",
      "RMS 18.1 Long Term (Time-Independent) Rates\n",
      "RMS 18.1 Long Term (Time-Independent) Rates \n",
      "RMS 18.1 Stochastic Event Rates\n",
      "RMS 2011 Stochastic Event Rates\n",
      "RMS 2013 Stochastic Event Rates\n",
      "RMS 2015 25yr Climate Variability Event Rates\n",
      "RMS 2015 Stochastic Event Rates\n",
      "RMS 2017 Historical Event Rates\n",
      "RMS 2017 Stochastic Event Rates\n",
      "RMS 2019 Historical Event Rates\n",
      "RMS 2019 Stochastic Event Rates\n",
      "RMS 2021 Historical Event Rates\n",
      "RMS 2021 Stochastic Event Rates\n",
      "RMS 2023 Historical Event Rates\n",
      "RMS 2023 Stochastic Event Rates\n",
      "RMS 2025 Historical Event Rates\n",
      "RMS 2025 Stochastic Event Rates\n",
      "RMS 22.0  Stochastic Event Rates\n",
      "RMS 22.0 Long Term (Time-Independent) Rates\n",
      "RMS 22.0 Stochastic Event Rates\n",
      "RMS 24.0 Long Term (Time-Independent) Rates\n",
      "RMS 24.0 Stochastic Event Rates\n",
      "RMS 9.0 NA   Stochastic Event Rates\n",
      "RMS 9.0 NA  Long Term (Time-Independent) Rates\n",
      "RMS 9.0 NA Atten Sensitivity Boore&Atkinson\n",
      "RMS 9.0 NA Atten Sensitivity Campbell&Bozorgnia\n",
      "RMS 9.0 NA Atten Sensitivity Chiou&Youngs\n",
      "RMS 9.0 Stochastic Event Rates\n",
      "RMS Stochastic (Cat) Event Rates\n",
      "RMS Stochastic (Non-Cat) Event Rates\n",
      "RMS Stochastic Event Rates\n",
      "RMS Stochastic Event Set\n"
     ]
    }
   ],
   "source": [
    "# Fetch event rate schemes\n",
    "response = irp_client.reference_data.get_event_rate_schemes()\n",
    "\n",
    "# Extract distinct names\n",
    "event_rate_scheme_names = list(set([item['eventRateSchemeName'] for item in response['items']]))\n",
    "event_rate_scheme_names.sort()\n",
    "\n",
    "for name in event_rate_scheme_names:\n",
    "    print(f\"{name}\")"
   ]
  }
 ],
 "metadata": {
  "kernelspec": {
   "display_name": "Python 3 (ipykernel)",
   "language": "python",
   "name": "python3"
  },
  "language_info": {
   "codemirror_mode": {
    "name": "ipython",
    "version": 3
   },
   "file_extension": ".py",
   "mimetype": "text/x-python",
   "name": "python",
   "nbconvert_exporter": "python",
   "pygments_lexer": "ipython3",
   "version": "3.11.6"
  }
 },
 "nbformat": 4,
 "nbformat_minor": 4
}
