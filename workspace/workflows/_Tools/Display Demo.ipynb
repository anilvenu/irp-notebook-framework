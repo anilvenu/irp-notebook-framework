{
 "cells": [
  {
   "cell_type": "markdown",
   "id": "1c958583-38ea-4538-be94-70a1de96592b",
   "metadata": {},
   "source": [
    "# Title"
   ]
  },
  {
   "cell_type": "code",
   "execution_count": 1,
   "id": "e9744744-89a2-4dbe-b2b7-5c1bc8cfc13b",
   "metadata": {},
   "outputs": [],
   "source": [
    "import pandas as pd\n",
    "import importlib\n",
    "\n",
    "from helpers import ux\n",
    "importlib.reload(ux) \n",
    "\n",
    "data = [\n",
    "    [\"irp_cycle\", \"N/A\"],\n",
    "    [\"irp_stage\", \"N/A\"],\n",
    "    [\"irp_step\", \"N/A\"],\n",
    "    [\"irp_step_run\", \"N/A\"],\n",
    "    [\"irp_batch\", \"N/A\"],\n",
    "    [\"irp_job\", \"N/A\"],\n",
    "]\n",
    "headers = [\"Table\", \"Row Count\"]\n",
    "\n",
    "df = pd.DataFrame({\n",
    "    \"stage_num\": [1, 1, 2, 2],\n",
    "    \"stage_name\": [\"Setup\", \"Setup\", \"Run\", \"Run\"],\n",
    "    \"step_num\": [1, 2, 1, 2],\n",
    "    \"step_name\": [\"Validate Config\", \"Create Tables\", \"Load Data\", \"Verify Counts\"],\n",
    "    \"last_status\": [\"completed\", \"completed\", \"running\", \"Not Started\"]\n",
    "})\n"
   ]
  },
  {
   "cell_type": "code",
   "execution_count": 2,
   "id": "a456bb1d-6b4e-476b-8d3d-f3a7094c8ea9",
   "metadata": {},
   "outputs": [
    {
     "data": {
      "text/html": [
       "<h3 style='font-weight:bold; font-size:1.1em; color:#111;'>Database Statistics</h3>"
      ],
      "text/plain": [
       "<IPython.core.display.HTML object>"
      ]
     },
     "metadata": {},
     "output_type": "display_data"
    },
    {
     "data": {
      "text/html": [
       "<h4 style='font-weight:bold; font-size:1.0em; color:#333;'>Overview</h4>"
      ],
      "text/plain": [
       "<IPython.core.display.HTML object>"
      ]
     },
     "metadata": {},
     "output_type": "display_data"
    },
    {
     "data": {
      "text/html": [
       "<span style='color:green; font-weight:bold;'>Success: Connected to database.</span>"
      ],
      "text/plain": [
       "<IPython.core.display.HTML object>"
      ]
     },
     "metadata": {},
     "output_type": "display_data"
    },
    {
     "data": {
      "text/html": [
       "<span style='color:#b58900; font-weight:bold;'>Warning: No active cycle found.</span>"
      ],
      "text/plain": [
       "<IPython.core.display.HTML object>"
      ]
     },
     "metadata": {},
     "output_type": "display_data"
    },
    {
     "data": {
      "text/html": [
       "<span style='color:#005f9e;'>Info: Default schema will be used.</span>"
      ],
      "text/plain": [
       "<IPython.core.display.HTML object>"
      ]
     },
     "metadata": {},
     "output_type": "display_data"
    },
    {
     "data": {
      "text/html": [
       "<span style='color:red; font-weight:bold;'>Error: Row count unavailable.</span>"
      ],
      "text/plain": [
       "<IPython.core.display.HTML object>"
      ]
     },
     "metadata": {},
     "output_type": "display_data"
    }
   ],
   "source": [
    "ux.header(\"Database Statistics\")\n",
    "ux.subheader(\"Overview\")\n",
    "\n",
    "ux.success(\"Success: Connected to database.\")\n",
    "ux.warning(\"Warning: No active cycle found.\")\n",
    "ux.info(\"Info: Default schema will be used.\")\n",
    "ux.error(\"Error: Row count unavailable.\")"
   ]
  },
  {
   "cell_type": "code",
   "execution_count": 3,
   "id": "40b38e7f-8a07-4d01-a2dc-cbff8b251533",
   "metadata": {},
   "outputs": [
    {
     "data": {
      "text/html": [
       "<h4 style='font-weight:bold; font-size:1.0em; color:#333;'>System Tables</h4>"
      ],
      "text/plain": [
       "<IPython.core.display.HTML object>"
      ]
     },
     "metadata": {},
     "output_type": "display_data"
    },
    {
     "data": {
      "text/html": [
       "<table border=\"1\" class=\"dataframe\">\n",
       "  <thead>\n",
       "    <tr style=\"text-align: right;\">\n",
       "      <th>Table</th>\n",
       "      <th>Row Count</th>\n",
       "    </tr>\n",
       "  </thead>\n",
       "  <tbody>\n",
       "    <tr>\n",
       "      <td>irp_cycle</td>\n",
       "      <td>N/A</td>\n",
       "    </tr>\n",
       "    <tr>\n",
       "      <td>irp_stage</td>\n",
       "      <td>N/A</td>\n",
       "    </tr>\n",
       "    <tr>\n",
       "      <td>irp_step</td>\n",
       "      <td>N/A</td>\n",
       "    </tr>\n",
       "    <tr>\n",
       "      <td>irp_step_run</td>\n",
       "      <td>N/A</td>\n",
       "    </tr>\n",
       "    <tr>\n",
       "      <td>irp_batch</td>\n",
       "      <td>N/A</td>\n",
       "    </tr>\n",
       "    <tr>\n",
       "      <td>irp_job</td>\n",
       "      <td>N/A</td>\n",
       "    </tr>\n",
       "  </tbody>\n",
       "</table>"
      ],
      "text/plain": [
       "<IPython.core.display.HTML object>"
      ]
     },
     "metadata": {},
     "output_type": "display_data"
    },
    {
     "data": {
      "text/html": [
       "<h4 style='font-weight:bold; font-size:1.0em; color:#333;'>Small DataFrame</h4>"
      ],
      "text/plain": [
       "<IPython.core.display.HTML object>"
      ]
     },
     "metadata": {},
     "output_type": "display_data"
    },
    {
     "data": {
      "text/html": [
       "<table border=\"1\" class=\"dataframe\">\n",
       "  <thead>\n",
       "    <tr style=\"text-align: right;\">\n",
       "      <th>A</th>\n",
       "      <th>B</th>\n",
       "    </tr>\n",
       "  </thead>\n",
       "  <tbody>\n",
       "    <tr>\n",
       "      <td>1</td>\n",
       "      <td>x</td>\n",
       "    </tr>\n",
       "    <tr>\n",
       "      <td>2</td>\n",
       "      <td>y</td>\n",
       "    </tr>\n",
       "    <tr>\n",
       "      <td>3</td>\n",
       "      <td>z</td>\n",
       "    </tr>\n",
       "  </tbody>\n",
       "</table>"
      ],
      "text/plain": [
       "<IPython.core.display.HTML object>"
      ]
     },
     "metadata": {},
     "output_type": "display_data"
    }
   ],
   "source": [
    "# List -> simple table\n",
    "ux.table(data, headers, title=\"System Tables\")\n",
    "\n",
    "# DataFrame -> simple pandas HTML\n",
    "small_df = pd.DataFrame({\"A\":[1,2,3], \"B\":[\"x\",\"y\",\"z\"]})\n",
    "ux.dataframe(small_df, title=\"Small DataFrame\")"
   ]
  },
  {
   "cell_type": "code",
   "execution_count": 4,
   "id": "41c49a33-c0c9-4e2e-a71b-a9b04134e9e8",
   "metadata": {},
   "outputs": [
    {
     "data": {
      "text/html": [
       "Loading Records: <b>37.0%</b> (37/100)"
      ],
      "text/plain": [
       "<IPython.core.display.HTML object>"
      ]
     },
     "metadata": {},
     "output_type": "display_data"
    }
   ],
   "source": [
    "ux.pgbar(current=37, total=100, title=\"Loading Records\")"
   ]
  },
  {
   "cell_type": "code",
   "execution_count": null,
   "id": "f8682fc6-28d4-4344-8e7f-8a44544860eb",
   "metadata": {},
   "outputs": [
    {
     "data": {
      "text/html": [
       "<h3 style='font-weight:bold; font-size:1.1em; color:#111;'>Cycle: Nightly Ingest</h3>"
      ],
      "text/plain": [
       "<IPython.core.display.HTML object>"
      ]
     },
     "metadata": {},
     "output_type": "display_data"
    },
    {
     "data": {
      "text/html": [
       "<table border=\"1\" class=\"dataframe\">\n",
       "  <thead>\n",
       "    <tr style=\"text-align: right;\">\n",
       "      <th>Property</th>\n",
       "      <th>Value</th>\n",
       "    </tr>\n",
       "  </thead>\n",
       "  <tbody>\n",
       "    <tr>\n",
       "      <td>Status</td>\n",
       "      <td>running</td>\n",
       "    </tr>\n",
       "    <tr>\n",
       "      <td>Created</td>\n",
       "      <td>2025-10-14 12:15:21.660306</td>\n",
       "    </tr>\n",
       "    <tr>\n",
       "      <td>Created By</td>\n",
       "      <td>avenugopal@premiumiq.com</td>\n",
       "    </tr>\n",
       "    <tr>\n",
       "      <td>Archived</td>\n",
       "      <td>2025-10-14 12:15:21.660310</td>\n",
       "    </tr>\n",
       "  </tbody>\n",
       "</table>"
      ],
      "text/plain": [
       "<IPython.core.display.HTML object>"
      ]
     },
     "metadata": {},
     "output_type": "display_data"
    }
   ],
   "source": [
    "from datetime import datetime\n",
    "cycle = {\n",
    "    \"cycle_name\": \"Nightly Ingest\",\n",
    "    \"status\": \"running\",\n",
    "    \"created_ts\": datetime.now()\n",
    "}\n",
    "ux.cycle_summary(cycle)"
   ]
  },
  {
   "cell_type": "code",
   "execution_count": 6,
   "id": "3770f1d0-7d3b-42dc-8ade-b72500c56953",
   "metadata": {},
   "outputs": [
    {
     "data": {
      "text/html": [
       "<h4 style='font-weight:bold; font-size:1.0em; color:#333;'>Stage: Setup</h4>"
      ],
      "text/plain": [
       "<IPython.core.display.HTML object>"
      ]
     },
     "metadata": {},
     "output_type": "display_data"
    },
    {
     "data": {
      "text/html": [
       "<i>Validate Config</i>: <b>completed</b>"
      ],
      "text/plain": [
       "<IPython.core.display.HTML object>"
      ]
     },
     "metadata": {},
     "output_type": "display_data"
    },
    {
     "data": {
      "text/html": [
       "<i>Create Tables</i>: <b>completed</b>"
      ],
      "text/plain": [
       "<IPython.core.display.HTML object>"
      ]
     },
     "metadata": {},
     "output_type": "display_data"
    },
    {
     "data": {
      "text/html": [
       "<h4 style='font-weight:bold; font-size:1.0em; color:#333;'>Stage: Run</h4>"
      ],
      "text/plain": [
       "<IPython.core.display.HTML object>"
      ]
     },
     "metadata": {},
     "output_type": "display_data"
    },
    {
     "data": {
      "text/html": [
       "<i>Load Data</i>: <b>running</b>"
      ],
      "text/plain": [
       "<IPython.core.display.HTML object>"
      ]
     },
     "metadata": {},
     "output_type": "display_data"
    },
    {
     "data": {
      "text/html": [
       "<i>Verify Counts</i>: <b>Not Started</b>"
      ],
      "text/plain": [
       "<IPython.core.display.HTML object>"
      ]
     },
     "metadata": {},
     "output_type": "display_data"
    }
   ],
   "source": [
    "ux.step_progress(df)"
   ]
  },
  {
   "cell_type": "code",
   "execution_count": 7,
   "id": "5fa6d852-4052-4373-93d1-c18837bb39c0",
   "metadata": {},
   "outputs": [
    {
     "data": {
      "text/html": [
       "<h4 style='font-weight:bold; font-size:1.0em; color:#333;'>Run Settings</h4>"
      ],
      "text/plain": [
       "<IPython.core.display.HTML object>"
      ]
     },
     "metadata": {},
     "output_type": "display_data"
    },
    {
     "data": {
      "text/html": [
       "<table border=\"1\" class=\"dataframe\">\n",
       "  <thead>\n",
       "    <tr style=\"text-align: right;\">\n",
       "      <th>Key</th>\n",
       "      <th>Value</th>\n",
       "    </tr>\n",
       "  </thead>\n",
       "  <tbody>\n",
       "    <tr>\n",
       "      <td>env</td>\n",
       "      <td>dev</td>\n",
       "    </tr>\n",
       "    <tr>\n",
       "      <td>warehouse</td>\n",
       "      <td>COMPUTE_WH</td>\n",
       "    </tr>\n",
       "    <tr>\n",
       "      <td>threads</td>\n",
       "      <td>8</td>\n",
       "    </tr>\n",
       "  </tbody>\n",
       "</table>"
      ],
      "text/plain": [
       "<IPython.core.display.HTML object>"
      ]
     },
     "metadata": {},
     "output_type": "display_data"
    },
    {
     "data": {
      "text/html": [
       "<h4 style='font-weight:bold; font-size:1.0em; color:#333;'>Job Payload</h4>"
      ],
      "text/plain": [
       "<IPython.core.display.HTML object>"
      ]
     },
     "metadata": {},
     "output_type": "display_data"
    },
    {
     "data": {
      "text/html": [
       "<pre>{\n",
       "  \"job_id\": 123,\n",
       "  \"steps\": [\n",
       "    \"extract\",\n",
       "    \"transform\",\n",
       "    \"load\"\n",
       "  ],\n",
       "  \"ok\": true\n",
       "}</pre>"
      ],
      "text/plain": [
       "<IPython.core.display.HTML object>"
      ]
     },
     "metadata": {},
     "output_type": "display_data"
    },
    {
     "data": {
      "text/html": [
       "<h4>Notes</h4>"
      ],
      "text/plain": [
       "<IPython.core.display.HTML object>"
      ]
     },
     "metadata": {},
     "output_type": "display_data"
    },
    {
     "data": {
      "text/html": [
       "<p>All timings are approximate.</p>"
      ],
      "text/plain": [
       "<IPython.core.display.HTML object>"
      ]
     },
     "metadata": {},
     "output_type": "display_data"
    }
   ],
   "source": [
    "# Key–Value\n",
    "ux.display_key_value(\n",
    "    {\"env\": \"dev\", \"warehouse\": \"COMPUTE_WH\", \"threads\": 8},\n",
    "    title=\"Run Settings\"\n",
    ")\n",
    "\n",
    "# JSON\n",
    "ux.json(\n",
    "    {\"job_id\": 123, \"steps\": [\"extract\", \"transform\", \"load\"], \"ok\": True},\n",
    "    title=\"Job Payload\"\n",
    ")\n",
    "\n",
    "# Section\n",
    "ux.section(\"Notes\", \"All timings are approximate.\")\n"
   ]
  },
  {
   "cell_type": "code",
   "execution_count": 8,
   "id": "b1e05767-4e0e-4a42-9639-9fac5766c856",
   "metadata": {},
   "outputs": [
    {
     "data": {
      "text/html": [
       "<span style='color:#005f9e;'>Output cleared. (You should only see this line.)</span>"
      ],
      "text/plain": [
       "<IPython.core.display.HTML object>"
      ]
     },
     "metadata": {},
     "output_type": "display_data"
    }
   ],
   "source": [
    "ux.clear_output()\n",
    "ux.info(\"Output cleared. (You should only see this line.)\")"
   ]
  }
 ],
 "metadata": {
  "kernelspec": {
   "display_name": "Python 3 (ipykernel)",
   "language": "python",
   "name": "python3"
  },
  "language_info": {
   "codemirror_mode": {
    "name": "ipython",
    "version": 3
   },
   "file_extension": ".py",
   "mimetype": "text/x-python",
   "name": "python",
   "nbconvert_exporter": "python",
   "pygments_lexer": "ipython3",
   "version": "3.11.6"
  }
 },
 "nbformat": 4,
 "nbformat_minor": 5
}
