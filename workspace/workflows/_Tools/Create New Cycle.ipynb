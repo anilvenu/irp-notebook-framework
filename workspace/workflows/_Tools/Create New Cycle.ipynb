{
 "cells": [
  {
   "cell_type": "markdown",
   "metadata": {},
   "source": [
    "# Create New Cycle\n",
    "\n",
    "This notebook creates a new active cycle for your Risk Modeling workflow. \n",
    "\n",
    "1. Archives the current active cycle (if any)\n",
    "2. Creates a new cycle from the template\n",
    "3. Registers stages and steps in the database\n",
    "\n",
    "**Note:** Only one cycle can be active at a time."
   ]
  },
  {
   "cell_type": "code",
   "execution_count": null,
   "metadata": {
    "scrolled": true
   },
   "outputs": [],
   "source": [
    "# Import modules directly\n",
    "from system import cycle, database as db, ux\n",
    "from system.context import WorkContext\n",
    "from system.step import Step"
   ]
  },
  {
   "cell_type": "markdown",
   "metadata": {},
   "source": [
    "## Cycle Name"
   ]
  },
  {
   "cell_type": "code",
   "execution_count": 2,
   "metadata": {},
   "outputs": [],
   "source": [
    "# Modify this to your desired cycle name\n",
    "cycle_name = \"Q4_2025_Demo-Analysis\""
   ]
  },
  {
   "cell_type": "markdown",
   "metadata": {},
   "source": [
    "## Look into current cycles (if any)"
   ]
  },
  {
   "cell_type": "code",
   "execution_count": null,
   "metadata": {},
   "outputs": [
    {
     "data": {
      "text/html": [
       "<h4 style='font-weight:bold; font-size:1.0em; color:#333;'>Current Cycles</h4>"
      ],
      "text/plain": [
       "<IPython.core.display.HTML object>"
      ]
     },
     "metadata": {},
     "output_type": "display_data"
    },
    {
     "name": "stdout",
     "output_type": "stream",
     "text": [
      "No cycles found\n"
     ]
    },
    {
     "data": {
      "text/html": [
       "<span style='color:green; font-weight:bold;'>No active cycle - ready to create new cycle</span>"
      ],
      "text/plain": [
       "<IPython.core.display.HTML object>"
      ]
     },
     "metadata": {},
     "output_type": "display_data"
    }
   ],
   "source": [
    "ux.subheader(\"Current Cycles\")\n",
    "\n",
    "cycles_df = cycle.get_cycle_status()\n",
    "if not cycles_df.empty:\n",
    "    ux.dataframe(cycles_df, max_rows=10)\n",
    "else:\n",
    "    print(\"No cycles found\")\n",
    "\n",
    "# Check for active cycle\n",
    "active_cycle = db.get_active_cycle()\n",
    "if active_cycle:\n",
    "    print(f\"\\nActive cycle exists: {active_cycle['cycle_name']}\")\n",
    "    print(\"This will be archived when creating a new cycle\")\n",
    "    raise Warning(\"Active cycle detected. Please review before creating a new cycle.\")\n",
    "else:\n",
    "    ux.success(\"No active cycle - ready to create new cycle\")"
   ]
  },
  {
   "cell_type": "code",
   "execution_count": null,
   "metadata": {},
   "outputs": [
    {
     "data": {
      "text/html": [
       "<h4 style='font-weight:bold; font-size:1.0em; color:#333;'>Validating Cycle Name</h4>"
      ],
      "text/plain": [
       "<IPython.core.display.HTML object>"
      ]
     },
     "metadata": {},
     "output_type": "display_data"
    },
    {
     "name": "stdout",
     "output_type": "stream",
     "text": [
      "Proposed cycle name: Q4_2025_Demo-Analysis\n"
     ]
    },
    {
     "data": {
      "text/html": [
       "<span style='color:green; font-weight:bold;'>Valid</span>"
      ],
      "text/plain": [
       "<IPython.core.display.HTML object>"
      ]
     },
     "metadata": {},
     "output_type": "display_data"
    }
   ],
   "source": [
    "ux.subheader(\"Validating Cycle Name\")\n",
    "print(f\"Proposed cycle name: {cycle_name}\")\n",
    "\n",
    "# Validate the name\n",
    "valid, message = cycle.validate_cycle_name(cycle_name)\n",
    "\n",
    "if valid:\n",
    "    ux.success(message)\n",
    "else:\n",
    "    ux.error(f\"\\nPlease modify the cycle_name above and re-run this cell. {message}\")\n",
    "    raise RuntimeError(message)\n",
    "    "
   ]
  },
  {
   "cell_type": "code",
   "execution_count": null,
   "metadata": {},
   "outputs": [
    {
     "data": {
      "text/html": [
       "<h3 style='font-weight:bold; font-size:1.1em; color:#111;'>Creating Cycle: Q4_2025_Demo-Analysis</h3>"
      ],
      "text/plain": [
       "<IPython.core.display.HTML object>"
      ]
     },
     "metadata": {},
     "output_type": "display_data"
    },
    {
     "name": "stdout",
     "output_type": "stream",
     "text": [
      "\n",
      "Creating cycle: Q4_2025_Demo-Analysis\n",
      "Created directory: /home/jovyan/workspace/workflows/Active_Q4_2025_Demo-Analysis\n",
      "Registered 1 stages with steps\n",
      "\n",
      "Cycle 'Q4_2025_Demo-Analysis' created successfully\n"
     ]
    },
    {
     "data": {
      "text/html": [
       "<h3 style='font-weight:bold; font-size:1.1em; color:#111;'>CYCLE CREATED SUCCESSFULLY</h3>"
      ],
      "text/plain": [
       "<IPython.core.display.HTML object>"
      ]
     },
     "metadata": {},
     "output_type": "display_data"
    },
    {
     "data": {
      "text/html": [
       "<h3 style='font-weight:bold; font-size:1.1em; color:#111;'>Cycle: Q4_2025_Demo-Analysis</h3>"
      ],
      "text/plain": [
       "<IPython.core.display.HTML object>"
      ]
     },
     "metadata": {},
     "output_type": "display_data"
    },
    {
     "data": {
      "text/html": [
       "<table border=\"1\" class=\"dataframe\">\n",
       "  <thead>\n",
       "    <tr style=\"text-align: right;\">\n",
       "      <th>Property</th>\n",
       "      <th>Value</th>\n",
       "    </tr>\n",
       "  </thead>\n",
       "  <tbody>\n",
       "    <tr>\n",
       "      <td>Status</td>\n",
       "      <td>active</td>\n",
       "    </tr>\n",
       "    <tr>\n",
       "      <td>Created</td>\n",
       "      <td>2025-10-10 17:44:24.341276+00:00</td>\n",
       "    </tr>\n",
       "    <tr>\n",
       "      <td>Created By</td>\n",
       "      <td>notebook_user</td>\n",
       "    </tr>\n",
       "  </tbody>\n",
       "</table>"
      ],
      "text/plain": [
       "<IPython.core.display.HTML object>"
      ]
     },
     "metadata": {},
     "output_type": "display_data"
    }
   ],
   "source": [
    "# Creating the cycle\n",
    "if valid:\n",
    "    ux.header(f\"Creating Cycle: {cycle_name}\")\n",
    "    \n",
    "    # Create the cycle\n",
    "    success = cycle.create_cycle(cycle_name)\n",
    "    \n",
    "    if success:\n",
    "        ux.header(\"CYCLE CREATED SUCCESSFULLY\")\n",
    "        \n",
    "        # Show the new cycle\n",
    "        new_cycle = db.get_active_cycle()\n",
    "        if new_cycle:\n",
    "            ux.cycle_summary(new_cycle)\n",
    "        \n",
    "        # Show directory structure\n",
    "        from pathlib import Path\n",
    "        active_dir = Path(f\"home/jovyan/workspace/workflows/Active_{cycle_name}\")\n",
    "        \n",
    "        if active_dir.exists():\n",
    "            ux.subheader(\"Directory Structure\")\n",
    "            print(f\"📁 {active_dir}\\n\")\n",
    "            \n",
    "            for item in sorted(active_dir.iterdir()):\n",
    "                if item.is_dir():\n",
    "                    print(f\"  📂 {item.name}/\")\n",
    "                    if item.name == 'notebooks':\n",
    "                        for subitem in sorted(item.iterdir()):\n",
    "                            if subitem.is_dir():\n",
    "                                print(f\"      📂 {subitem.name}/\")\n",
    "    else:\n",
    "        ux.error(\"Failed to create cycle\")\n",
    "else:\n",
    "    ux.warning(\"Please fix the cycle name and try again\")"
   ]
  },
  {
   "cell_type": "code",
   "execution_count": null,
   "metadata": {},
   "outputs": [
    {
     "data": {
      "text/html": [
       "<h3 style='font-weight:bold; font-size:1.1em; color:#111;'>Verification</h3>"
      ],
      "text/plain": [
       "<IPython.core.display.HTML object>"
      ]
     },
     "metadata": {},
     "output_type": "display_data"
    },
    {
     "data": {
      "text/html": [
       "<span style='color:green; font-weight:bold;'>Active cycle in database: Q4_2025_Demo-Analysis</span>"
      ],
      "text/plain": [
       "<IPython.core.display.HTML object>"
      ]
     },
     "metadata": {},
     "output_type": "display_data"
    },
    {
     "data": {
      "text/html": [
       "<span style='color:green; font-weight:bold;'>Active directory found: Active_Q4_2025_Demo-Analysis</span>"
      ],
      "text/plain": [
       "<IPython.core.display.HTML object>"
      ]
     },
     "metadata": {},
     "output_type": "display_data"
    },
    {
     "data": {
      "text/html": [
       "<h4 style='font-weight:bold; font-size:1.0em; color:#333;'>The cycle has 2 steps</h4>"
      ],
      "text/plain": [
       "<IPython.core.display.HTML object>"
      ]
     },
     "metadata": {},
     "output_type": "display_data"
    },
    {
     "data": {
      "text/html": [
       "<h4 style='font-weight:bold; font-size:1.0em; color:#333;'>Stage: Setup</h4>"
      ],
      "text/plain": [
       "<IPython.core.display.HTML object>"
      ]
     },
     "metadata": {},
     "output_type": "display_data"
    },
    {
     "data": {
      "text/html": [
       "<i>Initialize</i>: <b>None</b>"
      ],
      "text/plain": [
       "<IPython.core.display.HTML object>"
      ]
     },
     "metadata": {},
     "output_type": "display_data"
    },
    {
     "data": {
      "text/html": [
       "<i>Validate</i>: <b>None</b>"
      ],
      "text/plain": [
       "<IPython.core.display.HTML object>"
      ]
     },
     "metadata": {},
     "output_type": "display_data"
    }
   ],
   "source": [
    "ux.header(\"Verification\")\n",
    "\n",
    "# Check database\n",
    "active_cycle = db.get_active_cycle()\n",
    "if active_cycle:\n",
    "    ux.success(f\"Active cycle in database: {active_cycle['cycle_name']}\")\n",
    "else:\n",
    "    ux.error(\"No active cycle in database\")\n",
    "\n",
    "# Check filesystem\n",
    "from pathlib import Path\n",
    "workflows_path = Path('/home/jovyan/workspace/workflows')\n",
    "active_dirs = [d for d in workflows_path.iterdir() if d.is_dir() and d.name.startswith('Active_')]\n",
    "\n",
    "if active_dirs:\n",
    "    ux.success(f\"Active directory found: {active_dirs[0].name}\")\n",
    "else:\n",
    "    ux.error(\"No active directory found\")\n",
    "\n",
    "# Show registered steps\n",
    "if active_cycle:\n",
    "    progress_df = cycle.get_cycle_progress(active_cycle['cycle_name'])\n",
    "    if not progress_df.empty:\n",
    "        ux.subheader(f\"The cycle has {len(progress_df)} steps\")\n",
    "        ux.step_progress(progress_df)\n",
    "    else:\n",
    "        ux.warning(\"No stages and steps - template may be empty\")"
   ]
  },
  {
   "cell_type": "markdown",
   "metadata": {},
   "source": [
    "---"
   ]
  }
 ],
 "metadata": {
  "kernelspec": {
   "display_name": "Python 3 (ipykernel)",
   "language": "python",
   "name": "python3"
  },
  "language_info": {
   "codemirror_mode": {
    "name": "ipython",
    "version": 3
   },
   "file_extension": ".py",
   "mimetype": "text/x-python",
   "name": "python",
   "nbconvert_exporter": "python",
   "pygments_lexer": "ipython3",
   "version": "3.11.6"
  }
 },
 "nbformat": 4,
 "nbformat_minor": 4
}
