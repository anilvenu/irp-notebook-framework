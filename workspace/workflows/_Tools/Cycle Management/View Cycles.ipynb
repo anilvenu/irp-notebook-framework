{
 "cells": [
  {
   "cell_type": "markdown",
   "metadata": {},
   "source": [
    "# View Cycles"
   ]
  },
  {
   "cell_type": "code",
   "execution_count": 1,
   "metadata": {
    "scrolled": true
   },
   "outputs": [],
   "source": [
    "# Import modules directly\n",
    "from helpers import cycle, database as db, ux\n",
    "from helpers.context import WorkContext\n",
    "from helpers.step import Step\n",
    "from helpers import constants"
   ]
  },
  {
   "cell_type": "markdown",
   "metadata": {},
   "source": [
    "## Look into current cycles (if any)"
   ]
  },
  {
   "cell_type": "code",
   "execution_count": 2,
   "metadata": {},
   "outputs": [
    {
     "data": {
      "text/html": [
       "<h3 style='font-weight:bold; font-size:1.1em; color:#111;'>All Cycles...</h3>"
      ],
      "text/plain": [
       "<IPython.core.display.HTML object>"
      ]
     },
     "metadata": {},
     "output_type": "display_data"
    },
    {
     "data": {
      "text/html": [
       "<table border=\"1\" class=\"dataframe\">\n",
       "  <thead>\n",
       "    <tr style=\"text-align: right;\">\n",
       "      <th>id</th>\n",
       "      <th>cycle_name</th>\n",
       "      <th>status</th>\n",
       "      <th>created_ts</th>\n",
       "      <th>archived_ts</th>\n",
       "      <th>created_by</th>\n",
       "    </tr>\n",
       "  </thead>\n",
       "  <tbody>\n",
       "    <tr>\n",
       "      <td>1</td>\n",
       "      <td>Analysis-2025-Q4-v3</td>\n",
       "      <td>ACTIVE</td>\n",
       "      <td>2025-10-15 14:45:03.572305+00:00</td>\n",
       "      <td>None</td>\n",
       "      <td>notebook_user</td>\n",
       "    </tr>\n",
       "  </tbody>\n",
       "</table>"
      ],
      "text/plain": [
       "<IPython.core.display.HTML object>"
      ]
     },
     "metadata": {},
     "output_type": "display_data"
    }
   ],
   "source": [
    "ux.header(\"All Cycles...\")\n",
    "\n",
    "cycles_df = cycle.get_cycle_status()\n",
    "if not cycles_df.empty:\n",
    "    ux.dataframe(cycles_df, max_rows=10)\n",
    "else:\n",
    "    print(\"No cycles found\")"
   ]
  },
  {
   "cell_type": "code",
   "execution_count": 4,
   "metadata": {},
   "outputs": [
    {
     "data": {
      "text/html": [
       "<h3 style='font-weight:bold; font-size:1.1em; color:#111;'>Active Cycle Details</h3>"
      ],
      "text/plain": [
       "<IPython.core.display.HTML object>"
      ]
     },
     "metadata": {},
     "output_type": "display_data"
    },
    {
     "data": {
      "text/html": [
       "<span style='color:green; font-weight:bold;'>Active cycle in database: Analysis-2025-Q4-v3</span>"
      ],
      "text/plain": [
       "<IPython.core.display.HTML object>"
      ]
     },
     "metadata": {},
     "output_type": "display_data"
    },
    {
     "data": {
      "text/html": [
       "<span style='color:green; font-weight:bold;'>Active directory found: Active_Analysis-2025-Q4-v3</span>"
      ],
      "text/plain": [
       "<IPython.core.display.HTML object>"
      ]
     },
     "metadata": {},
     "output_type": "display_data"
    },
    {
     "data": {
      "text/html": [
       "<h4 style='font-weight:bold; font-size:1.0em; color:#333;'>The cycle has 2 steps</h4>"
      ],
      "text/plain": [
       "<IPython.core.display.HTML object>"
      ]
     },
     "metadata": {},
     "output_type": "display_data"
    },
    {
     "data": {
      "text/html": [
       "<h4 style='font-weight:bold; font-size:1.0em; color:#333;'>Stage: Setup</h4>"
      ],
      "text/plain": [
       "<IPython.core.display.HTML object>"
      ]
     },
     "metadata": {},
     "output_type": "display_data"
    },
    {
     "data": {
      "text/html": [
       "<i>Initialize</i>: <b>None</b>"
      ],
      "text/plain": [
       "<IPython.core.display.HTML object>"
      ]
     },
     "metadata": {},
     "output_type": "display_data"
    },
    {
     "data": {
      "text/html": [
       "<i>Validate</i>: <b>None</b>"
      ],
      "text/plain": [
       "<IPython.core.display.HTML object>"
      ]
     },
     "metadata": {},
     "output_type": "display_data"
    }
   ],
   "source": [
    "ux.header(\"Active Cycle Details\")\n",
    "\n",
    "# Check database\n",
    "active_cycle = db.get_active_cycle()\n",
    "if active_cycle:\n",
    "    ux.success(f\"Active cycle in database: {active_cycle['cycle_name']}\")\n",
    "else:\n",
    "    ux.error(\"No active cycle in database\")\n",
    "\n",
    "# Check filesystem\n",
    "from pathlib import Path\n",
    "workflows_path = Path('/home/jovyan/workspace/workflows')\n",
    "active_dirs = [d for d in workflows_path.iterdir() if d.is_dir() and d.name.startswith('Active_')]\n",
    "\n",
    "if active_dirs:\n",
    "    ux.success(f\"Active directory found: {active_dirs[0].name}\")\n",
    "else:\n",
    "    ux.error(\"No active directory found\")\n",
    "\n",
    "# Show registered steps\n",
    "if active_cycle:\n",
    "    progress_df = cycle.get_cycle_progress(active_cycle['cycle_name'])\n",
    "    if not progress_df.empty:\n",
    "        ux.subheader(f\"The cycle has {len(progress_df)} steps\")\n",
    "        ux.step_progress(progress_df)\n",
    "    else:\n",
    "        ux.warning(\"No stages and steps - template may be empty\")"
   ]
  },
  {
   "cell_type": "markdown",
   "metadata": {},
   "source": [
    "---"
   ]
  }
 ],
 "metadata": {
  "kernelspec": {
   "display_name": "Python 3 (ipykernel)",
   "language": "python",
   "name": "python3"
  },
  "language_info": {
   "codemirror_mode": {
    "name": "ipython",
    "version": 3
   },
   "file_extension": ".py",
   "mimetype": "text/x-python",
   "name": "python",
   "nbconvert_exporter": "python",
   "pygments_lexer": "ipython3",
   "version": "3.11.6"
  }
 },
 "nbformat": 4,
 "nbformat_minor": 4
}
