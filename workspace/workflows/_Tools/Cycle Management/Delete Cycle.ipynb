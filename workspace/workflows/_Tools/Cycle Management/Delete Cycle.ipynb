{
 "cells": [
  {
   "cell_type": "markdown",
   "metadata": {},
   "source": [
    "# Delete Cycle\n",
    "\n",
    "This notebook permanently deletes active cycle from your Risk Modeling workflow. \n",
    "\n",
    "1. Deletes the _Active directory \n",
    "2. Removes the cycle, stages and steps from the database\n",
    "\n",
    "**Note:** This action cannot be reversed!"
   ]
  },
  {
   "cell_type": "code",
   "execution_count": 1,
   "metadata": {
    "scrolled": true
   },
   "outputs": [],
   "source": [
    "import shutil\n",
    "from helpers import cycle, database as db, ux, constants\n",
    "from helpers.context import WorkContext\n",
    "from helpers.step import Step"
   ]
  },
  {
   "cell_type": "markdown",
   "metadata": {},
   "source": [
    "## Look into current cycles (if any)"
   ]
  },
  {
   "cell_type": "code",
   "execution_count": 2,
   "metadata": {},
   "outputs": [
    {
     "data": {
      "text/plain": [
       "'/home/jovyan/workspace/workflows/_Tools/Cycle Management'"
      ]
     },
     "execution_count": 2,
     "metadata": {},
     "output_type": "execute_result"
    }
   ],
   "source": [
    "import os\n",
    "os.getcwd()"
   ]
  },
  {
   "cell_type": "code",
   "execution_count": 3,
   "metadata": {
    "scrolled": true
   },
   "outputs": [
    {
     "data": {
      "text/html": [
       "<h4 style='font-weight:bold; font-size:1.0em; color:#333;'>Current Cycles</h4>"
      ],
      "text/plain": [
       "<IPython.core.display.HTML object>"
      ]
     },
     "metadata": {},
     "output_type": "display_data"
    },
    {
     "data": {
      "text/html": [
       "<table border=\"1\" class=\"dataframe\">\n",
       "  <thead>\n",
       "    <tr style=\"text-align: right;\">\n",
       "      <th>id</th>\n",
       "      <th>cycle_name</th>\n",
       "      <th>status</th>\n",
       "      <th>created_ts</th>\n",
       "      <th>archived_ts</th>\n",
       "      <th>created_by</th>\n",
       "    </tr>\n",
       "  </thead>\n",
       "  <tbody>\n",
       "    <tr>\n",
       "      <td>4</td>\n",
       "      <td>Analysis-2025-Q4</td>\n",
       "      <td>ACTIVE</td>\n",
       "      <td>2025-10-15 03:26:52.990430+00:00</td>\n",
       "      <td>None</td>\n",
       "      <td>notebook_user</td>\n",
       "    </tr>\n",
       "  </tbody>\n",
       "</table>"
      ],
      "text/plain": [
       "<IPython.core.display.HTML object>"
      ]
     },
     "metadata": {},
     "output_type": "display_data"
    },
    {
     "name": "stdin",
     "output_type": "stream",
     "text": [
      "Do you want to delete Analysis-2025-Q4? (y/n):  y\n"
     ]
    }
   ],
   "source": [
    "ux.subheader(\"Current Cycles\")\n",
    "\n",
    "cycles_df = cycle.get_cycle_status()\n",
    "if not cycles_df.empty:\n",
    "    ux.dataframe(cycles_df, max_rows=10)\n",
    "else:\n",
    "    print(\"No cycles found\")\n",
    "\n",
    "# Check for active cycle\n",
    "active_cycle = db.get_active_cycle()\n",
    "if active_cycle:\n",
    "    if ux.yes_no(f\"Do you want to delete {active_cycle['cycle_name']}?\"):\n",
    "        shutil.rmtree(constants.WORKFLOWS_PATH / f\"Active_{active_cycle['cycle_name']}\")\n",
    "        db.delete_cycle((active_cycle['id'],))\n",
    "    else:\n",
    "        ux.error(\"Execution stopped.\")\n",
    "        sys.exit()\n",
    "else:\n",
    "    print(\"No active cycle\")"
   ]
  },
  {
   "cell_type": "markdown",
   "metadata": {},
   "source": [
    "---"
   ]
  }
 ],
 "metadata": {
  "kernelspec": {
   "display_name": "Python 3 (ipykernel)",
   "language": "python",
   "name": "python3"
  },
  "language_info": {
   "codemirror_mode": {
    "name": "ipython",
    "version": 3
   },
   "file_extension": ".py",
   "mimetype": "text/x-python",
   "name": "python",
   "nbconvert_exporter": "python",
   "pygments_lexer": "ipython3",
   "version": "3.11.6"
  }
 },
 "nbformat": 4,
 "nbformat_minor": 4
}
