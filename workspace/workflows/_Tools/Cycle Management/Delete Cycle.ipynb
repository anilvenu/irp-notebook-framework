{
 "cells": [
  {
   "cell_type": "markdown",
   "metadata": {},
   "source": [
    "# Delete Cycle\n",
    "\n",
    "This notebook permanently deletes active cycle from your Risk Modeling workflow. \n",
    "\n",
    "1. Deletes the _Active directory \n",
    "2. Removes the cycle, stages and steps from the database\n",
    "\n",
    "**Note:** This action cannot be reversed!"
   ]
  },
  {
   "cell_type": "code",
   "execution_count": 5,
   "metadata": {
    "scrolled": true
   },
   "outputs": [],
   "source": [
    "import shutil\n",
    "import sys\n",
    "from helpers import cycle, database as db, ux, constants\n",
    "from helpers.context import WorkContext\n",
    "from helpers.step import Step"
   ]
  },
  {
   "cell_type": "markdown",
   "metadata": {},
   "source": [
    "## Look into current cycles (if any)"
   ]
  },
  {
   "cell_type": "code",
   "execution_count": 2,
   "metadata": {},
   "outputs": [
    {
     "data": {
      "text/plain": [
       "'/home/jovyan/workspace/workflows/_Tools/Cycle Management'"
      ]
     },
     "execution_count": 2,
     "metadata": {},
     "output_type": "execute_result"
    }
   ],
   "source": [
    "import os\n",
    "os.getcwd()"
   ]
  },
  {
   "cell_type": "code",
   "execution_count": 8,
   "metadata": {},
   "outputs": [
    {
     "data": {
      "text/html": [
       "<h4 style='font-weight:bold; font-size:1.0em; color:#333;'>Current Cycles</h4>"
      ],
      "text/plain": [
       "<IPython.core.display.HTML object>"
      ]
     },
     "metadata": {},
     "output_type": "display_data"
    },
    {
     "data": {
      "text/html": [
       "<table border=\"1\" class=\"dataframe\">\n",
       "  <thead>\n",
       "    <tr style=\"text-align: right;\">\n",
       "      <th>id</th>\n",
       "      <th>cycle_name</th>\n",
       "      <th>status</th>\n",
       "      <th>created_ts</th>\n",
       "      <th>archived_ts</th>\n",
       "    </tr>\n",
       "  </thead>\n",
       "  <tbody>\n",
       "    <tr>\n",
       "      <td>4</td>\n",
       "      <td>Analysis-2025-Q2-v4</td>\n",
       "      <td>ACTIVE</td>\n",
       "      <td>2025-10-20 03:20:45.660191+00:00</td>\n",
       "      <td>NaT</td>\n",
       "    </tr>\n",
       "    <tr>\n",
       "      <td>3</td>\n",
       "      <td>Analysis-2025-Q2-v3</td>\n",
       "      <td>ARCHIVED</td>\n",
       "      <td>2025-10-20 03:16:18.610099+00:00</td>\n",
       "      <td>2025-10-20 03:20:45.648453+00:00</td>\n",
       "    </tr>\n",
       "    <tr>\n",
       "      <td>2</td>\n",
       "      <td>Analysis-2025-Q2-v2</td>\n",
       "      <td>ARCHIVED</td>\n",
       "      <td>2025-10-20 03:08:33.300002+00:00</td>\n",
       "      <td>2025-10-20 03:16:18.597217+00:00</td>\n",
       "    </tr>\n",
       "    <tr>\n",
       "      <td>1</td>\n",
       "      <td>Analysis-2025-Q2</td>\n",
       "      <td>ARCHIVED</td>\n",
       "      <td>2025-10-20 03:04:18.291231+00:00</td>\n",
       "      <td>2025-10-20 03:08:33.284032+00:00</td>\n",
       "    </tr>\n",
       "  </tbody>\n",
       "</table>"
      ],
      "text/plain": [
       "<IPython.core.display.HTML object>"
      ]
     },
     "metadata": {},
     "output_type": "display_data"
    },
    {
     "name": "stdin",
     "output_type": "stream",
     "text": [
      "Do you want to delete Analysis-2025-Q2-v4? (y/n):  n\n"
     ]
    },
    {
     "data": {
      "text/html": [
       "<span style='color:red; font-weight:bold;'>Execution stopped.</span>"
      ],
      "text/plain": [
       "<IPython.core.display.HTML object>"
      ]
     },
     "metadata": {},
     "output_type": "display_data"
    }
   ],
   "source": [
    "ux.subheader(\"Current Cycles\")\n",
    "\n",
    "cycles_df = cycle.get_cycle_status()\n",
    "if not cycles_df.empty:\n",
    "    ux.dataframe(cycles_df, max_rows=10)\n",
    "else:\n",
    "    ux.info(\"No cycles found\")\n",
    "\n",
    "# Check for active cycle\n",
    "active_cycle = cycle.get_active_cycle()\n",
    "if active_cycle:\n",
    "    if ux.yes_no(f\"Do you want to delete {active_cycle['cycle_name']}?\"):\n",
    "        shutil.rmtree(constants.WORKFLOWS_PATH / f\"Active_{active_cycle['cycle_name']}\")\n",
    "        db.delete_cycle((active_cycle['id'],))\n",
    "    else:\n",
    "        ux.error(\"Execution stopped.\")\n",
    "        exit\n",
    "else:\n",
    "    ux.info(\"No active cycle\")"
   ]
  },
  {
   "cell_type": "markdown",
   "metadata": {},
   "source": [
    "## Cleanup Active_ directori(es)"
   ]
  },
  {
   "cell_type": "code",
   "execution_count": 11,
   "metadata": {},
   "outputs": [
    {
     "data": {
      "text/html": [
       "<span style='color:#b58900; font-weight:bold;'>Active directory found: Active_Analysis-2025-Q2-v4, Active_Analysis-2020-Q1-twiceagain</span>"
      ],
      "text/plain": [
       "<IPython.core.display.HTML object>"
      ]
     },
     "metadata": {},
     "output_type": "display_data"
    },
    {
     "name": "stdin",
     "output_type": "stream",
     "text": [
      "Do you want to delete Active_Analysis-2025-Q2-v4? (y/n):  y\n"
     ]
    },
    {
     "data": {
      "text/html": [
       "<span style='color:green; font-weight:bold;'>Deleted /home/jovyan/workspace/workflows/Active_Analysis-2025-Q2-v4</span>"
      ],
      "text/plain": [
       "<IPython.core.display.HTML object>"
      ]
     },
     "metadata": {},
     "output_type": "display_data"
    },
    {
     "name": "stdin",
     "output_type": "stream",
     "text": [
      "Do you want to delete Active_Analysis-2020-Q1-twiceagain? (y/n):  y\n"
     ]
    },
    {
     "data": {
      "text/html": [
       "<span style='color:green; font-weight:bold;'>Deleted /home/jovyan/workspace/workflows/Active_Analysis-2020-Q1-twiceagain</span>"
      ],
      "text/plain": [
       "<IPython.core.display.HTML object>"
      ]
     },
     "metadata": {},
     "output_type": "display_data"
    }
   ],
   "source": [
    "# Check filesystem\n",
    "from pathlib import Path\n",
    "workflows_path = Path('/home/jovyan/workspace/workflows')\n",
    "active_dirs = [d for d in workflows_path.iterdir() if d.is_dir() and d.name.startswith('Active_')]\n",
    "if active_dirs:\n",
    "    ux.warning(f\"Active directory found: {', '.join(d.name for d in active_dirs)}\")\n",
    "    for active_dir in active_dirs:\n",
    "        if ux.yes_no(f\"Do you want to delete {active_dir.name}?\"):\n",
    "            shutil.rmtree(constants.WORKFLOWS_PATH / active_dir.name) \n",
    "            ux.success(f\"Deleted {constants.WORKFLOWS_PATH / active_dir.name}\") \n",
    "        else:\n",
    "            ux.warning(f\"Retaining {constants.WORKFLOWS_PATH / active_dir.name}\") \n",
    "            continue\n",
    "else:\n",
    "    ux.info(\"No active directory found\")"
   ]
  },
  {
   "cell_type": "markdown",
   "metadata": {},
   "source": [
    "---"
   ]
  }
 ],
 "metadata": {
  "kernelspec": {
   "display_name": "Python 3 (ipykernel)",
   "language": "python",
   "name": "python3"
  },
  "language_info": {
   "codemirror_mode": {
    "name": "ipython",
    "version": 3
   },
   "file_extension": ".py",
   "mimetype": "text/x-python",
   "name": "python",
   "nbconvert_exporter": "python",
   "pygments_lexer": "ipython3",
   "version": "3.11.6"
  }
 },
 "nbformat": 4,
 "nbformat_minor": 4
}
