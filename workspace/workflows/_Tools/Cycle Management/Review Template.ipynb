{
 "cells": [
  {
   "cell_type": "code",
   "execution_count": 1,
   "id": "7380d7c0-d522-4547-9517-1494a4442c9e",
   "metadata": {},
   "outputs": [],
   "source": [
    "import pandas as pd\n",
    "from IPython.display import display, Markdown, HTML\n",
    "from helpers import cycle, ux, notebook"
   ]
  },
  {
   "cell_type": "code",
   "execution_count": 2,
   "id": "5bda31d9-2497-452c-a24a-150a8a6c1b8d",
   "metadata": {},
   "outputs": [],
   "source": [
    "pd.set_option('display.max_rows', None)\n",
    "pd.set_option('display.max_colwidth', None)"
   ]
  },
  {
   "cell_type": "code",
   "execution_count": 3,
   "id": "a6a1ac7a-070b-45fd-8674-4e0282030257",
   "metadata": {
    "scrolled": true
   },
   "outputs": [
    {
     "data": {
      "text/html": [
       "<h3 style='font-weight:bold; font-size:1.1em; color:#111;'>Template Symmary</h3>"
      ],
      "text/plain": [
       "<IPython.core.display.HTML object>"
      ]
     },
     "metadata": {},
     "output_type": "display_data"
    },
    {
     "data": {
      "text/html": [
       "<table border=\"1\" class=\"dataframe\">\n",
       "  <thead>\n",
       "    <tr style=\"text-align: right;\">\n",
       "      <th>stage_id</th>\n",
       "      <th>stage_name</th>\n",
       "      <th>step_id</th>\n",
       "      <th>step_name</th>\n",
       "    </tr>\n",
       "  </thead>\n",
       "  <tbody>\n",
       "    <tr>\n",
       "      <td>1</td>\n",
       "      <td>Setup</td>\n",
       "      <td>1</td>\n",
       "      <td>Initialize</td>\n",
       "    </tr>\n",
       "    <tr>\n",
       "      <td>1</td>\n",
       "      <td>Setup</td>\n",
       "      <td>2</td>\n",
       "      <td>Validate</td>\n",
       "    </tr>\n",
       "  </tbody>\n",
       "</table>"
      ],
      "text/plain": [
       "<IPython.core.display.HTML object>"
      ]
     },
     "metadata": {},
     "output_type": "display_data"
    }
   ],
   "source": [
    "template = pd.DataFrame(cycle.get_stages_and_steps())\n",
    "template['md'] = template['notebook'].apply(notebook.extract_top_markdown)\n",
    "ux.header(\"Template Symmary\")\n",
    "ux.dataframe(template[['stage_id', 'stage_name', 'step_id', 'step_name']])"
   ]
  },
  {
   "cell_type": "code",
   "execution_count": 4,
   "id": "m3ua7dekt1r",
   "metadata": {
    "scrolled": true
   },
   "outputs": [
    {
     "data": {
      "text/html": [
       "<h1>Stage 1: Setup - Step 1: Initialize</h1>"
      ],
      "text/plain": [
       "<IPython.core.display.HTML object>"
      ]
     },
     "metadata": {},
     "output_type": "display_data"
    },
    {
     "data": {
      "text/html": [
       "<p><strong>Notebook:</strong> <code>/home/jovyan/workspace/workflows/_Template/notebooks/Stage_01_Setup/Step_01_Initialize.ipynb</code></p>"
      ],
      "text/plain": [
       "<IPython.core.display.HTML object>"
      ]
     },
     "metadata": {},
     "output_type": "display_data"
    },
    {
     "data": {
      "text/markdown": [
       "# Stage 01: Setup \n",
       "## Step 01: Initialize\n",
       "\n",
       "This step initializes the workflow and validates the environment.\n",
       "\n",
       "**Purpose:**\n",
       "- Verify database connectivity\n",
       "- Validate cycle configuration\n",
       "- Set up working directories\n",
       "- Initialize logging"
      ],
      "text/plain": [
       "<IPython.core.display.Markdown object>"
      ]
     },
     "metadata": {},
     "output_type": "display_data"
    },
    {
     "data": {
      "text/html": [
       "<hr>"
      ],
      "text/plain": [
       "<IPython.core.display.HTML object>"
      ]
     },
     "metadata": {},
     "output_type": "display_data"
    },
    {
     "data": {
      "text/html": [
       "<h1>Stage 1: Setup - Step 2: Validate</h1>"
      ],
      "text/plain": [
       "<IPython.core.display.HTML object>"
      ]
     },
     "metadata": {},
     "output_type": "display_data"
    },
    {
     "data": {
      "text/html": [
       "<p><strong>Notebook:</strong> <code>/home/jovyan/workspace/workflows/_Template/notebooks/Stage_01_Setup/Step_02_Validate.ipynb</code></p>"
      ],
      "text/plain": [
       "<IPython.core.display.HTML object>"
      ]
     },
     "metadata": {},
     "output_type": "display_data"
    },
    {
     "data": {
      "text/markdown": [
       "# Stage 1: Setup - Step 2: Validate Configuration\n",
       "\n",
       "This step validates that all required configurations and files are in place.\n",
       "\n",
       "**Purpose:**\n",
       "- Check for required configuration files\n",
       "- Validate file formats\n",
       "- Verify data integrity\n",
       "- Report any issues"
      ],
      "text/plain": [
       "<IPython.core.display.Markdown object>"
      ]
     },
     "metadata": {},
     "output_type": "display_data"
    },
    {
     "data": {
      "text/html": [
       "<hr>"
      ],
      "text/plain": [
       "<IPython.core.display.HTML object>"
      ]
     },
     "metadata": {},
     "output_type": "display_data"
    }
   ],
   "source": [
    "# Display each row with rendered markdown\n",
    "for idx, row in template.iterrows():\n",
    "    display(HTML(f\"<h1>Stage {row['stage_id']}: {row['stage_name']} - Step {row['step_id']}: {row['step_name']}</h1>\"))\n",
    "    display(HTML(f\"<p><strong>Notebook:</strong> <code>{row['notebook']}</code></p>\"))\n",
    "    if row['md']:\n",
    "        display(Markdown(row['md']))\n",
    "    else:\n",
    "        display(HTML(\"<p><em>No markdown content found</em></p>\"))\n",
    "    display(HTML(\"<hr>\"))"
   ]
  },
  {
   "cell_type": "markdown",
   "id": "e32ccbb2-e552-47a8-ade3-30897fbd4470",
   "metadata": {},
   "source": [
    "---"
   ]
  }
 ],
 "metadata": {
  "kernelspec": {
   "display_name": "Python 3 (ipykernel)",
   "language": "python",
   "name": "python3"
  },
  "language_info": {
   "codemirror_mode": {
    "name": "ipython",
    "version": 3
   },
   "file_extension": ".py",
   "mimetype": "text/x-python",
   "name": "python",
   "nbconvert_exporter": "python",
   "pygments_lexer": "ipython3",
   "version": "3.11.6"
  }
 },
 "nbformat": 4,
 "nbformat_minor": 5
}
