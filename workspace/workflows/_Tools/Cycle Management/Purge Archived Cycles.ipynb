{
 "cells": [
  {
   "cell_type": "markdown",
   "metadata": {},
   "source": [
    "# Purge Archive Cycles\n",
    "\n",
    "This notebook creates a new active cycle for your Risk Modeling workflow. \n",
    "\n",
    "1. Removes contents from _Archive (if any)\n",
    "2. Deletes ARCHIVED Cycles"
   ]
  },
  {
   "cell_type": "code",
   "execution_count": 1,
   "metadata": {},
   "outputs": [],
   "source": [
    "import shutil\n",
    "import os\n",
    "from helpers import cycle, constants"
   ]
  },
  {
   "cell_type": "code",
   "execution_count": 2,
   "metadata": {},
   "outputs": [],
   "source": [
    "parent_directory_path = constants.WORKFLOWS_PATH / \"_Archive\"\n",
    "for item in os.listdir(parent_directory_path):\n",
    "    item_path = os.path.join(parent_directory_path, item)\n",
    "    if os.path.isfile(item_path):\n",
    "        os.remove(item_path)  # Remove files\n",
    "    elif os.path.isdir(item_path):\n",
    "        shutil.rmtree(item_path) # Remove subdirectories and their contents"
   ]
  },
  {
   "cell_type": "code",
   "execution_count": 3,
   "metadata": {},
   "outputs": [
    {
     "name": "stdout",
     "output_type": "stream",
     "text": [
      "Deleted 1 cycle(s) from archive\n"
     ]
    }
   ],
   "source": [
    "deleted = cycle.delete_archived_cycles()\n",
    "print(f\"Deleted {deleted} cycle(s) from archive\")"
   ]
  },
  {
   "cell_type": "markdown",
   "metadata": {},
   "source": [
    "---"
   ]
  }
 ],
 "metadata": {
  "kernelspec": {
   "display_name": "Python 3 (ipykernel)",
   "language": "python",
   "name": "python3"
  },
  "language_info": {
   "codemirror_mode": {
    "name": "ipython",
    "version": 3
   },
   "file_extension": ".py",
   "mimetype": "text/x-python",
   "name": "python",
   "nbconvert_exporter": "python",
   "pygments_lexer": "ipython3",
   "version": "3.11.6"
  }
 },
 "nbformat": 4,
 "nbformat_minor": 4
}
