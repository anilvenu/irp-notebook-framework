{
 "cells": [
  {
   "cell_type": "markdown",
   "metadata": {},
   "source": [
    "# Create New Cycle\n",
    "\n",
    "This notebook creates a new active cycle for your Risk Modeling workflow. \n",
    "\n",
    "1. Archives the current active cycle (if any)\n",
    "2. Creates a new cycle from the template\n",
    "3. Registers stages and steps in the database\n",
    "\n",
    "**Note:** Only one cycle can be active at a time."
   ]
  },
  {
   "cell_type": "code",
   "execution_count": 1,
   "metadata": {
    "scrolled": true
   },
   "outputs": [],
   "source": [
    "# Import modules directly\n",
    "from helpers import cycle, database as db, ux\n",
    "from helpers.context import WorkContext\n",
    "from helpers.step import Step\n",
    "from helpers import constants"
   ]
  },
  {
   "cell_type": "markdown",
   "metadata": {},
   "source": [
    "## Cycle Name"
   ]
  },
  {
   "cell_type": "code",
   "execution_count": 2,
   "metadata": {},
   "outputs": [
    {
     "name": "stdout",
     "output_type": "stream",
     "text": [
      "Enter cycle name to proceed (e.g., Analysis-2025-Q4 OR Analysis-2025-Q4-v1) (enter 'cancel' to stop)\n"
     ]
    },
    {
     "name": "stdin",
     "output_type": "stream",
     "text": [
      ">  Analysis-2021-Q1\n"
     ]
    },
    {
     "data": {
      "text/html": [
       "<span style='color:#005f9e;'>Cycle name: Analysis-2021-Q1!</span>"
      ],
      "text/plain": [
       "<IPython.core.display.HTML object>"
      ]
     },
     "metadata": {},
     "output_type": "display_data"
    }
   ],
   "source": [
    "new_cycle_name = ux.text_input(\"Enter cycle name to proceed\", placeholder = constants.CYCLE_NAME_RULES['example'], validation=cycle.validate_cycle_name)\n",
    "if new_cycle_name is None:\n",
    "    ux.error(\"Text input was canceled, execution stopped.\")\n",
    "    sys.exit()\n",
    "ux.info(f\"Cycle name: {new_cycle_name}!\")"
   ]
  },
  {
   "cell_type": "markdown",
   "metadata": {},
   "source": [
    "## Look into current cycles (if any)"
   ]
  },
  {
   "cell_type": "code",
   "execution_count": 3,
   "metadata": {},
   "outputs": [
    {
     "data": {
      "text/html": [
       "<h4 style='font-weight:bold; font-size:1.0em; color:#333;'>Current Cycles</h4>"
      ],
      "text/plain": [
       "<IPython.core.display.HTML object>"
      ]
     },
     "metadata": {},
     "output_type": "display_data"
    },
    {
     "name": "stdout",
     "output_type": "stream",
     "text": [
      "No cycles found\n"
     ]
    },
    {
     "data": {
      "text/html": [
       "<span style='color:green; font-weight:bold;'>No active cycle - ready to create new cycle</span>"
      ],
      "text/plain": [
       "<IPython.core.display.HTML object>"
      ]
     },
     "metadata": {},
     "output_type": "display_data"
    }
   ],
   "source": [
    "ux.subheader(\"Current Cycles\")\n",
    "\n",
    "cycles_df = cycle.get_cycle_status()\n",
    "if not cycles_df.empty:\n",
    "    ux.dataframe(cycles_df, max_rows=10)\n",
    "else:\n",
    "    print(\"No cycles found\")\n",
    "\n",
    "# Check for active cycle\n",
    "active_cycle = db.get_active_cycle()\n",
    "if active_cycle:\n",
    "    ux.error(f\"\\nActive cycle exists: {active_cycle['cycle_name']}\")\n",
    "\n",
    "    if ux.yes_no(\"This will be archived when creating a new cycle. Do you wish to proceed?\"):\n",
    "        ux.warning(\"Proceeding with archival of {active_cycle['cycle_name']} and creation of \")\n",
    "    else:\n",
    "        ux.error(\"Execution stopped.\")\n",
    "        sys.exit()\n",
    "\n",
    "\n",
    "else:\n",
    "    ux.success(\"No active cycle - ready to create new cycle\")"
   ]
  },
  {
   "cell_type": "code",
   "execution_count": 14,
   "metadata": {
    "scrolled": true
   },
   "outputs": [
    {
     "data": {
      "text/html": [
       "<h3 style='font-weight:bold; font-size:1.1em; color:#111;'>Creating Cycle: Analysis-2025-Q4</h3>"
      ],
      "text/plain": [
       "<IPython.core.display.HTML object>"
      ]
     },
     "metadata": {},
     "output_type": "display_data"
    },
    {
     "name": "stdout",
     "output_type": "stream",
     "text": [
      "0 1\n",
      "--\n",
      "\n",
      "Creating cycle: Analysis-2025-Q4\n",
      "Created directory: /home/jovyan/workspace/workflows/Active_Analysis-2025-Q4\n",
      "Stage: 1 - Setup\n",
      "Step: 1 - Initialize\n",
      "Step: 2 - Validate\n",
      "0 4\n",
      "--\n",
      "1 4\n",
      "--\n",
      "2 4\n",
      "--\n",
      "3 4\n",
      "--\n",
      "Registering stages and steps...\n",
      "0 2\n",
      "--\n",
      "1 2\n",
      "--\n",
      "0 3\n",
      "--\n",
      "1 3\n",
      "--\n",
      "2 3\n",
      "--\n",
      "0 2\n",
      "--\n",
      "1 2\n",
      "--\n",
      "0 4\n",
      "--\n",
      "1 4\n",
      "--\n",
      "2 4\n",
      "--\n",
      "3 4\n",
      "--\n",
      "0 2\n",
      "--\n",
      "1 2\n",
      "--\n",
      "0 4\n",
      "--\n",
      "1 4\n",
      "--\n",
      "2 4\n",
      "--\n",
      "3 4\n",
      "--\n",
      "Registered 1 stages with steps\n",
      "\n",
      "Cycle 'Analysis-2025-Q4' created successfully\n"
     ]
    },
    {
     "data": {
      "text/html": [
       "<h3 style='font-weight:bold; font-size:1.1em; color:#111;'>CYCLE CREATED SUCCESSFULLY</h3>"
      ],
      "text/plain": [
       "<IPython.core.display.HTML object>"
      ]
     },
     "metadata": {},
     "output_type": "display_data"
    },
    {
     "data": {
      "text/html": [
       "<h3 style='font-weight:bold; font-size:1.1em; color:#111;'>Cycle: Analysis-2025-Q4</h3>"
      ],
      "text/plain": [
       "<IPython.core.display.HTML object>"
      ]
     },
     "metadata": {},
     "output_type": "display_data"
    },
    {
     "data": {
      "text/html": [
       "<table border=\"1\" class=\"dataframe\">\n",
       "  <thead>\n",
       "    <tr style=\"text-align: right;\">\n",
       "      <th>Property</th>\n",
       "      <th>Value</th>\n",
       "    </tr>\n",
       "  </thead>\n",
       "  <tbody>\n",
       "    <tr>\n",
       "      <td>Status</td>\n",
       "      <td>ACTIVE</td>\n",
       "    </tr>\n",
       "    <tr>\n",
       "      <td>Created</td>\n",
       "      <td>2025-10-15 03:26:52.990430+00:00</td>\n",
       "    </tr>\n",
       "    <tr>\n",
       "      <td>Created By</td>\n",
       "      <td>notebook_user</td>\n",
       "    </tr>\n",
       "  </tbody>\n",
       "</table>"
      ],
      "text/plain": [
       "<IPython.core.display.HTML object>"
      ]
     },
     "metadata": {},
     "output_type": "display_data"
    },
    {
     "data": {
      "text/html": [
       "<h4 style='font-weight:bold; font-size:1.0em; color:#333;'>Directory Structure</h4>"
      ],
      "text/plain": [
       "<IPython.core.display.HTML object>"
      ]
     },
     "metadata": {},
     "output_type": "display_data"
    },
    {
     "name": "stdout",
     "output_type": "stream",
     "text": [
      "📁 /home/jovyan/workspace/workflows/Active_Analysis-2025-Q4\n",
      "\n",
      "  📂 files/\n",
      "  📂 logs/\n",
      "  📂 notebooks/\n",
      "      📂 Stage_01_Setup/\n"
     ]
    }
   ],
   "source": [
    "# Creating the cycle\n",
    "ux.header(f\"Creating Cycle: {new_cycle_name}\")\n",
    "\n",
    "# Create the cycle\n",
    "success = cycle.create_cycle(new_cycle_name)\n",
    "\n",
    "if success:\n",
    "    ux.header(\"CYCLE CREATED SUCCESSFULLY\")\n",
    "    \n",
    "    # Show the new cycle\n",
    "    new_cycle = db.get_active_cycle()\n",
    "    if new_cycle:\n",
    "        ux.cycle_summary(new_cycle)\n",
    "    \n",
    "    # Show directory structure\n",
    "    from pathlib import Path\n",
    "    active_dir = Path(f\"{constants.WORKFLOWS_PATH}/Active_{new_cycle_name}\")\n",
    "    \n",
    "    if active_dir.exists():\n",
    "        ux.subheader(\"Directory Structure\")\n",
    "        print(f\"📁 {active_dir}\\n\")\n",
    "        \n",
    "        for item in sorted(active_dir.iterdir()):\n",
    "            if item.is_dir():\n",
    "                print(f\"  📂 {item.name}/\")\n",
    "                if item.name == 'notebooks':\n",
    "                    for subitem in sorted(item.iterdir()):\n",
    "                        if subitem.is_dir():\n",
    "                            print(f\"      📂 {subitem.name}/\")\n",
    "else:\n",
    "    ux.error(\"Failed to create cycle\")"
   ]
  },
  {
   "cell_type": "code",
   "execution_count": 4,
   "metadata": {},
   "outputs": [],
   "source": [
    "# Show directory structure\n",
    "from pathlib import Path\n",
    "active_dir = Path(f\"/home/jovyan/workspace/workflows/Active_{new_cycle_name}\")\n",
    "\n",
    "if active_dir.exists():\n",
    "    ux.subheader(\"Directory Structure\")\n",
    "    print(f\"📁 {active_dir}\\n\")\n",
    "    \n",
    "    for item in sorted(active_dir.iterdir()):\n",
    "        if item.is_dir():\n",
    "            print(f\"  📂 {item.name}/\")\n",
    "            if item.name == 'notebooks':\n",
    "                for subitem in sorted(item.iterdir()):\n",
    "                    if subitem.is_dir():\n",
    "                        print(f\"      📂 {subitem.name}/\")"
   ]
  },
  {
   "cell_type": "code",
   "execution_count": 16,
   "metadata": {},
   "outputs": [
    {
     "data": {
      "text/html": [
       "<h3 style='font-weight:bold; font-size:1.1em; color:#111;'>Verification</h3>"
      ],
      "text/plain": [
       "<IPython.core.display.HTML object>"
      ]
     },
     "metadata": {},
     "output_type": "display_data"
    },
    {
     "data": {
      "text/html": [
       "<span style='color:green; font-weight:bold;'>Active cycle in database: Analysis-2025-Q4</span>"
      ],
      "text/plain": [
       "<IPython.core.display.HTML object>"
      ]
     },
     "metadata": {},
     "output_type": "display_data"
    },
    {
     "data": {
      "text/html": [
       "<span style='color:green; font-weight:bold;'>Active directory found: Active_Analysis-2025-Q4</span>"
      ],
      "text/plain": [
       "<IPython.core.display.HTML object>"
      ]
     },
     "metadata": {},
     "output_type": "display_data"
    },
    {
     "name": "stdout",
     "output_type": "stream",
     "text": [
      "0 1\n",
      "--\n"
     ]
    },
    {
     "data": {
      "text/html": [
       "<h4 style='font-weight:bold; font-size:1.0em; color:#333;'>The cycle has 2 steps</h4>"
      ],
      "text/plain": [
       "<IPython.core.display.HTML object>"
      ]
     },
     "metadata": {},
     "output_type": "display_data"
    },
    {
     "data": {
      "text/html": [
       "<h4 style='font-weight:bold; font-size:1.0em; color:#333;'>Stage: Setup</h4>"
      ],
      "text/plain": [
       "<IPython.core.display.HTML object>"
      ]
     },
     "metadata": {},
     "output_type": "display_data"
    },
    {
     "data": {
      "text/html": [
       "<i>Initialize</i>: <b>None</b>"
      ],
      "text/plain": [
       "<IPython.core.display.HTML object>"
      ]
     },
     "metadata": {},
     "output_type": "display_data"
    },
    {
     "data": {
      "text/html": [
       "<i>Validate</i>: <b>None</b>"
      ],
      "text/plain": [
       "<IPython.core.display.HTML object>"
      ]
     },
     "metadata": {},
     "output_type": "display_data"
    }
   ],
   "source": [
    "ux.header(\"Verification\")\n",
    "\n",
    "# Check database\n",
    "active_cycle = db.get_active_cycle()\n",
    "if active_cycle:\n",
    "    ux.success(f\"Active cycle in database: {active_cycle['cycle_name']}\")\n",
    "else:\n",
    "    ux.error(\"No active cycle in database\")\n",
    "\n",
    "# Check filesystem\n",
    "from pathlib import Path\n",
    "workflows_path = Path('/home/jovyan/workspace/workflows')\n",
    "active_dirs = [d for d in workflows_path.iterdir() if d.is_dir() and d.name.startswith('Active_')]\n",
    "\n",
    "if active_dirs:\n",
    "    ux.success(f\"Active directory found: {active_dirs[0].name}\")\n",
    "else:\n",
    "    ux.error(\"No active directory found\")\n",
    "\n",
    "# Show registered steps\n",
    "if active_cycle:\n",
    "    progress_df = cycle.get_cycle_progress(active_cycle['cycle_name'])\n",
    "    if not progress_df.empty:\n",
    "        ux.subheader(f\"The cycle has {len(progress_df)} steps\")\n",
    "        ux.step_progress(progress_df)\n",
    "    else:\n",
    "        ux.warning(\"No stages and steps - template may be empty\")"
   ]
  },
  {
   "cell_type": "markdown",
   "metadata": {},
   "source": [
    "---"
   ]
  }
 ],
 "metadata": {
  "kernelspec": {
   "display_name": "Python 3 (ipykernel)",
   "language": "python",
   "name": "python3"
  },
  "language_info": {
   "codemirror_mode": {
    "name": "ipython",
    "version": 3
   },
   "file_extension": ".py",
   "mimetype": "text/x-python",
   "name": "python",
   "nbconvert_exporter": "python",
   "pygments_lexer": "ipython3",
   "version": "3.11.6"
  }
 },
 "nbformat": 4,
 "nbformat_minor": 4
}
