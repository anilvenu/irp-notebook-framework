{
 "cells": [
  {
   "cell_type": "markdown",
   "metadata": {},
   "source": [
    "# Create New Cycle\n",
    "\n",
    "This notebook creates a new active cycle for your Risk Modeling workflow. \n",
    "\n",
    "1. Archives the current active cycle (if any)\n",
    "2. Creates a new cycle from the template\n",
    "3. Registers stages and steps in the database\n",
    "\n",
    "**Note:** Only one cycle can be active at a time."
   ]
  },
  {
   "cell_type": "code",
   "execution_count": 1,
   "metadata": {
    "scrolled": true
   },
   "outputs": [],
   "source": [
    "# Import modules directly\n",
    "from helpers import cycle, ux\n",
    "from helpers.context import WorkContext\n",
    "from helpers.step import Step\n",
    "from helpers import constants"
   ]
  },
  {
   "cell_type": "markdown",
   "metadata": {},
   "source": [
    "## Look into current cycles (if any)"
   ]
  },
  {
   "cell_type": "code",
   "execution_count": 2,
   "metadata": {},
   "outputs": [
    {
     "data": {
      "text/html": [
       "<h4 style='font-weight:bold; font-size:1.0em; color:#333;'>Current Cycles</h4>"
      ],
      "text/plain": [
       "<IPython.core.display.HTML object>"
      ]
     },
     "metadata": {},
     "output_type": "display_data"
    },
    {
     "data": {
      "text/html": [
       "<table border=\"1\" class=\"dataframe\">\n",
       "  <thead>\n",
       "    <tr style=\"text-align: right;\">\n",
       "      <th>id</th>\n",
       "      <th>cycle_name</th>\n",
       "      <th>status</th>\n",
       "      <th>created_ts</th>\n",
       "      <th>archived_ts</th>\n",
       "    </tr>\n",
       "  </thead>\n",
       "  <tbody>\n",
       "    <tr>\n",
       "      <td>6</td>\n",
       "      <td>Analysis-2025-Q4-v6</td>\n",
       "      <td>ACTIVE</td>\n",
       "      <td>2025-10-20 04:13:05.331621+00:00</td>\n",
       "      <td>NaT</td>\n",
       "    </tr>\n",
       "    <tr>\n",
       "      <td>5</td>\n",
       "      <td>Analysis-2025-Q4-v5</td>\n",
       "      <td>ARCHIVED</td>\n",
       "      <td>2025-10-20 04:11:47.140962+00:00</td>\n",
       "      <td>2025-10-20 04:13:05.320616+00:00</td>\n",
       "    </tr>\n",
       "    <tr>\n",
       "      <td>4</td>\n",
       "      <td>Analysis-2025-Q2-v4</td>\n",
       "      <td>ARCHIVED</td>\n",
       "      <td>2025-10-20 03:20:45.660191+00:00</td>\n",
       "      <td>2025-10-20 04:11:47.127547+00:00</td>\n",
       "    </tr>\n",
       "  </tbody>\n",
       "</table>"
      ],
      "text/plain": [
       "<IPython.core.display.HTML object>"
      ]
     },
     "metadata": {},
     "output_type": "display_data"
    },
    {
     "data": {
      "text/html": [
       "<span style='color:red; font-weight:bold;'>\n",
       "Active cycle exists: Analysis-2025-Q4-v6</span>"
      ],
      "text/plain": [
       "<IPython.core.display.HTML object>"
      ]
     },
     "metadata": {},
     "output_type": "display_data"
    },
    {
     "name": "stdin",
     "output_type": "stream",
     "text": [
      "This will be archived when creating a new cycle. Do you wish to proceed? (y/n):  n\n"
     ]
    },
    {
     "data": {
      "text/html": [
       "<span style='color:red; font-weight:bold;'>Execution stopped by user.</span>"
      ],
      "text/plain": [
       "<IPython.core.display.HTML object>"
      ]
     },
     "metadata": {},
     "output_type": "display_data"
    },
    {
     "ename": "Exception",
     "evalue": "",
     "output_type": "error",
     "traceback": [
      "\u001b[0;31m---------------------------------------------------------------------------\u001b[0m",
      "\u001b[0;31mException\u001b[0m                                 Traceback (most recent call last)",
      "Cell \u001b[0;32mIn[2], line 18\u001b[0m\n\u001b[1;32m     16\u001b[0m     \u001b[38;5;28;01melse\u001b[39;00m:\n\u001b[1;32m     17\u001b[0m         ux\u001b[38;5;241m.\u001b[39merror(\u001b[38;5;124m\"\u001b[39m\u001b[38;5;124mExecution stopped by user.\u001b[39m\u001b[38;5;124m\"\u001b[39m)\n\u001b[0;32m---> 18\u001b[0m         \u001b[38;5;28;01mraise\u001b[39;00m \u001b[38;5;167;01mException\u001b[39;00m\n\u001b[1;32m     19\u001b[0m \u001b[38;5;28;01melse\u001b[39;00m:\n\u001b[1;32m     20\u001b[0m     ux\u001b[38;5;241m.\u001b[39msuccess(\u001b[38;5;124m\"\u001b[39m\u001b[38;5;124mNo active cycle - ready to create new cycle\u001b[39m\u001b[38;5;124m\"\u001b[39m)\n",
      "\u001b[0;31mException\u001b[0m: "
     ]
    }
   ],
   "source": [
    "ux.subheader(\"Current Cycles\")\n",
    "\n",
    "cycles_df = cycle.get_cycle_status()\n",
    "if not cycles_df.empty:\n",
    "    ux.dataframe(cycles_df, max_rows=10)\n",
    "else:\n",
    "    print(\"No cycles found\")\n",
    "\n",
    "# Check for active cycle\n",
    "active_cycle = cycle.get_active_cycle()\n",
    "if active_cycle:\n",
    "    ux.error(f\"\\nActive cycle exists: {active_cycle['cycle_name']}\")\n",
    "\n",
    "    if ux.yes_no(\"This will be archived when creating a new cycle. Do you wish to proceed?\"):\n",
    "        ux.warning(f\"Creation of new cycle below will archive {active_cycle['cycle_name']}.\")\n",
    "    else:\n",
    "        ux.error(\"Execution stopped by user.\")\n",
    "        raise Exception\n",
    "else:\n",
    "    ux.success(\"No active cycle - ready to create new cycle\")"
   ]
  },
  {
   "cell_type": "markdown",
   "metadata": {},
   "source": [
    "## New Cycle Name"
   ]
  },
  {
   "cell_type": "code",
   "execution_count": null,
   "metadata": {},
   "outputs": [],
   "source": [
    "new_cycle_name = ux.text_input(\"Enter cycle name to proceed\", placeholder = constants.CYCLE_NAME_RULES['example'], validation=cycle.validate_cycle_name)\n",
    "if new_cycle_name is None:\n",
    "    ux.error(\"Text input was canceled, execution stopped.\")\n",
    "    exit\n",
    "else:\n",
    "    ux.info(f\"Cycle name: {new_cycle_name}!\")\n",
    "    ux.warning(\"The cycle has not been created yet. It will be created in the cells below.\")"
   ]
  },
  {
   "cell_type": "markdown",
   "metadata": {},
   "source": [
    "### Creating the Cycle"
   ]
  },
  {
   "cell_type": "code",
   "execution_count": null,
   "metadata": {
    "scrolled": true
   },
   "outputs": [],
   "source": [
    "# Creating the cycle\n",
    "ux.header(f\"Creating Cycle: {new_cycle_name}\")\n",
    "\n",
    "# Create the cycle\n",
    "success = cycle.create_cycle(new_cycle_name)\n",
    "\n",
    "if success:\n",
    "    ux.header(\"CYCLE CREATED SUCCESSFULLY\")\n",
    "else:\n",
    "    ux.error(\"Failed to create cycle\")"
   ]
  },
  {
   "cell_type": "code",
   "execution_count": null,
   "metadata": {},
   "outputs": [],
   "source": [
    "# Show directory structure\n",
    "from pathlib import Path\n",
    "active_dir = Path(f\"/home/jovyan/workspace/workflows/Active_{new_cycle_name}\")\n",
    "\n",
    "if active_dir.exists():\n",
    "    ux.subheader(\"Directory Structure\")\n",
    "    print(f\"📁 {active_dir}\\n\")\n",
    "    \n",
    "    for item in sorted(active_dir.iterdir()):\n",
    "        if item.is_dir():\n",
    "            print(f\"  📂 {item.name}/\")\n",
    "            if item.name == 'notebooks':\n",
    "                for subitem in sorted(item.iterdir()):\n",
    "                    if subitem.is_dir():\n",
    "                        print(f\"      📂 {subitem.name}/\")"
   ]
  },
  {
   "cell_type": "code",
   "execution_count": null,
   "metadata": {},
   "outputs": [],
   "source": [
    "ux.header(\"Verification\")\n",
    "\n",
    "# Check database\n",
    "active_cycle = cycle.get_active_cycle()\n",
    "if active_cycle:\n",
    "    ux.success(f\"Active cycle in database: {active_cycle['cycle_name']}\")\n",
    "else:\n",
    "    ux.error(\"No active cycle in database\")\n",
    "\n",
    "# Check filesystem\n",
    "from pathlib import Path\n",
    "workflows_path = Path('/home/jovyan/workspace/workflows')\n",
    "active_dirs = [d for d in workflows_path.iterdir() if d.is_dir() and d.name.startswith('Active_')]\n",
    "\n",
    "if active_dirs:\n",
    "    ux.success(f\"Active directory found: {active_dirs[0].name}\")\n",
    "else:\n",
    "    ux.error(\"No active directory found\")\n",
    "\n",
    "# Show registered steps\n",
    "if active_cycle:\n",
    "    progress_df = cycle.get_cycle_progress(active_cycle['cycle_name'])\n",
    "    if not progress_df.empty:\n",
    "        ux.subheader(f\"The cycle has {len(progress_df)} steps\")\n",
    "        ux.step_progress(progress_df)\n",
    "    else:\n",
    "        ux.warning(\"No stages and steps - template may be empty\")"
   ]
  },
  {
   "cell_type": "markdown",
   "metadata": {},
   "source": [
    "---"
   ]
  }
 ],
 "metadata": {
  "kernelspec": {
   "display_name": "Python 3 (ipykernel)",
   "language": "python",
   "name": "python3"
  },
  "language_info": {
   "codemirror_mode": {
    "name": "ipython",
    "version": 3
   },
   "file_extension": ".py",
   "mimetype": "text/x-python",
   "name": "python",
   "nbconvert_exporter": "python",
   "pygments_lexer": "ipython3",
   "version": "3.11.6"
  }
 },
 "nbformat": 4,
 "nbformat_minor": 4
}
