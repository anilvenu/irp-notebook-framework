{
 "cells": [
  {
   "cell_type": "markdown",
   "metadata": {},
   "source": [
    "# Create New Cycle\n",
    "\n",
    "This notebook creates a new active cycle:\n",
    "1. Archives the current active cycle (if any)\n",
    "2. Creates a new cycle from the template\n",
    "3. Registers stages and steps in the database\n",
    "\n",
    "**Note:** Only one cycle can be active at a time."
   ]
  },
  {
   "cell_type": "code",
   "execution_count": 1,
   "metadata": {},
   "outputs": [
    {
     "name": "stdout",
     "output_type": "stream",
     "text": [
      "/workspace/workflows/_Tools\n"
     ]
    }
   ],
   "source": [
    "!pwd"
   ]
  },
  {
   "cell_type": "code",
   "execution_count": 8,
   "metadata": {},
   "outputs": [
    {
     "name": "stdout",
     "output_type": "stream",
     "text": [
      "✅ Cycle Manager loaded\n",
      "✅ Step Tracker loaded\n",
      "✅ Display utilities loaded\n"
     ]
    }
   ],
   "source": [
    "# Load helpers\n",
    "%run /workspace/system/helpers/02_CycleManager.ipynb\n",
    "%run /workspace/system/helpers/03_StepTracker.ipynb\n",
    "%run /workspace/system/helpers/04_Display.ipynb"
   ]
  },
  {
   "cell_type": "markdown",
   "metadata": {},
   "source": [
    "## Step 1: Check Current Status"
   ]
  },
  {
   "cell_type": "code",
   "execution_count": 3,
   "metadata": {},
   "outputs": [
    {
     "name": "stdout",
     "output_type": "stream",
     "text": [
      "============================================================\n",
      " Current Cycles\n",
      "============================================================\n",
      "No cycles found\n",
      "\n",
      "✅ No active cycle - ready to create new cycle\n"
     ]
    }
   ],
   "source": [
    "# Check current cycles\n",
    "print_header(\"Current Cycles\")\n",
    "\n",
    "cycles_df = get_cycle_status()\n",
    "if not cycles_df.empty:\n",
    "    display_dataframe(cycles_df, max_rows=10)\n",
    "else:\n",
    "    print(\"No cycles found\")\n",
    "\n",
    "# Check for active cycle\n",
    "active_cycle = get_active_cycle()\n",
    "if active_cycle:\n",
    "    print(f\"\\n⚠️  Active cycle exists: {active_cycle['cycle_name']}\")\n",
    "    print(\"   This will be archived when creating a new cycle\")\n",
    "else:\n",
    "    print(\"\\n✅ No active cycle - ready to create new cycle\")"
   ]
  },
  {
   "cell_type": "markdown",
   "metadata": {},
   "source": [
    "## Step 2: Enter New Cycle Name"
   ]
  },
  {
   "cell_type": "code",
   "execution_count": 4,
   "metadata": {},
   "outputs": [
    {
     "name": "stdout",
     "output_type": "stream",
     "text": [
      "============================================================\n",
      " Create New Cycle\n",
      "============================================================\n",
      "Proposed cycle name: Q1_2024_Analysis\n",
      "✅ Valid\n"
     ]
    }
   ],
   "source": [
    "# Get cycle name from user\n",
    "print_header(\"Create New Cycle\")\n",
    "\n",
    "# TODO: modify this to use input() for interactive use\n",
    "cycle_name = \"Q1_2024_Analysis\"  # Change this to your desired cycle name\n",
    "\n",
    "print(f\"Proposed cycle name: {cycle_name}\")\n",
    "\n",
    "# Validate the name\n",
    "valid, message = validate_cycle_name(cycle_name)\n",
    "if valid:\n",
    "    print(f\"✅ {message}\")\n",
    "else:\n",
    "    print(f\"❌ {message}\")\n",
    "    print(\"\\nPlease modify the cycle_name above and run this cell again\")"
   ]
  },
  {
   "cell_type": "markdown",
   "metadata": {},
   "source": [
    "## Step 3: Create the Cycle\n",
    "\n",
    "**Warning:** This will archive any existing active cycle!"
   ]
  },
  {
   "cell_type": "code",
   "execution_count": 5,
   "metadata": {},
   "outputs": [
    {
     "name": "stdout",
     "output_type": "stream",
     "text": [
      "============================================================\n",
      " Creating Cycle: Q1_2024_Analysis\n",
      "============================================================\n",
      "📁 Created directory: /workspace/workflows/Active_Q1_2024_Analysis\n",
      "✅ Registered 1 stages with steps\n",
      "✅ Cycle 'Q1_2024_Analysis' created successfully\n",
      "\n",
      "============================================================\n",
      "✅ CYCLE CREATED SUCCESSFULLY\n",
      "============================================================\n",
      "============================================================\n",
      " Cycle: Q1_2024_Analysis\n",
      "============================================================\n",
      "+------------+---------------------+\n",
      "| Property   | Value               |\n",
      "+============+=====================+\n",
      "| Status     | active              |\n",
      "+------------+---------------------+\n",
      "| Created    | 2025-10-04 01:44:47 |\n",
      "+------------+---------------------+\n",
      "| Created By | notebook_user       |\n",
      "+------------+---------------------+\n",
      "| Stages     | 0                   |\n",
      "+------------+---------------------+\n",
      "| Steps      | 0                   |\n",
      "+------------+---------------------+\n",
      "\n",
      "📁 Active directory: /workspace/workflows/Active_Q1_2024_Analysis\n",
      "\n",
      "Directory structure:\n",
      "  📁 files/\n",
      "  📁 logs/\n",
      "  📁 notebooks/\n",
      "      📁 Stage_01_Setup/\n"
     ]
    }
   ],
   "source": [
    "# Create the new cycle\n",
    "if valid:\n",
    "    print_header(f\"Creating Cycle: {cycle_name}\")\n",
    "    \n",
    "    success = create_new_cycle(cycle_name)\n",
    "    \n",
    "    if success:\n",
    "        print(\"\\n\" + \"=\" * 60)\n",
    "        print(\"✅ CYCLE CREATED SUCCESSFULLY\")\n",
    "        print(\"=\" * 60)\n",
    "        \n",
    "        # Show the new cycle info\n",
    "        new_cycle = get_active_cycle()\n",
    "        if new_cycle:\n",
    "            display_cycle_summary(new_cycle)\n",
    "        \n",
    "        # Show directory structure\n",
    "        active_dir = WORKFLOWS_PATH / f\"Active_{cycle_name}\"\n",
    "        if active_dir.exists():\n",
    "            print(f\"\\n📁 Active directory: {active_dir}\")\n",
    "            print(\"\\nDirectory structure:\")\n",
    "            for item in sorted(active_dir.iterdir()):\n",
    "                if item.is_dir():\n",
    "                    print(f\"  📁 {item.name}/\")\n",
    "                    # Show subdirectories for notebooks\n",
    "                    if item.name == 'notebooks':\n",
    "                        for subitem in sorted(item.iterdir()):\n",
    "                            if subitem.is_dir():\n",
    "                                print(f\"      📁 {subitem.name}/\")\n",
    "    else:\n",
    "        print(\"\\n❌ Failed to create cycle\")\n",
    "else:\n",
    "    print(\"\\n⚠️  Please fix the cycle name and try again\")"
   ]
  },
  {
   "cell_type": "markdown",
   "metadata": {},
   "source": [
    "## Step 4: Verify Creation"
   ]
  },
  {
   "cell_type": "code",
   "execution_count": 9,
   "metadata": {},
   "outputs": [
    {
     "name": "stdout",
     "output_type": "stream",
     "text": [
      "============================================================\n",
      " Verification\n",
      "============================================================\n",
      "✅ Active cycle in database: Q1_2024_Analysis\n",
      "✅ Active directory found: Active_Q1_2024_Analysis\n",
      "\n",
      "📊 Registered 2 steps:\n",
      "\n",
      "📁 Stage 1: Setup\n",
      "  --------------------------------------------------\n",
      "  🔒 Step 1: Initialize\n",
      "      Status: ⭕ Not Started\n",
      "  🔒 Step 2: Validate\n",
      "      Status: ⭕ Not Started\n"
     ]
    }
   ],
   "source": [
    "# Verify the cycle was created\n",
    "print_header(\"Verification\")\n",
    "\n",
    "# Check database\n",
    "active_cycle = get_active_cycle()\n",
    "if active_cycle:\n",
    "    print(f\"✅ Active cycle in database: {active_cycle['cycle_name']}\")\n",
    "else:\n",
    "    print(\"❌ No active cycle in database\")\n",
    "\n",
    "# Check filesystem\n",
    "active_dirs = [d for d in WORKFLOWS_PATH.iterdir() if d.is_dir() and d.name.startswith('Active_')]\n",
    "if active_dirs:\n",
    "    print(f\"✅ Active directory found: {active_dirs[0].name}\")\n",
    "else:\n",
    "    print(\"❌ No active directory found\")\n",
    "\n",
    "# Show stages and steps\n",
    "if active_cycle:\n",
    "    progress_df = get_current_progress(active_cycle['cycle_name'])\n",
    "    if not progress_df.empty:\n",
    "        print(f\"\\n📊 Registered {len(progress_df)} steps:\")\n",
    "        display_step_progress(progress_df)\n",
    "    else:\n",
    "        print(\"\\n⚠️  No steps registered - template may be empty\")"
   ]
  }
 ],
 "metadata": {
  "kernelspec": {
   "display_name": "Python 3 (ipykernel)",
   "language": "python",
   "name": "python3"
  },
  "language_info": {
   "codemirror_mode": {
    "name": "ipython",
    "version": 3
   },
   "file_extension": ".py",
   "mimetype": "text/x-python",
   "name": "python",
   "nbconvert_exporter": "python",
   "pygments_lexer": "ipython3",
   "version": "3.11.6"
  }
 },
 "nbformat": 4,
 "nbformat_minor": 4
}
